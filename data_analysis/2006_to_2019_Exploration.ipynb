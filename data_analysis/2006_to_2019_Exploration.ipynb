{
 "cells": [
  {
   "cell_type": "markdown",
   "metadata": {},
   "source": [
    "# 2006 to 2019 Data Exploration and Cleaning"
   ]
  },
  {
   "cell_type": "code",
   "execution_count": 1,
   "metadata": {},
   "outputs": [],
   "source": [
    "import pandas as pd\n",
    "import matplotlib.pyplot as plt\n",
    "import plotly_express as px\n",
    "import seaborn as sns\n",
    "\n",
    "import warnings\n",
    "warnings.simplefilter('ignore')\n",
    "import statsmodels.formula.api as smf"
   ]
  },
  {
   "cell_type": "markdown",
   "metadata": {},
   "source": [
    "## Goal of Exploration notebook: \n",
    "- Examine dataset\n",
    "- Look at columns\n",
    "- Clean and rename if needed\n",
    "- Export as clean csv\n",
    "\n",
    "## Questions to be explored in analysis folder\n",
    "- Question 1: highest and lowest happiness ratings recently (2019)?\n",
    "- Question 2: how have happiness ratings changed since 2006 regionally?\n",
    "- Question 3: correlation between GDP (income inequality) and happiness?\n",
    "- Question 4: correlation between social support and happiness?\n",
    "- Question 5: correlation between health (life expectancy) and happiness?\n",
    "- Question 6: correlation between faith in gvt vs happiness?\n",
    "- Question 7: correlation between affect vs. happiness?"
   ]
  },
  {
   "cell_type": "markdown",
   "metadata": {},
   "source": [
    "## Initial Prelim Analysis of data 2006-2019"
   ]
  },
  {
   "cell_type": "markdown",
   "metadata": {},
   "source": [
    "#### Load data into a data frame called hap_comp_df"
   ]
  },
  {
   "cell_type": "code",
   "execution_count": 2,
   "metadata": {},
   "outputs": [],
   "source": [
    "hap_comp_df = pd.read_csv('../data/raw_data/06_to_19.csv')"
   ]
  },
  {
   "cell_type": "markdown",
   "metadata": {
    "slideshow": {
     "slide_type": "slide"
    }
   },
   "source": [
    "#### Investigate my dataset and eyeball"
   ]
  },
  {
   "cell_type": "code",
   "execution_count": 3,
   "metadata": {},
   "outputs": [
    {
     "data": {
      "text/plain": [
       "(1821, 27)"
      ]
     },
     "execution_count": 3,
     "metadata": {},
     "output_type": "execute_result"
    }
   ],
   "source": [
    "hap_comp_df.shape"
   ]
  },
  {
   "cell_type": "code",
   "execution_count": 4,
   "metadata": {},
   "outputs": [
    {
     "data": {
      "text/plain": [
       "array(['iso_alpha', 'Country name', 'year', 'Life Ladder',\n",
       "       'Log GDP per capita', 'Social support',\n",
       "       'Healthy life expectancy at birth', 'Freedom to make life choices',\n",
       "       'Generosity', 'Perceptions of corruption', 'Positive affect',\n",
       "       'Negative affect', 'Confidence in national government',\n",
       "       'Democratic Quality', 'Delivery Quality',\n",
       "       'Standard deviation of ladder by country-year',\n",
       "       'Standard deviation/Mean of ladder by country-year',\n",
       "       'GINI index (World Bank estimate)',\n",
       "       'GINI index (World Bank estimate), average 2000-2017, unbalanced panel',\n",
       "       'gini of household income reported in Gallup, by wp5-year',\n",
       "       'Most people can be trusted, Gallup',\n",
       "       'Most people can be trusted, WVS round 1981-1984',\n",
       "       'Most people can be trusted, WVS round 1989-1993',\n",
       "       'Most people can be trusted, WVS round 1994-1998',\n",
       "       'Most people can be trusted, WVS round 1999-2004',\n",
       "       'Most people can be trusted, WVS round 2005-2009',\n",
       "       'Most people can be trusted, WVS round 2010-2014'], dtype=object)"
      ]
     },
     "execution_count": 4,
     "metadata": {},
     "output_type": "execute_result"
    }
   ],
   "source": [
    "hap_comp_df.columns.values"
   ]
  },
  {
   "cell_type": "markdown",
   "metadata": {},
   "source": [
    "#### Initial Observations\n",
    "- The data recorded in the columns:\n",
    "    - `Country name`- the country/location name\n",
    "    - `year`- the year the data represents\n",
    "    - `Life Ladder`- measure of happiness based on life satisfaction from a scale of 0 to 10 (also known as the Cantril Scale in the Gallup World Poll)\n",
    "    - `Log GDP per capita`: self-explanatory\n",
    "    - `Social support`: self-reported binary measure of \"if you were in trouble, do you have relatives or friends you can count on to help you whenever you need them or not\"\n",
    "    - `Healthy life expectancy at birth`: life expectancy\n",
    "    - `Confidence in national government`, `Perceptions of corruption`: measures of trust and faith in the government.\n",
    "    - `Democratic Quality`: measure of political stability and absence of violence\n",
    "    - `Delivery Quality`: \n",
    "    - `Freedom to make life choices`: an indicator of individualism\n",
    "    - charitable `Generosity`: self-reported evaluation of generosity\n",
    "    - `Positive affect`: average from self-reported measures to 3 questions regarding experiencing feelings of happiness, smiling/laughing, and enjoyment\n",
    "    - `Negative affect`: average from self-reported measures to 3 questions regarding experiencing feelings of worry, sadness, and anger\n",
    "    - `Most people can be trusted`: levels of trust in others, seems to be from a longitudinal dataset that goes even further back. \n",
    "    - `GINI index (World Bank estimate)`: income variable\n",
    "    - `GINI index (World Bank estimate), average 2000-2017, unbalanced panel`: average of GINI index (World Bank estimate) from available years\n",
    "    - `gini of household income reported in Gallup, by wp5-year`: actual GINI measure for income inequality, standardized between different currencies"
   ]
  },
  {
   "cell_type": "markdown",
   "metadata": {},
   "source": [
    "#### Rename columns"
   ]
  },
  {
   "cell_type": "code",
   "execution_count": 5,
   "metadata": {},
   "outputs": [],
   "source": [
    "#Renaming columns\n",
    "name_dict = {\n",
    "    'Country name': 'country',\n",
    "    'Life Ladder': 'happiness_rating',\n",
    "    'Log GDP per capita': 'GDP_per_capita',\n",
    "    'Social support':'social_support_rating',\n",
    "    'Healthy life expectancy at birth':'life_expectancy',\n",
    "    'Positive affect':'positive_affect',\n",
    "    'Negative affect':'negative_affect',\n",
    "    'Perceptions of corruption': 'corruption_perceptions',\n",
    "    'Democratic Quality': 'democratic_quality',\n",
    "    'Delivery Quality': 'delivery_quality',\n",
    "    'Confidence in national government': 'confidence_gvt',\n",
    "    'gini of household income reported in Gallup, by wp5-year': 'income_inequality',\n",
    "    'Most people can be trusted, WVS round 1981-1984': 'trust_81_to_84',\n",
    "    'Most people can be trusted, WVS round 1989-1993': 'trust_89_to_93',\n",
    "    'Most people can be trusted, WVS round 1994-1998': 'trust_94_to_98',\n",
    "    'Most people can be trusted, WVS round 1999-2004': 'trust_99_to_04',\n",
    "    'Most people can be trusted, WVS round 2005-2009': 'trust_05_to_09',\n",
    "    'Most people can be trusted, WVS round 2010-2014': 'trust_10_to_14',}\n",
    "hap_comp_df = hap_comp_df.rename(columns = name_dict)"
   ]
  },
  {
   "cell_type": "code",
   "execution_count": 6,
   "metadata": {},
   "outputs": [],
   "source": [
    "# Making clean csv with these changes\n",
    "hap_comp_df.to_csv('../data/cleaned_data/06_19_hap_cleaned.csv')"
   ]
  },
  {
   "cell_type": "code",
   "execution_count": null,
   "metadata": {},
   "outputs": [],
   "source": []
  }
 ],
 "metadata": {
  "kernelspec": {
   "display_name": "Python 3",
   "language": "python",
   "name": "python3"
  },
  "language_info": {
   "codemirror_mode": {
    "name": "ipython",
    "version": 3
   },
   "file_extension": ".py",
   "mimetype": "text/x-python",
   "name": "python",
   "nbconvert_exporter": "python",
   "pygments_lexer": "ipython3",
   "version": "3.7.3"
  }
 },
 "nbformat": 4,
 "nbformat_minor": 2
}
