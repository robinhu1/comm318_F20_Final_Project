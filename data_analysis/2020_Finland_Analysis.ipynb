{
 "cells": [
  {
   "cell_type": "markdown",
   "metadata": {},
   "source": [
    "# 2020 Finland Analysis"
   ]
  },
  {
   "cell_type": "code",
   "execution_count": 1,
   "metadata": {},
   "outputs": [],
   "source": [
    "import pandas as pd\n",
    "import matplotlib.pyplot as plt\n",
    "import plotly_express as px\n",
    "import seaborn as sns\n",
    "import datetime as dt\n",
    "\n",
    "import warnings\n",
    "warnings.simplefilter('ignore')\n",
    "import statsmodels.formula.api as smf"
   ]
  },
  {
   "cell_type": "markdown",
   "metadata": {},
   "source": [
    "##  Some things explored\n",
    "- initial exploration of cleaned datasets for happiness and cases in Finland\n",
    "- different methods of visualizing happiness vs. cases data (daily, weekly, monthly, interpolated)"
   ]
  },
  {
   "cell_type": "markdown",
   "metadata": {},
   "source": [
    "## Load cleaned csv's into df"
   ]
  },
  {
   "cell_type": "code",
   "execution_count": 2,
   "metadata": {},
   "outputs": [],
   "source": [
    "finland_hap_filter = pd.read_csv('../data/cleaned_data/2020/finland_hap_cleaned.csv')\n",
    "finland_cov=pd.read_csv('../data/cleaned_data/2020/finland_covid.csv')"
   ]
  },
  {
   "cell_type": "code",
   "execution_count": 3,
   "metadata": {
    "scrolled": false
   },
   "outputs": [
    {
     "data": {
      "text/html": [
       "<div>\n",
       "<style scoped>\n",
       "    .dataframe tbody tr th:only-of-type {\n",
       "        vertical-align: middle;\n",
       "    }\n",
       "\n",
       "    .dataframe tbody tr th {\n",
       "        vertical-align: top;\n",
       "    }\n",
       "\n",
       "    .dataframe thead th {\n",
       "        text-align: right;\n",
       "    }\n",
       "</style>\n",
       "<table border=\"1\" class=\"dataframe\">\n",
       "  <thead>\n",
       "    <tr style=\"text-align: right;\">\n",
       "      <th></th>\n",
       "      <th>Unnamed: 0</th>\n",
       "      <th>date</th>\n",
       "      <th>week</th>\n",
       "      <th>region</th>\n",
       "      <th>mental_health_condition</th>\n",
       "      <th>age</th>\n",
       "      <th>gender</th>\n",
       "      <th>happiness_rating</th>\n",
       "    </tr>\n",
       "  </thead>\n",
       "  <tbody>\n",
       "    <tr>\n",
       "      <th>0</th>\n",
       "      <td>1008</td>\n",
       "      <td>2020-04-27</td>\n",
       "      <td>week 2</td>\n",
       "      <td>Etelä-Suomi</td>\n",
       "      <td>Yes</td>\n",
       "      <td>40</td>\n",
       "      <td>Male</td>\n",
       "      <td>5.0</td>\n",
       "    </tr>\n",
       "    <tr>\n",
       "      <th>1</th>\n",
       "      <td>1009</td>\n",
       "      <td>2020-04-27</td>\n",
       "      <td>week 2</td>\n",
       "      <td>Länsi-Suomi</td>\n",
       "      <td>No</td>\n",
       "      <td>43</td>\n",
       "      <td>Male</td>\n",
       "      <td>7.0</td>\n",
       "    </tr>\n",
       "    <tr>\n",
       "      <th>2</th>\n",
       "      <td>1010</td>\n",
       "      <td>2020-04-27</td>\n",
       "      <td>week 2</td>\n",
       "      <td>Etelä-Suomi</td>\n",
       "      <td>No</td>\n",
       "      <td>20</td>\n",
       "      <td>Female</td>\n",
       "      <td>8.0</td>\n",
       "    </tr>\n",
       "    <tr>\n",
       "      <th>3</th>\n",
       "      <td>1011</td>\n",
       "      <td>2020-04-27</td>\n",
       "      <td>week 2</td>\n",
       "      <td>Etelä-Suomi</td>\n",
       "      <td>No</td>\n",
       "      <td>52</td>\n",
       "      <td>Male</td>\n",
       "      <td>0.0</td>\n",
       "    </tr>\n",
       "    <tr>\n",
       "      <th>4</th>\n",
       "      <td>1012</td>\n",
       "      <td>2020-04-27</td>\n",
       "      <td>week 2</td>\n",
       "      <td>Etelä-Suomi</td>\n",
       "      <td>No</td>\n",
       "      <td>47</td>\n",
       "      <td>Male</td>\n",
       "      <td>7.0</td>\n",
       "    </tr>\n",
       "    <tr>\n",
       "      <th>...</th>\n",
       "      <td>...</td>\n",
       "      <td>...</td>\n",
       "      <td>...</td>\n",
       "      <td>...</td>\n",
       "      <td>...</td>\n",
       "      <td>...</td>\n",
       "      <td>...</td>\n",
       "      <td>...</td>\n",
       "    </tr>\n",
       "    <tr>\n",
       "      <th>15050</th>\n",
       "      <td>16058</td>\n",
       "      <td>2020-11-16</td>\n",
       "      <td>week 16</td>\n",
       "      <td>Pohjois- ja Itä-Suomi</td>\n",
       "      <td>No</td>\n",
       "      <td>72</td>\n",
       "      <td>Female</td>\n",
       "      <td>8.0</td>\n",
       "    </tr>\n",
       "    <tr>\n",
       "      <th>15051</th>\n",
       "      <td>16059</td>\n",
       "      <td>2020-11-16</td>\n",
       "      <td>week 16</td>\n",
       "      <td>Pohjois- ja Itä-Suomi</td>\n",
       "      <td>No</td>\n",
       "      <td>40</td>\n",
       "      <td>Male</td>\n",
       "      <td>4.0</td>\n",
       "    </tr>\n",
       "    <tr>\n",
       "      <th>15052</th>\n",
       "      <td>16060</td>\n",
       "      <td>2020-11-17</td>\n",
       "      <td>week 16</td>\n",
       "      <td>Pohjois- ja Itä-Suomi</td>\n",
       "      <td>Yes</td>\n",
       "      <td>60</td>\n",
       "      <td>Female</td>\n",
       "      <td>2.0</td>\n",
       "    </tr>\n",
       "    <tr>\n",
       "      <th>15053</th>\n",
       "      <td>16061</td>\n",
       "      <td>2020-11-17</td>\n",
       "      <td>week 16</td>\n",
       "      <td>Pohjois- ja Itä-Suomi</td>\n",
       "      <td>No</td>\n",
       "      <td>61</td>\n",
       "      <td>Female</td>\n",
       "      <td>8.0</td>\n",
       "    </tr>\n",
       "    <tr>\n",
       "      <th>15054</th>\n",
       "      <td>16062</td>\n",
       "      <td>2020-11-17</td>\n",
       "      <td>week 16</td>\n",
       "      <td>Pohjois- ja Itä-Suomi</td>\n",
       "      <td>No</td>\n",
       "      <td>69</td>\n",
       "      <td>Female</td>\n",
       "      <td>8.0</td>\n",
       "    </tr>\n",
       "  </tbody>\n",
       "</table>\n",
       "<p>15055 rows × 8 columns</p>\n",
       "</div>"
      ],
      "text/plain": [
       "       Unnamed: 0        date     week                 region  \\\n",
       "0            1008  2020-04-27   week 2            Etelä-Suomi   \n",
       "1            1009  2020-04-27   week 2            Länsi-Suomi   \n",
       "2            1010  2020-04-27   week 2            Etelä-Suomi   \n",
       "3            1011  2020-04-27   week 2            Etelä-Suomi   \n",
       "4            1012  2020-04-27   week 2            Etelä-Suomi   \n",
       "...           ...         ...      ...                    ...   \n",
       "15050       16058  2020-11-16  week 16  Pohjois- ja Itä-Suomi   \n",
       "15051       16059  2020-11-16  week 16  Pohjois- ja Itä-Suomi   \n",
       "15052       16060  2020-11-17  week 16  Pohjois- ja Itä-Suomi   \n",
       "15053       16061  2020-11-17  week 16  Pohjois- ja Itä-Suomi   \n",
       "15054       16062  2020-11-17  week 16  Pohjois- ja Itä-Suomi   \n",
       "\n",
       "      mental_health_condition  age  gender  happiness_rating  \n",
       "0                         Yes   40    Male               5.0  \n",
       "1                          No   43    Male               7.0  \n",
       "2                          No   20  Female               8.0  \n",
       "3                          No   52    Male               0.0  \n",
       "4                          No   47    Male               7.0  \n",
       "...                       ...  ...     ...               ...  \n",
       "15050                      No   72  Female               8.0  \n",
       "15051                      No   40    Male               4.0  \n",
       "15052                     Yes   60  Female               2.0  \n",
       "15053                      No   61  Female               8.0  \n",
       "15054                      No   69  Female               8.0  \n",
       "\n",
       "[15055 rows x 8 columns]"
      ]
     },
     "execution_count": 3,
     "metadata": {},
     "output_type": "execute_result"
    }
   ],
   "source": [
    "finland_hap_filter"
   ]
  },
  {
   "cell_type": "code",
   "execution_count": 4,
   "metadata": {},
   "outputs": [
    {
     "data": {
      "text/plain": [
       "(15055, 8)"
      ]
     },
     "execution_count": 4,
     "metadata": {},
     "output_type": "execute_result"
    }
   ],
   "source": [
    "finland_hap_filter.shape"
   ]
  },
  {
   "cell_type": "code",
   "execution_count": 5,
   "metadata": {},
   "outputs": [
    {
     "data": {
      "text/plain": [
       "<AxesSubplot:>"
      ]
     },
     "execution_count": 5,
     "metadata": {},
     "output_type": "execute_result"
    },
    {
     "data": {
      "image/png": "[encoded data removed]",
      "text/plain": [
       "<Figure size 432x288 with 1 Axes>"
      ]
     },
     "metadata": {
      "needs_background": "light"
     },
     "output_type": "display_data"
    }
   ],
   "source": [
    "# Histogram to look at distribution\n",
    "finland_hap_filter['happiness_rating'].hist()"
   ]
  },
  {
   "cell_type": "code",
   "execution_count": 6,
   "metadata": {
    "scrolled": true
   },
   "outputs": [
    {
     "data": {
      "text/html": [
       "<div>\n",
       "<style scoped>\n",
       "    .dataframe tbody tr th:only-of-type {\n",
       "        vertical-align: middle;\n",
       "    }\n",
       "\n",
       "    .dataframe tbody tr th {\n",
       "        vertical-align: top;\n",
       "    }\n",
       "\n",
       "    .dataframe thead th {\n",
       "        text-align: right;\n",
       "    }\n",
       "</style>\n",
       "<table border=\"1\" class=\"dataframe\">\n",
       "  <thead>\n",
       "    <tr style=\"text-align: right;\">\n",
       "      <th></th>\n",
       "      <th>Unnamed: 0</th>\n",
       "      <th>Province/State</th>\n",
       "      <th>Country/Region</th>\n",
       "      <th>Lat</th>\n",
       "      <th>Long</th>\n",
       "      <th>date</th>\n",
       "      <th>cases</th>\n",
       "    </tr>\n",
       "  </thead>\n",
       "  <tbody>\n",
       "    <tr>\n",
       "      <th>0</th>\n",
       "      <td>0</td>\n",
       "      <td>NaN</td>\n",
       "      <td>Finland</td>\n",
       "      <td>61.92411</td>\n",
       "      <td>25.748151</td>\n",
       "      <td>2020-01-22</td>\n",
       "      <td>0</td>\n",
       "    </tr>\n",
       "    <tr>\n",
       "      <th>1</th>\n",
       "      <td>1</td>\n",
       "      <td>NaN</td>\n",
       "      <td>Finland</td>\n",
       "      <td>61.92411</td>\n",
       "      <td>25.748151</td>\n",
       "      <td>2020-01-23</td>\n",
       "      <td>0</td>\n",
       "    </tr>\n",
       "    <tr>\n",
       "      <th>2</th>\n",
       "      <td>2</td>\n",
       "      <td>NaN</td>\n",
       "      <td>Finland</td>\n",
       "      <td>61.92411</td>\n",
       "      <td>25.748151</td>\n",
       "      <td>2020-01-24</td>\n",
       "      <td>0</td>\n",
       "    </tr>\n",
       "    <tr>\n",
       "      <th>3</th>\n",
       "      <td>3</td>\n",
       "      <td>NaN</td>\n",
       "      <td>Finland</td>\n",
       "      <td>61.92411</td>\n",
       "      <td>25.748151</td>\n",
       "      <td>2020-01-25</td>\n",
       "      <td>0</td>\n",
       "    </tr>\n",
       "    <tr>\n",
       "      <th>4</th>\n",
       "      <td>4</td>\n",
       "      <td>NaN</td>\n",
       "      <td>Finland</td>\n",
       "      <td>61.92411</td>\n",
       "      <td>25.748151</td>\n",
       "      <td>2020-01-26</td>\n",
       "      <td>0</td>\n",
       "    </tr>\n",
       "    <tr>\n",
       "      <th>...</th>\n",
       "      <td>...</td>\n",
       "      <td>...</td>\n",
       "      <td>...</td>\n",
       "      <td>...</td>\n",
       "      <td>...</td>\n",
       "      <td>...</td>\n",
       "      <td>...</td>\n",
       "    </tr>\n",
       "    <tr>\n",
       "      <th>312</th>\n",
       "      <td>312</td>\n",
       "      <td>NaN</td>\n",
       "      <td>Finland</td>\n",
       "      <td>61.92411</td>\n",
       "      <td>25.748151</td>\n",
       "      <td>2020-11-29</td>\n",
       "      <td>24629</td>\n",
       "    </tr>\n",
       "    <tr>\n",
       "      <th>313</th>\n",
       "      <td>313</td>\n",
       "      <td>NaN</td>\n",
       "      <td>Finland</td>\n",
       "      <td>61.92411</td>\n",
       "      <td>25.748151</td>\n",
       "      <td>2020-11-30</td>\n",
       "      <td>24912</td>\n",
       "    </tr>\n",
       "    <tr>\n",
       "      <th>314</th>\n",
       "      <td>314</td>\n",
       "      <td>NaN</td>\n",
       "      <td>Finland</td>\n",
       "      <td>61.92411</td>\n",
       "      <td>25.748151</td>\n",
       "      <td>2020-12-01</td>\n",
       "      <td>25462</td>\n",
       "    </tr>\n",
       "    <tr>\n",
       "      <th>315</th>\n",
       "      <td>315</td>\n",
       "      <td>NaN</td>\n",
       "      <td>Finland</td>\n",
       "      <td>61.92411</td>\n",
       "      <td>25.748151</td>\n",
       "      <td>2020-12-02</td>\n",
       "      <td>25882</td>\n",
       "    </tr>\n",
       "    <tr>\n",
       "      <th>316</th>\n",
       "      <td>316</td>\n",
       "      <td>NaN</td>\n",
       "      <td>Finland</td>\n",
       "      <td>61.92411</td>\n",
       "      <td>25.748151</td>\n",
       "      <td>2020-12-03</td>\n",
       "      <td>26422</td>\n",
       "    </tr>\n",
       "  </tbody>\n",
       "</table>\n",
       "<p>317 rows × 7 columns</p>\n",
       "</div>"
      ],
      "text/plain": [
       "     Unnamed: 0  Province/State Country/Region       Lat       Long  \\\n",
       "0             0             NaN        Finland  61.92411  25.748151   \n",
       "1             1             NaN        Finland  61.92411  25.748151   \n",
       "2             2             NaN        Finland  61.92411  25.748151   \n",
       "3             3             NaN        Finland  61.92411  25.748151   \n",
       "4             4             NaN        Finland  61.92411  25.748151   \n",
       "..          ...             ...            ...       ...        ...   \n",
       "312         312             NaN        Finland  61.92411  25.748151   \n",
       "313         313             NaN        Finland  61.92411  25.748151   \n",
       "314         314             NaN        Finland  61.92411  25.748151   \n",
       "315         315             NaN        Finland  61.92411  25.748151   \n",
       "316         316             NaN        Finland  61.92411  25.748151   \n",
       "\n",
       "           date  cases  \n",
       "0    2020-01-22      0  \n",
       "1    2020-01-23      0  \n",
       "2    2020-01-24      0  \n",
       "3    2020-01-25      0  \n",
       "4    2020-01-26      0  \n",
       "..          ...    ...  \n",
       "312  2020-11-29  24629  \n",
       "313  2020-11-30  24912  \n",
       "314  2020-12-01  25462  \n",
       "315  2020-12-02  25882  \n",
       "316  2020-12-03  26422  \n",
       "\n",
       "[317 rows x 7 columns]"
      ]
     },
     "execution_count": 6,
     "metadata": {},
     "output_type": "execute_result"
    }
   ],
   "source": [
    "finland_cov"
   ]
  },
  {
   "cell_type": "code",
   "execution_count": 7,
   "metadata": {
    "scrolled": true
   },
   "outputs": [
    {
     "data": {
      "text/plain": [
       "(317, 7)"
      ]
     },
     "execution_count": 7,
     "metadata": {},
     "output_type": "execute_result"
    }
   ],
   "source": [
    "finland_cov.shape"
   ]
  },
  {
   "cell_type": "code",
   "execution_count": 8,
   "metadata": {},
   "outputs": [
    {
     "data": {
      "text/html": [
       "<div>\n",
       "<style scoped>\n",
       "    .dataframe tbody tr th:only-of-type {\n",
       "        vertical-align: middle;\n",
       "    }\n",
       "\n",
       "    .dataframe tbody tr th {\n",
       "        vertical-align: top;\n",
       "    }\n",
       "\n",
       "    .dataframe thead th {\n",
       "        text-align: right;\n",
       "    }\n",
       "</style>\n",
       "<table border=\"1\" class=\"dataframe\">\n",
       "  <thead>\n",
       "    <tr style=\"text-align: right;\">\n",
       "      <th></th>\n",
       "      <th>Unnamed: 0</th>\n",
       "      <th>Province/State</th>\n",
       "      <th>Lat</th>\n",
       "      <th>Long</th>\n",
       "      <th>cases</th>\n",
       "    </tr>\n",
       "  </thead>\n",
       "  <tbody>\n",
       "    <tr>\n",
       "      <th>count</th>\n",
       "      <td>317.000000</td>\n",
       "      <td>0.0</td>\n",
       "      <td>3.170000e+02</td>\n",
       "      <td>3.170000e+02</td>\n",
       "      <td>317.000000</td>\n",
       "    </tr>\n",
       "    <tr>\n",
       "      <th>mean</th>\n",
       "      <td>158.000000</td>\n",
       "      <td>NaN</td>\n",
       "      <td>6.192411e+01</td>\n",
       "      <td>2.574815e+01</td>\n",
       "      <td>7339.955836</td>\n",
       "    </tr>\n",
       "    <tr>\n",
       "      <th>std</th>\n",
       "      <td>91.654242</td>\n",
       "      <td>NaN</td>\n",
       "      <td>5.693329e-14</td>\n",
       "      <td>1.636832e-13</td>\n",
       "      <td>5981.637589</td>\n",
       "    </tr>\n",
       "    <tr>\n",
       "      <th>min</th>\n",
       "      <td>0.000000</td>\n",
       "      <td>NaN</td>\n",
       "      <td>6.192411e+01</td>\n",
       "      <td>2.574815e+01</td>\n",
       "      <td>0.000000</td>\n",
       "    </tr>\n",
       "    <tr>\n",
       "      <th>25%</th>\n",
       "      <td>79.000000</td>\n",
       "      <td>NaN</td>\n",
       "      <td>6.192411e+01</td>\n",
       "      <td>2.574815e+01</td>\n",
       "      <td>2769.000000</td>\n",
       "    </tr>\n",
       "    <tr>\n",
       "      <th>50%</th>\n",
       "      <td>158.000000</td>\n",
       "      <td>NaN</td>\n",
       "      <td>6.192411e+01</td>\n",
       "      <td>2.574815e+01</td>\n",
       "      <td>7198.000000</td>\n",
       "    </tr>\n",
       "    <tr>\n",
       "      <th>75%</th>\n",
       "      <td>237.000000</td>\n",
       "      <td>NaN</td>\n",
       "      <td>6.192411e+01</td>\n",
       "      <td>2.574815e+01</td>\n",
       "      <td>8725.000000</td>\n",
       "    </tr>\n",
       "    <tr>\n",
       "      <th>max</th>\n",
       "      <td>316.000000</td>\n",
       "      <td>NaN</td>\n",
       "      <td>6.192411e+01</td>\n",
       "      <td>2.574815e+01</td>\n",
       "      <td>26422.000000</td>\n",
       "    </tr>\n",
       "  </tbody>\n",
       "</table>\n",
       "</div>"
      ],
      "text/plain": [
       "       Unnamed: 0  Province/State           Lat          Long         cases\n",
       "count  317.000000             0.0  3.170000e+02  3.170000e+02    317.000000\n",
       "mean   158.000000             NaN  6.192411e+01  2.574815e+01   7339.955836\n",
       "std     91.654242             NaN  5.693329e-14  1.636832e-13   5981.637589\n",
       "min      0.000000             NaN  6.192411e+01  2.574815e+01      0.000000\n",
       "25%     79.000000             NaN  6.192411e+01  2.574815e+01   2769.000000\n",
       "50%    158.000000             NaN  6.192411e+01  2.574815e+01   7198.000000\n",
       "75%    237.000000             NaN  6.192411e+01  2.574815e+01   8725.000000\n",
       "max    316.000000             NaN  6.192411e+01  2.574815e+01  26422.000000"
      ]
     },
     "execution_count": 8,
     "metadata": {},
     "output_type": "execute_result"
    }
   ],
   "source": [
    "finland_cov.describe()"
   ]
  },
  {
   "cell_type": "code",
   "execution_count": 9,
   "metadata": {},
   "outputs": [
    {
     "data": {
      "text/html": [
       "<div>\n",
       "<style scoped>\n",
       "    .dataframe tbody tr th:only-of-type {\n",
       "        vertical-align: middle;\n",
       "    }\n",
       "\n",
       "    .dataframe tbody tr th {\n",
       "        vertical-align: top;\n",
       "    }\n",
       "\n",
       "    .dataframe thead th {\n",
       "        text-align: right;\n",
       "    }\n",
       "</style>\n",
       "<table border=\"1\" class=\"dataframe\">\n",
       "  <thead>\n",
       "    <tr style=\"text-align: right;\">\n",
       "      <th></th>\n",
       "      <th>date</th>\n",
       "      <th>cases</th>\n",
       "    </tr>\n",
       "  </thead>\n",
       "  <tbody>\n",
       "    <tr>\n",
       "      <th>0</th>\n",
       "      <td>2020-01-22</td>\n",
       "      <td>0</td>\n",
       "    </tr>\n",
       "    <tr>\n",
       "      <th>1</th>\n",
       "      <td>2020-01-23</td>\n",
       "      <td>0</td>\n",
       "    </tr>\n",
       "    <tr>\n",
       "      <th>2</th>\n",
       "      <td>2020-01-24</td>\n",
       "      <td>0</td>\n",
       "    </tr>\n",
       "    <tr>\n",
       "      <th>3</th>\n",
       "      <td>2020-01-25</td>\n",
       "      <td>0</td>\n",
       "    </tr>\n",
       "    <tr>\n",
       "      <th>4</th>\n",
       "      <td>2020-01-26</td>\n",
       "      <td>0</td>\n",
       "    </tr>\n",
       "    <tr>\n",
       "      <th>...</th>\n",
       "      <td>...</td>\n",
       "      <td>...</td>\n",
       "    </tr>\n",
       "    <tr>\n",
       "      <th>312</th>\n",
       "      <td>2020-11-29</td>\n",
       "      <td>24629</td>\n",
       "    </tr>\n",
       "    <tr>\n",
       "      <th>313</th>\n",
       "      <td>2020-11-30</td>\n",
       "      <td>24912</td>\n",
       "    </tr>\n",
       "    <tr>\n",
       "      <th>314</th>\n",
       "      <td>2020-12-01</td>\n",
       "      <td>25462</td>\n",
       "    </tr>\n",
       "    <tr>\n",
       "      <th>315</th>\n",
       "      <td>2020-12-02</td>\n",
       "      <td>25882</td>\n",
       "    </tr>\n",
       "    <tr>\n",
       "      <th>316</th>\n",
       "      <td>2020-12-03</td>\n",
       "      <td>26422</td>\n",
       "    </tr>\n",
       "  </tbody>\n",
       "</table>\n",
       "<p>317 rows × 2 columns</p>\n",
       "</div>"
      ],
      "text/plain": [
       "           date  cases\n",
       "0    2020-01-22      0\n",
       "1    2020-01-23      0\n",
       "2    2020-01-24      0\n",
       "3    2020-01-25      0\n",
       "4    2020-01-26      0\n",
       "..          ...    ...\n",
       "312  2020-11-29  24629\n",
       "313  2020-11-30  24912\n",
       "314  2020-12-01  25462\n",
       "315  2020-12-02  25882\n",
       "316  2020-12-03  26422\n",
       "\n",
       "[317 rows x 2 columns]"
      ]
     },
     "execution_count": 9,
     "metadata": {},
     "output_type": "execute_result"
    }
   ],
   "source": [
    "finland_cov = finland_cov[['date','cases']]\n",
    "finland_cov"
   ]
  },
  {
   "cell_type": "markdown",
   "metadata": {},
   "source": [
    "### Group COVID-19 cases by date"
   ]
  },
  {
   "cell_type": "code",
   "execution_count": 10,
   "metadata": {},
   "outputs": [],
   "source": [
    "finland_cov['date'] = pd.to_datetime(finland_cov['date'])"
   ]
  },
  {
   "cell_type": "code",
   "execution_count": 11,
   "metadata": {
    "scrolled": true
   },
   "outputs": [
    {
     "data": {
      "text/html": [
       "<div>\n",
       "<style scoped>\n",
       "    .dataframe tbody tr th:only-of-type {\n",
       "        vertical-align: middle;\n",
       "    }\n",
       "\n",
       "    .dataframe tbody tr th {\n",
       "        vertical-align: top;\n",
       "    }\n",
       "\n",
       "    .dataframe thead th {\n",
       "        text-align: right;\n",
       "    }\n",
       "</style>\n",
       "<table border=\"1\" class=\"dataframe\">\n",
       "  <thead>\n",
       "    <tr style=\"text-align: right;\">\n",
       "      <th></th>\n",
       "      <th>cases</th>\n",
       "    </tr>\n",
       "    <tr>\n",
       "      <th>date</th>\n",
       "      <th></th>\n",
       "    </tr>\n",
       "  </thead>\n",
       "  <tbody>\n",
       "    <tr>\n",
       "      <th>2020-01-22</th>\n",
       "      <td>0</td>\n",
       "    </tr>\n",
       "    <tr>\n",
       "      <th>2020-01-23</th>\n",
       "      <td>0</td>\n",
       "    </tr>\n",
       "    <tr>\n",
       "      <th>2020-01-24</th>\n",
       "      <td>0</td>\n",
       "    </tr>\n",
       "    <tr>\n",
       "      <th>2020-01-25</th>\n",
       "      <td>0</td>\n",
       "    </tr>\n",
       "    <tr>\n",
       "      <th>2020-01-26</th>\n",
       "      <td>0</td>\n",
       "    </tr>\n",
       "    <tr>\n",
       "      <th>...</th>\n",
       "      <td>...</td>\n",
       "    </tr>\n",
       "    <tr>\n",
       "      <th>2020-11-29</th>\n",
       "      <td>24629</td>\n",
       "    </tr>\n",
       "    <tr>\n",
       "      <th>2020-11-30</th>\n",
       "      <td>24912</td>\n",
       "    </tr>\n",
       "    <tr>\n",
       "      <th>2020-12-01</th>\n",
       "      <td>25462</td>\n",
       "    </tr>\n",
       "    <tr>\n",
       "      <th>2020-12-02</th>\n",
       "      <td>25882</td>\n",
       "    </tr>\n",
       "    <tr>\n",
       "      <th>2020-12-03</th>\n",
       "      <td>26422</td>\n",
       "    </tr>\n",
       "  </tbody>\n",
       "</table>\n",
       "<p>317 rows × 1 columns</p>\n",
       "</div>"
      ],
      "text/plain": [
       "            cases\n",
       "date             \n",
       "2020-01-22      0\n",
       "2020-01-23      0\n",
       "2020-01-24      0\n",
       "2020-01-25      0\n",
       "2020-01-26      0\n",
       "...           ...\n",
       "2020-11-29  24629\n",
       "2020-11-30  24912\n",
       "2020-12-01  25462\n",
       "2020-12-02  25882\n",
       "2020-12-03  26422\n",
       "\n",
       "[317 rows x 1 columns]"
      ]
     },
     "execution_count": 11,
     "metadata": {},
     "output_type": "execute_result"
    }
   ],
   "source": [
    "finland_date_cov = finland_cov.groupby('date').sum()\n",
    "finland_date_cov"
   ]
  },
  {
   "cell_type": "code",
   "execution_count": 12,
   "metadata": {},
   "outputs": [
    {
     "data": {
      "text/plain": [
       "Text(0, 0.5, 'Cases')"
      ]
     },
     "execution_count": 12,
     "metadata": {},
     "output_type": "execute_result"
    },
    {
     "data": {
      "image/png": "[encoded data removed]",
      "text/plain": [
       "<Figure size 360x360 with 1 Axes>"
      ]
     },
     "metadata": {
      "needs_background": "light"
     },
     "output_type": "display_data"
    }
   ],
   "source": [
    "finland_date_cov.plot(kind='line',figsize=(5,5))\n",
    "plt.legend(loc= 'center left', bbox_to_anchor=(1.0,0.5))\n",
    "plt.xlabel('Date')\n",
    "plt.ylabel('Cases')"
   ]
  },
  {
   "cell_type": "markdown",
   "metadata": {},
   "source": [
    "### Observations\n",
    "\n",
    "Looks similar to Denmark, increasing once again in Dec...reminds me of the regional analysis similarities"
   ]
  },
  {
   "cell_type": "markdown",
   "metadata": {},
   "source": [
    "### Calculating daily changes in COVID-19 cases count"
   ]
  },
  {
   "cell_type": "code",
   "execution_count": 13,
   "metadata": {
    "scrolled": true
   },
   "outputs": [
    {
     "data": {
      "text/html": [
       "<div>\n",
       "<style scoped>\n",
       "    .dataframe tbody tr th:only-of-type {\n",
       "        vertical-align: middle;\n",
       "    }\n",
       "\n",
       "    .dataframe tbody tr th {\n",
       "        vertical-align: top;\n",
       "    }\n",
       "\n",
       "    .dataframe thead th {\n",
       "        text-align: right;\n",
       "    }\n",
       "</style>\n",
       "<table border=\"1\" class=\"dataframe\">\n",
       "  <thead>\n",
       "    <tr style=\"text-align: right;\">\n",
       "      <th></th>\n",
       "      <th>cases</th>\n",
       "      <th>daily_change</th>\n",
       "    </tr>\n",
       "    <tr>\n",
       "      <th>date</th>\n",
       "      <th></th>\n",
       "      <th></th>\n",
       "    </tr>\n",
       "  </thead>\n",
       "  <tbody>\n",
       "    <tr>\n",
       "      <th>2020-01-22</th>\n",
       "      <td>0</td>\n",
       "      <td>NaN</td>\n",
       "    </tr>\n",
       "    <tr>\n",
       "      <th>2020-01-23</th>\n",
       "      <td>0</td>\n",
       "      <td>0.0</td>\n",
       "    </tr>\n",
       "    <tr>\n",
       "      <th>2020-01-24</th>\n",
       "      <td>0</td>\n",
       "      <td>0.0</td>\n",
       "    </tr>\n",
       "    <tr>\n",
       "      <th>2020-01-25</th>\n",
       "      <td>0</td>\n",
       "      <td>0.0</td>\n",
       "    </tr>\n",
       "    <tr>\n",
       "      <th>2020-01-26</th>\n",
       "      <td>0</td>\n",
       "      <td>0.0</td>\n",
       "    </tr>\n",
       "    <tr>\n",
       "      <th>...</th>\n",
       "      <td>...</td>\n",
       "      <td>...</td>\n",
       "    </tr>\n",
       "    <tr>\n",
       "      <th>2020-11-29</th>\n",
       "      <td>24629</td>\n",
       "      <td>322.0</td>\n",
       "    </tr>\n",
       "    <tr>\n",
       "      <th>2020-11-30</th>\n",
       "      <td>24912</td>\n",
       "      <td>283.0</td>\n",
       "    </tr>\n",
       "    <tr>\n",
       "      <th>2020-12-01</th>\n",
       "      <td>25462</td>\n",
       "      <td>550.0</td>\n",
       "    </tr>\n",
       "    <tr>\n",
       "      <th>2020-12-02</th>\n",
       "      <td>25882</td>\n",
       "      <td>420.0</td>\n",
       "    </tr>\n",
       "    <tr>\n",
       "      <th>2020-12-03</th>\n",
       "      <td>26422</td>\n",
       "      <td>540.0</td>\n",
       "    </tr>\n",
       "  </tbody>\n",
       "</table>\n",
       "<p>317 rows × 2 columns</p>\n",
       "</div>"
      ],
      "text/plain": [
       "            cases  daily_change\n",
       "date                           \n",
       "2020-01-22      0           NaN\n",
       "2020-01-23      0           0.0\n",
       "2020-01-24      0           0.0\n",
       "2020-01-25      0           0.0\n",
       "2020-01-26      0           0.0\n",
       "...           ...           ...\n",
       "2020-11-29  24629         322.0\n",
       "2020-11-30  24912         283.0\n",
       "2020-12-01  25462         550.0\n",
       "2020-12-02  25882         420.0\n",
       "2020-12-03  26422         540.0\n",
       "\n",
       "[317 rows x 2 columns]"
      ]
     },
     "execution_count": 13,
     "metadata": {},
     "output_type": "execute_result"
    }
   ],
   "source": [
    "finland_date_cov['daily_change'] = finland_date_cov['cases'].diff()\n",
    "finland_date_cov"
   ]
  },
  {
   "cell_type": "code",
   "execution_count": 14,
   "metadata": {},
   "outputs": [],
   "source": [
    "finland_date_cov.to_csv('../data/exported_subset_data/covid/covid_finland.csv')"
   ]
  },
  {
   "cell_type": "code",
   "execution_count": 15,
   "metadata": {
    "scrolled": true
   },
   "outputs": [
    {
     "data": {
      "text/plain": [
       "<AxesSubplot:xlabel='date'>"
      ]
     },
     "execution_count": 15,
     "metadata": {},
     "output_type": "execute_result"
    },
    {
     "data": {
      "image/png": "[encoded data removed]",
      "text/plain": [
       "<Figure size 720x288 with 1 Axes>"
      ]
     },
     "metadata": {
      "needs_background": "light"
     },
     "output_type": "display_data"
    }
   ],
   "source": [
    "finland_date_cov['daily_change'].plot(figsize=(10,4))"
   ]
  },
  {
   "cell_type": "markdown",
   "metadata": {},
   "source": [
    "### Observations\n",
    "So we see two general spikes in cases, one spanning March-June and another that started around September and lasting until now. Let's see if happiness has any correlations with these surges."
   ]
  },
  {
   "cell_type": "markdown",
   "metadata": {},
   "source": [
    "### Group happiness ratings by date"
   ]
  },
  {
   "cell_type": "code",
   "execution_count": 16,
   "metadata": {},
   "outputs": [],
   "source": [
    "finland_df=finland_hap_filter.groupby('date')['happiness_rating'].mean().reset_index()\n"
   ]
  },
  {
   "cell_type": "code",
   "execution_count": 17,
   "metadata": {
    "scrolled": true
   },
   "outputs": [],
   "source": [
    "finland_df['date'] = pd.to_datetime(finland_df['date'])"
   ]
  },
  {
   "cell_type": "code",
   "execution_count": 18,
   "metadata": {},
   "outputs": [
    {
     "data": {
      "text/html": [
       "<div>\n",
       "<style scoped>\n",
       "    .dataframe tbody tr th:only-of-type {\n",
       "        vertical-align: middle;\n",
       "    }\n",
       "\n",
       "    .dataframe tbody tr th {\n",
       "        vertical-align: top;\n",
       "    }\n",
       "\n",
       "    .dataframe thead th {\n",
       "        text-align: right;\n",
       "    }\n",
       "</style>\n",
       "<table border=\"1\" class=\"dataframe\">\n",
       "  <thead>\n",
       "    <tr style=\"text-align: right;\">\n",
       "      <th></th>\n",
       "      <th>cases</th>\n",
       "      <th>daily_change</th>\n",
       "    </tr>\n",
       "    <tr>\n",
       "      <th>date</th>\n",
       "      <th></th>\n",
       "      <th></th>\n",
       "    </tr>\n",
       "  </thead>\n",
       "  <tbody>\n",
       "    <tr>\n",
       "      <th>2020-01-22</th>\n",
       "      <td>0</td>\n",
       "      <td>0.0</td>\n",
       "    </tr>\n",
       "    <tr>\n",
       "      <th>2020-01-23</th>\n",
       "      <td>0</td>\n",
       "      <td>0.0</td>\n",
       "    </tr>\n",
       "    <tr>\n",
       "      <th>2020-01-24</th>\n",
       "      <td>0</td>\n",
       "      <td>0.0</td>\n",
       "    </tr>\n",
       "    <tr>\n",
       "      <th>2020-01-25</th>\n",
       "      <td>0</td>\n",
       "      <td>0.0</td>\n",
       "    </tr>\n",
       "    <tr>\n",
       "      <th>2020-01-26</th>\n",
       "      <td>0</td>\n",
       "      <td>0.0</td>\n",
       "    </tr>\n",
       "    <tr>\n",
       "      <th>...</th>\n",
       "      <td>...</td>\n",
       "      <td>...</td>\n",
       "    </tr>\n",
       "    <tr>\n",
       "      <th>2020-11-29</th>\n",
       "      <td>24629</td>\n",
       "      <td>322.0</td>\n",
       "    </tr>\n",
       "    <tr>\n",
       "      <th>2020-11-30</th>\n",
       "      <td>24912</td>\n",
       "      <td>283.0</td>\n",
       "    </tr>\n",
       "    <tr>\n",
       "      <th>2020-12-01</th>\n",
       "      <td>25462</td>\n",
       "      <td>550.0</td>\n",
       "    </tr>\n",
       "    <tr>\n",
       "      <th>2020-12-02</th>\n",
       "      <td>25882</td>\n",
       "      <td>420.0</td>\n",
       "    </tr>\n",
       "    <tr>\n",
       "      <th>2020-12-03</th>\n",
       "      <td>26422</td>\n",
       "      <td>540.0</td>\n",
       "    </tr>\n",
       "  </tbody>\n",
       "</table>\n",
       "<p>317 rows × 2 columns</p>\n",
       "</div>"
      ],
      "text/plain": [
       "            cases  daily_change\n",
       "date                           \n",
       "2020-01-22      0           0.0\n",
       "2020-01-23      0           0.0\n",
       "2020-01-24      0           0.0\n",
       "2020-01-25      0           0.0\n",
       "2020-01-26      0           0.0\n",
       "...           ...           ...\n",
       "2020-11-29  24629         322.0\n",
       "2020-11-30  24912         283.0\n",
       "2020-12-01  25462         550.0\n",
       "2020-12-02  25882         420.0\n",
       "2020-12-03  26422         540.0\n",
       "\n",
       "[317 rows x 2 columns]"
      ]
     },
     "execution_count": 18,
     "metadata": {},
     "output_type": "execute_result"
    }
   ],
   "source": [
    "finland_date_cov.groupby('date').sum()"
   ]
  },
  {
   "cell_type": "markdown",
   "metadata": {},
   "source": [
    "### Happiness ratings vs. COVID-19 daily case changes"
   ]
  },
  {
   "cell_type": "code",
   "execution_count": 19,
   "metadata": {
    "scrolled": false
   },
   "outputs": [
    {
     "data": {
      "text/plain": [
       "<AxesSubplot:label='f7a40dc7-d1f3-41e2-adda-21279547341b'>"
      ]
     },
     "execution_count": 19,
     "metadata": {},
     "output_type": "execute_result"
    },
    {
     "data": {
      "image/png": "[encoded data removed]",
      "text/plain": [
       "<Figure size 432x288 with 2 Axes>"
      ]
     },
     "metadata": {
      "needs_background": "light"
     },
     "output_type": "display_data"
    }
   ],
   "source": [
    "finland_df.plot(x='date', y='happiness_rating', color='red',grid=True)\n",
    "\n",
    "cov= finland_date_cov.groupby('date')['daily_change'].sum()\n",
    "cov.plot(x='date',y='daily_change', color='blue', grid=True, secondary_y=True)"
   ]
  },
  {
   "cell_type": "markdown",
   "metadata": {},
   "source": [
    "### Observations\n",
    "Similar problem with Denmark happiness 2020 dataset. Spiky and inconsistent data collection for happiness but COVID-19 cases are very precise and consistent."
   ]
  },
  {
   "cell_type": "code",
   "execution_count": 20,
   "metadata": {
    "scrolled": true
   },
   "outputs": [],
   "source": [
    "finland_df['month_year'] = pd.to_datetime(finland_df['date']).dt.to_period('M')"
   ]
  },
  {
   "cell_type": "markdown",
   "metadata": {},
   "source": [
    "### Monthly COVID-19 cases plotted with monthly happiness rating means\n"
   ]
  },
  {
   "cell_type": "code",
   "execution_count": 21,
   "metadata": {
    "scrolled": true
   },
   "outputs": [
    {
     "data": {
      "text/html": [
       "<div>\n",
       "<style scoped>\n",
       "    .dataframe tbody tr th:only-of-type {\n",
       "        vertical-align: middle;\n",
       "    }\n",
       "\n",
       "    .dataframe tbody tr th {\n",
       "        vertical-align: top;\n",
       "    }\n",
       "\n",
       "    .dataframe thead th {\n",
       "        text-align: right;\n",
       "    }\n",
       "</style>\n",
       "<table border=\"1\" class=\"dataframe\">\n",
       "  <thead>\n",
       "    <tr style=\"text-align: right;\">\n",
       "      <th></th>\n",
       "      <th>date</th>\n",
       "      <th>happiness_rating</th>\n",
       "      <th>month_year</th>\n",
       "      <th>cases</th>\n",
       "      <th>daily_change</th>\n",
       "    </tr>\n",
       "  </thead>\n",
       "  <tbody>\n",
       "    <tr>\n",
       "      <th>0</th>\n",
       "      <td>2020-02-09</td>\n",
       "      <td>6.787879</td>\n",
       "      <td>2020-02</td>\n",
       "      <td>1</td>\n",
       "      <td>0.0</td>\n",
       "    </tr>\n",
       "    <tr>\n",
       "      <th>1</th>\n",
       "      <td>2020-02-10</td>\n",
       "      <td>6.938776</td>\n",
       "      <td>2020-02</td>\n",
       "      <td>1</td>\n",
       "      <td>0.0</td>\n",
       "    </tr>\n",
       "    <tr>\n",
       "      <th>2</th>\n",
       "      <td>2020-02-11</td>\n",
       "      <td>6.978723</td>\n",
       "      <td>2020-02</td>\n",
       "      <td>1</td>\n",
       "      <td>0.0</td>\n",
       "    </tr>\n",
       "    <tr>\n",
       "      <th>3</th>\n",
       "      <td>2020-03-09</td>\n",
       "      <td>6.921305</td>\n",
       "      <td>2020-03</td>\n",
       "      <td>30</td>\n",
       "      <td>7.0</td>\n",
       "    </tr>\n",
       "    <tr>\n",
       "      <th>4</th>\n",
       "      <td>2020-03-10</td>\n",
       "      <td>6.939597</td>\n",
       "      <td>2020-03</td>\n",
       "      <td>40</td>\n",
       "      <td>10.0</td>\n",
       "    </tr>\n",
       "    <tr>\n",
       "      <th>...</th>\n",
       "      <td>...</td>\n",
       "      <td>...</td>\n",
       "      <td>...</td>\n",
       "      <td>...</td>\n",
       "      <td>...</td>\n",
       "    </tr>\n",
       "    <tr>\n",
       "      <th>86</th>\n",
       "      <td>2020-11-13</td>\n",
       "      <td>6.939560</td>\n",
       "      <td>2020-11</td>\n",
       "      <td>18858</td>\n",
       "      <td>316.0</td>\n",
       "    </tr>\n",
       "    <tr>\n",
       "      <th>87</th>\n",
       "      <td>2020-11-14</td>\n",
       "      <td>6.875648</td>\n",
       "      <td>2020-11</td>\n",
       "      <td>19102</td>\n",
       "      <td>244.0</td>\n",
       "    </tr>\n",
       "    <tr>\n",
       "      <th>88</th>\n",
       "      <td>2020-11-15</td>\n",
       "      <td>6.796791</td>\n",
       "      <td>2020-11</td>\n",
       "      <td>19315</td>\n",
       "      <td>213.0</td>\n",
       "    </tr>\n",
       "    <tr>\n",
       "      <th>89</th>\n",
       "      <td>2020-11-16</td>\n",
       "      <td>6.926471</td>\n",
       "      <td>2020-11</td>\n",
       "      <td>19419</td>\n",
       "      <td>104.0</td>\n",
       "    </tr>\n",
       "    <tr>\n",
       "      <th>90</th>\n",
       "      <td>2020-11-17</td>\n",
       "      <td>6.000000</td>\n",
       "      <td>2020-11</td>\n",
       "      <td>19647</td>\n",
       "      <td>228.0</td>\n",
       "    </tr>\n",
       "  </tbody>\n",
       "</table>\n",
       "<p>91 rows × 5 columns</p>\n",
       "</div>"
      ],
      "text/plain": [
       "         date  happiness_rating month_year  cases  daily_change\n",
       "0  2020-02-09          6.787879    2020-02      1           0.0\n",
       "1  2020-02-10          6.938776    2020-02      1           0.0\n",
       "2  2020-02-11          6.978723    2020-02      1           0.0\n",
       "3  2020-03-09          6.921305    2020-03     30           7.0\n",
       "4  2020-03-10          6.939597    2020-03     40          10.0\n",
       "..        ...               ...        ...    ...           ...\n",
       "86 2020-11-13          6.939560    2020-11  18858         316.0\n",
       "87 2020-11-14          6.875648    2020-11  19102         244.0\n",
       "88 2020-11-15          6.796791    2020-11  19315         213.0\n",
       "89 2020-11-16          6.926471    2020-11  19419         104.0\n",
       "90 2020-11-17          6.000000    2020-11  19647         228.0\n",
       "\n",
       "[91 rows x 5 columns]"
      ]
     },
     "execution_count": 21,
     "metadata": {},
     "output_type": "execute_result"
    }
   ],
   "source": [
    "merged_df= pd.merge(left=finland_df, left_on='date',\n",
    "         right=finland_date_cov, right_on='date')\n",
    "merged_df"
   ]
  },
  {
   "cell_type": "code",
   "execution_count": 22,
   "metadata": {
    "scrolled": true
   },
   "outputs": [
    {
     "data": {
      "text/plain": [
       "<AxesSubplot:label='17bc15f0-21e1-4bff-a886-8da7a8546b8a'>"
      ]
     },
     "execution_count": 22,
     "metadata": {},
     "output_type": "execute_result"
    },
    {
     "data": {
      "image/png": "[encoded data removed]",
      "text/plain": [
       "<Figure size 432x288 with 2 Axes>"
      ]
     },
     "metadata": {
      "needs_background": "light"
     },
     "output_type": "display_data"
    }
   ],
   "source": [
    "month_hap=merged_df.groupby('month_year')['happiness_rating'].mean()\n",
    "month_hap.plot(color='red',grid=True)\n",
    "month_cov=merged_df.groupby('month_year')['daily_change'].mean()\n",
    "month_cov.plot(color='blue', grid=True, secondary_y=True)"
   ]
  },
  {
   "cell_type": "markdown",
   "metadata": {},
   "source": [
    "### Observations\n",
    "See some large patterns in that happiness and cases data mirror each other -- as cases increase, happiness decreases and vice versa. Peak in happiness ratings between July and August after close to no new cases in July."
   ]
  },
  {
   "cell_type": "code",
   "execution_count": 23,
   "metadata": {
    "scrolled": true
   },
   "outputs": [
    {
     "data": {
      "text/html": [
       "<div>\n",
       "<style scoped>\n",
       "    .dataframe tbody tr th:only-of-type {\n",
       "        vertical-align: middle;\n",
       "    }\n",
       "\n",
       "    .dataframe tbody tr th {\n",
       "        vertical-align: top;\n",
       "    }\n",
       "\n",
       "    .dataframe thead th {\n",
       "        text-align: right;\n",
       "    }\n",
       "</style>\n",
       "<table border=\"1\" class=\"dataframe\">\n",
       "  <thead>\n",
       "    <tr style=\"text-align: right;\">\n",
       "      <th></th>\n",
       "      <th>date</th>\n",
       "      <th>cases</th>\n",
       "      <th>week_number</th>\n",
       "    </tr>\n",
       "  </thead>\n",
       "  <tbody>\n",
       "    <tr>\n",
       "      <th>0</th>\n",
       "      <td>2020-01-22</td>\n",
       "      <td>0</td>\n",
       "      <td>4</td>\n",
       "    </tr>\n",
       "    <tr>\n",
       "      <th>1</th>\n",
       "      <td>2020-01-23</td>\n",
       "      <td>0</td>\n",
       "      <td>4</td>\n",
       "    </tr>\n",
       "    <tr>\n",
       "      <th>2</th>\n",
       "      <td>2020-01-24</td>\n",
       "      <td>0</td>\n",
       "      <td>4</td>\n",
       "    </tr>\n",
       "    <tr>\n",
       "      <th>3</th>\n",
       "      <td>2020-01-25</td>\n",
       "      <td>0</td>\n",
       "      <td>4</td>\n",
       "    </tr>\n",
       "    <tr>\n",
       "      <th>4</th>\n",
       "      <td>2020-01-26</td>\n",
       "      <td>0</td>\n",
       "      <td>4</td>\n",
       "    </tr>\n",
       "    <tr>\n",
       "      <th>...</th>\n",
       "      <td>...</td>\n",
       "      <td>...</td>\n",
       "      <td>...</td>\n",
       "    </tr>\n",
       "    <tr>\n",
       "      <th>312</th>\n",
       "      <td>2020-11-29</td>\n",
       "      <td>24629</td>\n",
       "      <td>48</td>\n",
       "    </tr>\n",
       "    <tr>\n",
       "      <th>313</th>\n",
       "      <td>2020-11-30</td>\n",
       "      <td>24912</td>\n",
       "      <td>49</td>\n",
       "    </tr>\n",
       "    <tr>\n",
       "      <th>314</th>\n",
       "      <td>2020-12-01</td>\n",
       "      <td>25462</td>\n",
       "      <td>49</td>\n",
       "    </tr>\n",
       "    <tr>\n",
       "      <th>315</th>\n",
       "      <td>2020-12-02</td>\n",
       "      <td>25882</td>\n",
       "      <td>49</td>\n",
       "    </tr>\n",
       "    <tr>\n",
       "      <th>316</th>\n",
       "      <td>2020-12-03</td>\n",
       "      <td>26422</td>\n",
       "      <td>49</td>\n",
       "    </tr>\n",
       "  </tbody>\n",
       "</table>\n",
       "<p>317 rows × 3 columns</p>\n",
       "</div>"
      ],
      "text/plain": [
       "          date  cases  week_number\n",
       "0   2020-01-22      0            4\n",
       "1   2020-01-23      0            4\n",
       "2   2020-01-24      0            4\n",
       "3   2020-01-25      0            4\n",
       "4   2020-01-26      0            4\n",
       "..         ...    ...          ...\n",
       "312 2020-11-29  24629           48\n",
       "313 2020-11-30  24912           49\n",
       "314 2020-12-01  25462           49\n",
       "315 2020-12-02  25882           49\n",
       "316 2020-12-03  26422           49\n",
       "\n",
       "[317 rows x 3 columns]"
      ]
     },
     "execution_count": 23,
     "metadata": {},
     "output_type": "execute_result"
    }
   ],
   "source": [
    "finland_cov['week_number'] = finland_cov['date'].dt.week\n",
    "finland_cov"
   ]
  },
  {
   "cell_type": "markdown",
   "metadata": {},
   "source": [
    "## Weekly happiness ratings and weekly COVID-19"
   ]
  },
  {
   "cell_type": "code",
   "execution_count": 24,
   "metadata": {},
   "outputs": [],
   "source": [
    "weekly_covid= finland_date_cov.rolling(7).mean()"
   ]
  },
  {
   "cell_type": "code",
   "execution_count": 25,
   "metadata": {},
   "outputs": [
    {
     "data": {
      "text/plain": [
       "<AxesSubplot:xlabel='date'>"
      ]
     },
     "execution_count": 25,
     "metadata": {},
     "output_type": "execute_result"
    },
    {
     "data": {
      "image/png": "[encoded data removed]",
      "text/plain": [
       "<Figure size 432x288 with 1 Axes>"
      ]
     },
     "metadata": {
      "needs_background": "light"
     },
     "output_type": "display_data"
    }
   ],
   "source": [
    "weekly_covid['daily_change'].plot()"
   ]
  },
  {
   "cell_type": "code",
   "execution_count": 26,
   "metadata": {},
   "outputs": [],
   "source": [
    "hap_di = {\n",
    "      'week 2': '2020-04-27',\n",
    "      'week 3': '2020-05-13',\n",
    "      'week 4': '2020-05-27',\n",
    "      'week 5': '2020-06-09',\n",
    "      'week 6': '2020-06-24',\n",
    "      'week 7': '2020-07-08',\n",
    "      'week 8': '2020-07-22',\n",
    "      'week 9': '2020-08-06',\n",
    "      'week 10': '2020-08-19',\n",
    "      'week 11': '2020-09-02',\n",
    "      'week 12': '2020-09-18',\n",
    "      'week 13': '2020-10-02',\n",
    "      'week 14': '2020-10-14',\n",
    "      'week 15': '2020-10-28',\n",
    "      'week 16': '2020-11-11',}\n",
    "finland_hap_filter['week']= finland_hap_filter['week'].map(hap_di)  "
   ]
  },
  {
   "cell_type": "code",
   "execution_count": 27,
   "metadata": {
    "scrolled": true
   },
   "outputs": [],
   "source": [
    "finland_hap_filter['week'] = pd.to_datetime(finland_hap_filter['week'])"
   ]
  },
  {
   "cell_type": "code",
   "execution_count": 28,
   "metadata": {},
   "outputs": [
    {
     "data": {
      "text/html": [
       "<div>\n",
       "<style scoped>\n",
       "    .dataframe tbody tr th:only-of-type {\n",
       "        vertical-align: middle;\n",
       "    }\n",
       "\n",
       "    .dataframe tbody tr th {\n",
       "        vertical-align: top;\n",
       "    }\n",
       "\n",
       "    .dataframe thead th {\n",
       "        text-align: right;\n",
       "    }\n",
       "</style>\n",
       "<table border=\"1\" class=\"dataframe\">\n",
       "  <thead>\n",
       "    <tr style=\"text-align: right;\">\n",
       "      <th></th>\n",
       "      <th>Unnamed: 0</th>\n",
       "      <th>date</th>\n",
       "      <th>week</th>\n",
       "      <th>region</th>\n",
       "      <th>mental_health_condition</th>\n",
       "      <th>age</th>\n",
       "      <th>gender</th>\n",
       "      <th>happiness_rating</th>\n",
       "    </tr>\n",
       "  </thead>\n",
       "  <tbody>\n",
       "    <tr>\n",
       "      <th>0</th>\n",
       "      <td>1008</td>\n",
       "      <td>2020-04-27</td>\n",
       "      <td>2020-04-27</td>\n",
       "      <td>Etelä-Suomi</td>\n",
       "      <td>Yes</td>\n",
       "      <td>40</td>\n",
       "      <td>Male</td>\n",
       "      <td>5.0</td>\n",
       "    </tr>\n",
       "    <tr>\n",
       "      <th>1</th>\n",
       "      <td>1009</td>\n",
       "      <td>2020-04-27</td>\n",
       "      <td>2020-04-27</td>\n",
       "      <td>Länsi-Suomi</td>\n",
       "      <td>No</td>\n",
       "      <td>43</td>\n",
       "      <td>Male</td>\n",
       "      <td>7.0</td>\n",
       "    </tr>\n",
       "    <tr>\n",
       "      <th>2</th>\n",
       "      <td>1010</td>\n",
       "      <td>2020-04-27</td>\n",
       "      <td>2020-04-27</td>\n",
       "      <td>Etelä-Suomi</td>\n",
       "      <td>No</td>\n",
       "      <td>20</td>\n",
       "      <td>Female</td>\n",
       "      <td>8.0</td>\n",
       "    </tr>\n",
       "    <tr>\n",
       "      <th>3</th>\n",
       "      <td>1011</td>\n",
       "      <td>2020-04-27</td>\n",
       "      <td>2020-04-27</td>\n",
       "      <td>Etelä-Suomi</td>\n",
       "      <td>No</td>\n",
       "      <td>52</td>\n",
       "      <td>Male</td>\n",
       "      <td>0.0</td>\n",
       "    </tr>\n",
       "    <tr>\n",
       "      <th>4</th>\n",
       "      <td>1012</td>\n",
       "      <td>2020-04-27</td>\n",
       "      <td>2020-04-27</td>\n",
       "      <td>Etelä-Suomi</td>\n",
       "      <td>No</td>\n",
       "      <td>47</td>\n",
       "      <td>Male</td>\n",
       "      <td>7.0</td>\n",
       "    </tr>\n",
       "    <tr>\n",
       "      <th>...</th>\n",
       "      <td>...</td>\n",
       "      <td>...</td>\n",
       "      <td>...</td>\n",
       "      <td>...</td>\n",
       "      <td>...</td>\n",
       "      <td>...</td>\n",
       "      <td>...</td>\n",
       "      <td>...</td>\n",
       "    </tr>\n",
       "    <tr>\n",
       "      <th>15050</th>\n",
       "      <td>16058</td>\n",
       "      <td>2020-11-16</td>\n",
       "      <td>2020-11-11</td>\n",
       "      <td>Pohjois- ja Itä-Suomi</td>\n",
       "      <td>No</td>\n",
       "      <td>72</td>\n",
       "      <td>Female</td>\n",
       "      <td>8.0</td>\n",
       "    </tr>\n",
       "    <tr>\n",
       "      <th>15051</th>\n",
       "      <td>16059</td>\n",
       "      <td>2020-11-16</td>\n",
       "      <td>2020-11-11</td>\n",
       "      <td>Pohjois- ja Itä-Suomi</td>\n",
       "      <td>No</td>\n",
       "      <td>40</td>\n",
       "      <td>Male</td>\n",
       "      <td>4.0</td>\n",
       "    </tr>\n",
       "    <tr>\n",
       "      <th>15052</th>\n",
       "      <td>16060</td>\n",
       "      <td>2020-11-17</td>\n",
       "      <td>2020-11-11</td>\n",
       "      <td>Pohjois- ja Itä-Suomi</td>\n",
       "      <td>Yes</td>\n",
       "      <td>60</td>\n",
       "      <td>Female</td>\n",
       "      <td>2.0</td>\n",
       "    </tr>\n",
       "    <tr>\n",
       "      <th>15053</th>\n",
       "      <td>16061</td>\n",
       "      <td>2020-11-17</td>\n",
       "      <td>2020-11-11</td>\n",
       "      <td>Pohjois- ja Itä-Suomi</td>\n",
       "      <td>No</td>\n",
       "      <td>61</td>\n",
       "      <td>Female</td>\n",
       "      <td>8.0</td>\n",
       "    </tr>\n",
       "    <tr>\n",
       "      <th>15054</th>\n",
       "      <td>16062</td>\n",
       "      <td>2020-11-17</td>\n",
       "      <td>2020-11-11</td>\n",
       "      <td>Pohjois- ja Itä-Suomi</td>\n",
       "      <td>No</td>\n",
       "      <td>69</td>\n",
       "      <td>Female</td>\n",
       "      <td>8.0</td>\n",
       "    </tr>\n",
       "  </tbody>\n",
       "</table>\n",
       "<p>15055 rows × 8 columns</p>\n",
       "</div>"
      ],
      "text/plain": [
       "       Unnamed: 0        date       week                 region  \\\n",
       "0            1008  2020-04-27 2020-04-27            Etelä-Suomi   \n",
       "1            1009  2020-04-27 2020-04-27            Länsi-Suomi   \n",
       "2            1010  2020-04-27 2020-04-27            Etelä-Suomi   \n",
       "3            1011  2020-04-27 2020-04-27            Etelä-Suomi   \n",
       "4            1012  2020-04-27 2020-04-27            Etelä-Suomi   \n",
       "...           ...         ...        ...                    ...   \n",
       "15050       16058  2020-11-16 2020-11-11  Pohjois- ja Itä-Suomi   \n",
       "15051       16059  2020-11-16 2020-11-11  Pohjois- ja Itä-Suomi   \n",
       "15052       16060  2020-11-17 2020-11-11  Pohjois- ja Itä-Suomi   \n",
       "15053       16061  2020-11-17 2020-11-11  Pohjois- ja Itä-Suomi   \n",
       "15054       16062  2020-11-17 2020-11-11  Pohjois- ja Itä-Suomi   \n",
       "\n",
       "      mental_health_condition  age  gender  happiness_rating  \n",
       "0                         Yes   40    Male               5.0  \n",
       "1                          No   43    Male               7.0  \n",
       "2                          No   20  Female               8.0  \n",
       "3                          No   52    Male               0.0  \n",
       "4                          No   47    Male               7.0  \n",
       "...                       ...  ...     ...               ...  \n",
       "15050                      No   72  Female               8.0  \n",
       "15051                      No   40    Male               4.0  \n",
       "15052                     Yes   60  Female               2.0  \n",
       "15053                      No   61  Female               8.0  \n",
       "15054                      No   69  Female               8.0  \n",
       "\n",
       "[15055 rows x 8 columns]"
      ]
     },
     "execution_count": 28,
     "metadata": {},
     "output_type": "execute_result"
    }
   ],
   "source": [
    "finland_hap_filter"
   ]
  },
  {
   "cell_type": "code",
   "execution_count": 29,
   "metadata": {
    "scrolled": true
   },
   "outputs": [
    {
     "data": {
      "text/plain": [
       "<AxesSubplot:label='727427ee-e7e1-4581-811f-9269a84972cb'>"
      ]
     },
     "execution_count": 29,
     "metadata": {},
     "output_type": "execute_result"
    },
    {
     "data": {
      "image/png": "[encoded data removed]",
      "text/plain": [
       "<Figure size 432x288 with 2 Axes>"
      ]
     },
     "metadata": {
      "needs_background": "light"
     },
     "output_type": "display_data"
    }
   ],
   "source": [
    "weekly = finland_hap_filter.groupby('week')['happiness_rating'].mean()\n",
    "weekly.plot()\n",
    "weekly_covid['daily_change'].plot(grid=True, secondary_y=True)"
   ]
  },
  {
   "cell_type": "markdown",
   "metadata": {},
   "source": [
    "## Interpolated Happiness Ratings Finland"
   ]
  },
  {
   "cell_type": "code",
   "execution_count": 30,
   "metadata": {},
   "outputs": [],
   "source": [
    "finland_df_daily=finland_df.set_index(pd.to_datetime(finland_df['date']))"
   ]
  },
  {
   "cell_type": "code",
   "execution_count": 31,
   "metadata": {
    "scrolled": true
   },
   "outputs": [],
   "source": [
    "finland_df_daily=finland_df_daily[['date', 'happiness_rating']]"
   ]
  },
  {
   "cell_type": "code",
   "execution_count": 32,
   "metadata": {},
   "outputs": [],
   "source": [
    "finland_df_daily.to_csv('../data/exported_subset_data/happiness_2020/interpolated_finland.csv')"
   ]
  },
  {
   "cell_type": "code",
   "execution_count": 33,
   "metadata": {
    "scrolled": true
   },
   "outputs": [
    {
     "data": {
      "text/plain": [
       "<AxesSubplot:label='421fb98c-042c-47b6-9f56-374eace5d948'>"
      ]
     },
     "execution_count": 33,
     "metadata": {},
     "output_type": "execute_result"
    },
    {
     "data": {
      "image/png": "[encoded data removed]",
      "text/plain": [
       "<Figure size 432x288 with 2 Axes>"
      ]
     },
     "metadata": {
      "needs_background": "light"
     },
     "output_type": "display_data"
    }
   ],
   "source": [
    "finland_df_daily.resample('5D').interpolate().rolling('10D')['happiness_rating'].mean().plot()\n",
    "weekly_covid['daily_change'].plot(secondary_y=True)"
   ]
  },
  {
   "cell_type": "markdown",
   "metadata": {},
   "source": [
    "### Observations\n",
    "There are some matches between the two plots. Blue plot of happiness has major dip in May, which is shortly after first peak of cases in April. Happiness increases between Jun and July as cases remain low and controlled before returning to around the mean. Small dip again in October as 2nd wave starts, a little buffer region and cases are now starting to skyrocket once more in Dec. Happiness ratings may decline again? Interesting that the # of daily case changes is so low though (in the 100-400 region) which is much smaller compared that seen with Denmark. I would expect Finland's overall happiness to not decrease as much if these correlations do pan out."
   ]
  },
  {
   "cell_type": "markdown",
   "metadata": {},
   "source": [
    "## Happiness rating mean for 2020 as a whole in Finland"
   ]
  },
  {
   "cell_type": "code",
   "execution_count": 34,
   "metadata": {
    "scrolled": true
   },
   "outputs": [
    {
     "data": {
      "text/plain": [
       "6.852806376619063"
      ]
     },
     "execution_count": 34,
     "metadata": {},
     "output_type": "execute_result"
    }
   ],
   "source": [
    "finland_hap_filter['happiness_rating'].mean()"
   ]
  },
  {
   "cell_type": "markdown",
   "metadata": {},
   "source": [
    "Finland's happiness rating in 2019 was 7.78. Decrease in happiness rating in 2020."
   ]
  }
 ],
 "metadata": {
  "kernelspec": {
   "display_name": "Python 3",
   "language": "python",
   "name": "python3"
  },
  "language_info": {
   "codemirror_mode": {
    "name": "ipython",
    "version": 3
   },
   "file_extension": ".py",
   "mimetype": "text/x-python",
   "name": "python",
   "nbconvert_exporter": "python",
   "pygments_lexer": "ipython3",
   "version": "3.7.3"
  }
 },
 "nbformat": 4,
 "nbformat_minor": 2
}
