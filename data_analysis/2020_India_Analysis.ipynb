{
 "cells": [
  {
   "cell_type": "markdown",
   "metadata": {},
   "source": [
    "# 2020 India Data Analysis"
   ]
  },
  {
   "cell_type": "code",
   "execution_count": 1,
   "metadata": {},
   "outputs": [],
   "source": [
    "import pandas as pd\n",
    "import matplotlib.pyplot as plt\n",
    "import plotly_express as px\n",
    "import seaborn as sns\n",
    "\n",
    "import warnings\n",
    "warnings.simplefilter('ignore')\n",
    "import statsmodels.formula.api as smf"
   ]
  },
  {
   "cell_type": "markdown",
   "metadata": {},
   "source": [
    "## Things Explored in this Analysis\n",
    "- initial exploration of cleaned datasets for happiness and cases in India\n",
    "- different methods of visualizing happiness vs. cases data (daily, weekly, monthly, interpolated)"
   ]
  },
  {
   "cell_type": "markdown",
   "metadata": {},
   "source": [
    "## Load cleaned csv's into df"
   ]
  },
  {
   "cell_type": "code",
   "execution_count": 2,
   "metadata": {
    "scrolled": true
   },
   "outputs": [],
   "source": [
    "india_hap_filter = pd.read_csv('../data/cleaned_data/2020/india_hap_cleaned.csv')\n",
    "india_cov=pd.read_csv('../data/cleaned_data/2020/india_covid.csv')"
   ]
  },
  {
   "cell_type": "markdown",
   "metadata": {},
   "source": [
    "## Initial investigation of cleaned subsets"
   ]
  },
  {
   "cell_type": "code",
   "execution_count": 3,
   "metadata": {
    "scrolled": true
   },
   "outputs": [
    {
     "data": {
      "text/html": [
       "<div>\n",
       "<style scoped>\n",
       "    .dataframe tbody tr th:only-of-type {\n",
       "        vertical-align: middle;\n",
       "    }\n",
       "\n",
       "    .dataframe tbody tr th {\n",
       "        vertical-align: top;\n",
       "    }\n",
       "\n",
       "    .dataframe thead th {\n",
       "        text-align: right;\n",
       "    }\n",
       "</style>\n",
       "<table border=\"1\" class=\"dataframe\">\n",
       "  <thead>\n",
       "    <tr style=\"text-align: right;\">\n",
       "      <th></th>\n",
       "      <th>Unnamed: 0</th>\n",
       "      <th>date</th>\n",
       "      <th>week</th>\n",
       "      <th>mental_health_condition</th>\n",
       "      <th>age</th>\n",
       "      <th>gender</th>\n",
       "      <th>happiness_rating</th>\n",
       "    </tr>\n",
       "  </thead>\n",
       "  <tbody>\n",
       "    <tr>\n",
       "      <th>0</th>\n",
       "      <td>4004</td>\n",
       "      <td>2020-04-30</td>\n",
       "      <td>week 5</td>\n",
       "      <td>No</td>\n",
       "      <td>34</td>\n",
       "      <td>Female</td>\n",
       "      <td>5.0</td>\n",
       "    </tr>\n",
       "    <tr>\n",
       "      <th>1</th>\n",
       "      <td>4005</td>\n",
       "      <td>2020-04-30</td>\n",
       "      <td>week 5</td>\n",
       "      <td>No</td>\n",
       "      <td>31</td>\n",
       "      <td>Female</td>\n",
       "      <td>5.0</td>\n",
       "    </tr>\n",
       "    <tr>\n",
       "      <th>2</th>\n",
       "      <td>4006</td>\n",
       "      <td>2020-04-30</td>\n",
       "      <td>week 5</td>\n",
       "      <td>No</td>\n",
       "      <td>27</td>\n",
       "      <td>Female</td>\n",
       "      <td>8.0</td>\n",
       "    </tr>\n",
       "    <tr>\n",
       "      <th>3</th>\n",
       "      <td>4007</td>\n",
       "      <td>2020-04-30</td>\n",
       "      <td>week 5</td>\n",
       "      <td>No</td>\n",
       "      <td>28</td>\n",
       "      <td>Female</td>\n",
       "      <td>5.0</td>\n",
       "    </tr>\n",
       "    <tr>\n",
       "      <th>4</th>\n",
       "      <td>4008</td>\n",
       "      <td>2020-04-30</td>\n",
       "      <td>week 5</td>\n",
       "      <td>No</td>\n",
       "      <td>30</td>\n",
       "      <td>Male</td>\n",
       "      <td>8.0</td>\n",
       "    </tr>\n",
       "    <tr>\n",
       "      <th>...</th>\n",
       "      <td>...</td>\n",
       "      <td>...</td>\n",
       "      <td>...</td>\n",
       "      <td>...</td>\n",
       "      <td>...</td>\n",
       "      <td>...</td>\n",
       "      <td>...</td>\n",
       "    </tr>\n",
       "    <tr>\n",
       "      <th>12136</th>\n",
       "      <td>16140</td>\n",
       "      <td>2020-09-20</td>\n",
       "      <td>week 16</td>\n",
       "      <td>No</td>\n",
       "      <td>55</td>\n",
       "      <td>Female</td>\n",
       "      <td>8.0</td>\n",
       "    </tr>\n",
       "    <tr>\n",
       "      <th>12137</th>\n",
       "      <td>16141</td>\n",
       "      <td>2020-09-20</td>\n",
       "      <td>week 16</td>\n",
       "      <td>No</td>\n",
       "      <td>48</td>\n",
       "      <td>Female</td>\n",
       "      <td>8.0</td>\n",
       "    </tr>\n",
       "    <tr>\n",
       "      <th>12138</th>\n",
       "      <td>16142</td>\n",
       "      <td>2020-09-20</td>\n",
       "      <td>week 16</td>\n",
       "      <td>No</td>\n",
       "      <td>50</td>\n",
       "      <td>Female</td>\n",
       "      <td>3.0</td>\n",
       "    </tr>\n",
       "    <tr>\n",
       "      <th>12139</th>\n",
       "      <td>16143</td>\n",
       "      <td>2020-09-20</td>\n",
       "      <td>week 16</td>\n",
       "      <td>No</td>\n",
       "      <td>51</td>\n",
       "      <td>Female</td>\n",
       "      <td>10.0</td>\n",
       "    </tr>\n",
       "    <tr>\n",
       "      <th>12140</th>\n",
       "      <td>16144</td>\n",
       "      <td>2020-09-20</td>\n",
       "      <td>week 16</td>\n",
       "      <td>No</td>\n",
       "      <td>59</td>\n",
       "      <td>Female</td>\n",
       "      <td>0.0</td>\n",
       "    </tr>\n",
       "  </tbody>\n",
       "</table>\n",
       "<p>12141 rows × 7 columns</p>\n",
       "</div>"
      ],
      "text/plain": [
       "       Unnamed: 0        date     week mental_health_condition  age  gender  \\\n",
       "0            4004  2020-04-30   week 5                      No   34  Female   \n",
       "1            4005  2020-04-30   week 5                      No   31  Female   \n",
       "2            4006  2020-04-30   week 5                      No   27  Female   \n",
       "3            4007  2020-04-30   week 5                      No   28  Female   \n",
       "4            4008  2020-04-30   week 5                      No   30    Male   \n",
       "...           ...         ...      ...                     ...  ...     ...   \n",
       "12136       16140  2020-09-20  week 16                      No   55  Female   \n",
       "12137       16141  2020-09-20  week 16                      No   48  Female   \n",
       "12138       16142  2020-09-20  week 16                      No   50  Female   \n",
       "12139       16143  2020-09-20  week 16                      No   51  Female   \n",
       "12140       16144  2020-09-20  week 16                      No   59  Female   \n",
       "\n",
       "       happiness_rating  \n",
       "0                   5.0  \n",
       "1                   5.0  \n",
       "2                   8.0  \n",
       "3                   5.0  \n",
       "4                   8.0  \n",
       "...                 ...  \n",
       "12136               8.0  \n",
       "12137               8.0  \n",
       "12138               3.0  \n",
       "12139              10.0  \n",
       "12140               0.0  \n",
       "\n",
       "[12141 rows x 7 columns]"
      ]
     },
     "execution_count": 3,
     "metadata": {},
     "output_type": "execute_result"
    }
   ],
   "source": [
    "india_hap_filter"
   ]
  },
  {
   "cell_type": "code",
   "execution_count": 4,
   "metadata": {},
   "outputs": [
    {
     "data": {
      "text/plain": [
       "<AxesSubplot:>"
      ]
     },
     "execution_count": 4,
     "metadata": {},
     "output_type": "execute_result"
    },
    {
     "data": {
      "image/png": "[encoded data removed]",
      "text/plain": [
       "<Figure size 432x288 with 1 Axes>"
      ]
     },
     "metadata": {
      "needs_background": "light"
     },
     "output_type": "display_data"
    }
   ],
   "source": [
    "india_hap_filter['happiness_rating'].hist()"
   ]
  },
  {
   "cell_type": "code",
   "execution_count": 5,
   "metadata": {
    "scrolled": true
   },
   "outputs": [
    {
     "data": {
      "text/html": [
       "<div>\n",
       "<style scoped>\n",
       "    .dataframe tbody tr th:only-of-type {\n",
       "        vertical-align: middle;\n",
       "    }\n",
       "\n",
       "    .dataframe tbody tr th {\n",
       "        vertical-align: top;\n",
       "    }\n",
       "\n",
       "    .dataframe thead th {\n",
       "        text-align: right;\n",
       "    }\n",
       "</style>\n",
       "<table border=\"1\" class=\"dataframe\">\n",
       "  <thead>\n",
       "    <tr style=\"text-align: right;\">\n",
       "      <th></th>\n",
       "      <th>Unnamed: 0</th>\n",
       "      <th>Province/State</th>\n",
       "      <th>Country/Region</th>\n",
       "      <th>Lat</th>\n",
       "      <th>Long</th>\n",
       "      <th>date</th>\n",
       "      <th>cases</th>\n",
       "    </tr>\n",
       "  </thead>\n",
       "  <tbody>\n",
       "    <tr>\n",
       "      <th>0</th>\n",
       "      <td>0</td>\n",
       "      <td>NaN</td>\n",
       "      <td>India</td>\n",
       "      <td>20.593684</td>\n",
       "      <td>78.96288</td>\n",
       "      <td>2020-01-22</td>\n",
       "      <td>0</td>\n",
       "    </tr>\n",
       "    <tr>\n",
       "      <th>1</th>\n",
       "      <td>1</td>\n",
       "      <td>NaN</td>\n",
       "      <td>India</td>\n",
       "      <td>20.593684</td>\n",
       "      <td>78.96288</td>\n",
       "      <td>2020-01-23</td>\n",
       "      <td>0</td>\n",
       "    </tr>\n",
       "    <tr>\n",
       "      <th>2</th>\n",
       "      <td>2</td>\n",
       "      <td>NaN</td>\n",
       "      <td>India</td>\n",
       "      <td>20.593684</td>\n",
       "      <td>78.96288</td>\n",
       "      <td>2020-01-24</td>\n",
       "      <td>0</td>\n",
       "    </tr>\n",
       "    <tr>\n",
       "      <th>3</th>\n",
       "      <td>3</td>\n",
       "      <td>NaN</td>\n",
       "      <td>India</td>\n",
       "      <td>20.593684</td>\n",
       "      <td>78.96288</td>\n",
       "      <td>2020-01-25</td>\n",
       "      <td>0</td>\n",
       "    </tr>\n",
       "    <tr>\n",
       "      <th>4</th>\n",
       "      <td>4</td>\n",
       "      <td>NaN</td>\n",
       "      <td>India</td>\n",
       "      <td>20.593684</td>\n",
       "      <td>78.96288</td>\n",
       "      <td>2020-01-26</td>\n",
       "      <td>0</td>\n",
       "    </tr>\n",
       "    <tr>\n",
       "      <th>...</th>\n",
       "      <td>...</td>\n",
       "      <td>...</td>\n",
       "      <td>...</td>\n",
       "      <td>...</td>\n",
       "      <td>...</td>\n",
       "      <td>...</td>\n",
       "      <td>...</td>\n",
       "    </tr>\n",
       "    <tr>\n",
       "      <th>312</th>\n",
       "      <td>312</td>\n",
       "      <td>NaN</td>\n",
       "      <td>India</td>\n",
       "      <td>20.593684</td>\n",
       "      <td>78.96288</td>\n",
       "      <td>2020-11-29</td>\n",
       "      <td>9431691</td>\n",
       "    </tr>\n",
       "    <tr>\n",
       "      <th>313</th>\n",
       "      <td>313</td>\n",
       "      <td>NaN</td>\n",
       "      <td>India</td>\n",
       "      <td>20.593684</td>\n",
       "      <td>78.96288</td>\n",
       "      <td>2020-11-30</td>\n",
       "      <td>9462809</td>\n",
       "    </tr>\n",
       "    <tr>\n",
       "      <th>314</th>\n",
       "      <td>314</td>\n",
       "      <td>NaN</td>\n",
       "      <td>India</td>\n",
       "      <td>20.593684</td>\n",
       "      <td>78.96288</td>\n",
       "      <td>2020-12-01</td>\n",
       "      <td>9499413</td>\n",
       "    </tr>\n",
       "    <tr>\n",
       "      <th>315</th>\n",
       "      <td>315</td>\n",
       "      <td>NaN</td>\n",
       "      <td>India</td>\n",
       "      <td>20.593684</td>\n",
       "      <td>78.96288</td>\n",
       "      <td>2020-12-02</td>\n",
       "      <td>9534964</td>\n",
       "    </tr>\n",
       "    <tr>\n",
       "      <th>316</th>\n",
       "      <td>316</td>\n",
       "      <td>NaN</td>\n",
       "      <td>India</td>\n",
       "      <td>20.593684</td>\n",
       "      <td>78.96288</td>\n",
       "      <td>2020-12-03</td>\n",
       "      <td>9571559</td>\n",
       "    </tr>\n",
       "  </tbody>\n",
       "</table>\n",
       "<p>317 rows × 7 columns</p>\n",
       "</div>"
      ],
      "text/plain": [
       "     Unnamed: 0  Province/State Country/Region        Lat      Long  \\\n",
       "0             0             NaN          India  20.593684  78.96288   \n",
       "1             1             NaN          India  20.593684  78.96288   \n",
       "2             2             NaN          India  20.593684  78.96288   \n",
       "3             3             NaN          India  20.593684  78.96288   \n",
       "4             4             NaN          India  20.593684  78.96288   \n",
       "..          ...             ...            ...        ...       ...   \n",
       "312         312             NaN          India  20.593684  78.96288   \n",
       "313         313             NaN          India  20.593684  78.96288   \n",
       "314         314             NaN          India  20.593684  78.96288   \n",
       "315         315             NaN          India  20.593684  78.96288   \n",
       "316         316             NaN          India  20.593684  78.96288   \n",
       "\n",
       "           date    cases  \n",
       "0    2020-01-22        0  \n",
       "1    2020-01-23        0  \n",
       "2    2020-01-24        0  \n",
       "3    2020-01-25        0  \n",
       "4    2020-01-26        0  \n",
       "..          ...      ...  \n",
       "312  2020-11-29  9431691  \n",
       "313  2020-11-30  9462809  \n",
       "314  2020-12-01  9499413  \n",
       "315  2020-12-02  9534964  \n",
       "316  2020-12-03  9571559  \n",
       "\n",
       "[317 rows x 7 columns]"
      ]
     },
     "execution_count": 5,
     "metadata": {},
     "output_type": "execute_result"
    }
   ],
   "source": [
    "india_cov"
   ]
  },
  {
   "cell_type": "code",
   "execution_count": 6,
   "metadata": {
    "scrolled": true
   },
   "outputs": [
    {
     "data": {
      "text/html": [
       "<div>\n",
       "<style scoped>\n",
       "    .dataframe tbody tr th:only-of-type {\n",
       "        vertical-align: middle;\n",
       "    }\n",
       "\n",
       "    .dataframe tbody tr th {\n",
       "        vertical-align: top;\n",
       "    }\n",
       "\n",
       "    .dataframe thead th {\n",
       "        text-align: right;\n",
       "    }\n",
       "</style>\n",
       "<table border=\"1\" class=\"dataframe\">\n",
       "  <thead>\n",
       "    <tr style=\"text-align: right;\">\n",
       "      <th></th>\n",
       "      <th>date</th>\n",
       "      <th>cases</th>\n",
       "    </tr>\n",
       "  </thead>\n",
       "  <tbody>\n",
       "    <tr>\n",
       "      <th>0</th>\n",
       "      <td>2020-01-22</td>\n",
       "      <td>0</td>\n",
       "    </tr>\n",
       "    <tr>\n",
       "      <th>1</th>\n",
       "      <td>2020-01-23</td>\n",
       "      <td>0</td>\n",
       "    </tr>\n",
       "    <tr>\n",
       "      <th>2</th>\n",
       "      <td>2020-01-24</td>\n",
       "      <td>0</td>\n",
       "    </tr>\n",
       "    <tr>\n",
       "      <th>3</th>\n",
       "      <td>2020-01-25</td>\n",
       "      <td>0</td>\n",
       "    </tr>\n",
       "    <tr>\n",
       "      <th>4</th>\n",
       "      <td>2020-01-26</td>\n",
       "      <td>0</td>\n",
       "    </tr>\n",
       "    <tr>\n",
       "      <th>...</th>\n",
       "      <td>...</td>\n",
       "      <td>...</td>\n",
       "    </tr>\n",
       "    <tr>\n",
       "      <th>312</th>\n",
       "      <td>2020-11-29</td>\n",
       "      <td>9431691</td>\n",
       "    </tr>\n",
       "    <tr>\n",
       "      <th>313</th>\n",
       "      <td>2020-11-30</td>\n",
       "      <td>9462809</td>\n",
       "    </tr>\n",
       "    <tr>\n",
       "      <th>314</th>\n",
       "      <td>2020-12-01</td>\n",
       "      <td>9499413</td>\n",
       "    </tr>\n",
       "    <tr>\n",
       "      <th>315</th>\n",
       "      <td>2020-12-02</td>\n",
       "      <td>9534964</td>\n",
       "    </tr>\n",
       "    <tr>\n",
       "      <th>316</th>\n",
       "      <td>2020-12-03</td>\n",
       "      <td>9571559</td>\n",
       "    </tr>\n",
       "  </tbody>\n",
       "</table>\n",
       "<p>317 rows × 2 columns</p>\n",
       "</div>"
      ],
      "text/plain": [
       "           date    cases\n",
       "0    2020-01-22        0\n",
       "1    2020-01-23        0\n",
       "2    2020-01-24        0\n",
       "3    2020-01-25        0\n",
       "4    2020-01-26        0\n",
       "..          ...      ...\n",
       "312  2020-11-29  9431691\n",
       "313  2020-11-30  9462809\n",
       "314  2020-12-01  9499413\n",
       "315  2020-12-02  9534964\n",
       "316  2020-12-03  9571559\n",
       "\n",
       "[317 rows x 2 columns]"
      ]
     },
     "execution_count": 6,
     "metadata": {},
     "output_type": "execute_result"
    }
   ],
   "source": [
    "india_cov = india_cov[['date','cases']]\n",
    "india_cov"
   ]
  },
  {
   "cell_type": "code",
   "execution_count": 7,
   "metadata": {},
   "outputs": [
    {
     "data": {
      "text/plain": [
       "(317, 2)"
      ]
     },
     "execution_count": 7,
     "metadata": {},
     "output_type": "execute_result"
    }
   ],
   "source": [
    "india_cov.shape"
   ]
  },
  {
   "cell_type": "code",
   "execution_count": 8,
   "metadata": {},
   "outputs": [
    {
     "data": {
      "text/plain": [
       "count    3.170000e+02\n",
       "mean     2.539056e+06\n",
       "std      3.252640e+06\n",
       "min      0.000000e+00\n",
       "25%      7.598000e+03\n",
       "50%      5.483180e+05\n",
       "75%      5.020359e+06\n",
       "max      9.571559e+06\n",
       "Name: cases, dtype: float64"
      ]
     },
     "execution_count": 8,
     "metadata": {},
     "output_type": "execute_result"
    }
   ],
   "source": [
    "india_cov['cases'].describe()"
   ]
  },
  {
   "cell_type": "code",
   "execution_count": 9,
   "metadata": {},
   "outputs": [],
   "source": [
    "india_cov['date'] = pd.to_datetime(india_cov['date'])"
   ]
  },
  {
   "cell_type": "markdown",
   "metadata": {},
   "source": [
    "## Group COVID-19 cases by date"
   ]
  },
  {
   "cell_type": "markdown",
   "metadata": {},
   "source": [
    "Start off by looking at some general cases patterns in India"
   ]
  },
  {
   "cell_type": "code",
   "execution_count": 10,
   "metadata": {
    "scrolled": true
   },
   "outputs": [
    {
     "data": {
      "text/html": [
       "<div>\n",
       "<style scoped>\n",
       "    .dataframe tbody tr th:only-of-type {\n",
       "        vertical-align: middle;\n",
       "    }\n",
       "\n",
       "    .dataframe tbody tr th {\n",
       "        vertical-align: top;\n",
       "    }\n",
       "\n",
       "    .dataframe thead th {\n",
       "        text-align: right;\n",
       "    }\n",
       "</style>\n",
       "<table border=\"1\" class=\"dataframe\">\n",
       "  <thead>\n",
       "    <tr style=\"text-align: right;\">\n",
       "      <th></th>\n",
       "      <th>cases</th>\n",
       "    </tr>\n",
       "    <tr>\n",
       "      <th>date</th>\n",
       "      <th></th>\n",
       "    </tr>\n",
       "  </thead>\n",
       "  <tbody>\n",
       "    <tr>\n",
       "      <th>2020-01-22</th>\n",
       "      <td>0</td>\n",
       "    </tr>\n",
       "    <tr>\n",
       "      <th>2020-01-23</th>\n",
       "      <td>0</td>\n",
       "    </tr>\n",
       "    <tr>\n",
       "      <th>2020-01-24</th>\n",
       "      <td>0</td>\n",
       "    </tr>\n",
       "    <tr>\n",
       "      <th>2020-01-25</th>\n",
       "      <td>0</td>\n",
       "    </tr>\n",
       "    <tr>\n",
       "      <th>2020-01-26</th>\n",
       "      <td>0</td>\n",
       "    </tr>\n",
       "    <tr>\n",
       "      <th>...</th>\n",
       "      <td>...</td>\n",
       "    </tr>\n",
       "    <tr>\n",
       "      <th>2020-11-29</th>\n",
       "      <td>9431691</td>\n",
       "    </tr>\n",
       "    <tr>\n",
       "      <th>2020-11-30</th>\n",
       "      <td>9462809</td>\n",
       "    </tr>\n",
       "    <tr>\n",
       "      <th>2020-12-01</th>\n",
       "      <td>9499413</td>\n",
       "    </tr>\n",
       "    <tr>\n",
       "      <th>2020-12-02</th>\n",
       "      <td>9534964</td>\n",
       "    </tr>\n",
       "    <tr>\n",
       "      <th>2020-12-03</th>\n",
       "      <td>9571559</td>\n",
       "    </tr>\n",
       "  </tbody>\n",
       "</table>\n",
       "<p>317 rows × 1 columns</p>\n",
       "</div>"
      ],
      "text/plain": [
       "              cases\n",
       "date               \n",
       "2020-01-22        0\n",
       "2020-01-23        0\n",
       "2020-01-24        0\n",
       "2020-01-25        0\n",
       "2020-01-26        0\n",
       "...             ...\n",
       "2020-11-29  9431691\n",
       "2020-11-30  9462809\n",
       "2020-12-01  9499413\n",
       "2020-12-02  9534964\n",
       "2020-12-03  9571559\n",
       "\n",
       "[317 rows x 1 columns]"
      ]
     },
     "execution_count": 10,
     "metadata": {},
     "output_type": "execute_result"
    }
   ],
   "source": [
    "india_date_cov=india_cov.groupby('date').sum()\n",
    "india_date_cov"
   ]
  },
  {
   "cell_type": "code",
   "execution_count": 11,
   "metadata": {
    "scrolled": true
   },
   "outputs": [
    {
     "data": {
      "text/plain": [
       "Text(0, 0.5, 'Cases')"
      ]
     },
     "execution_count": 11,
     "metadata": {},
     "output_type": "execute_result"
    },
    {
     "data": {
      "image/png": "[encoded data removed]",
      "text/plain": [
       "<Figure size 360x360 with 1 Axes>"
      ]
     },
     "metadata": {
      "needs_background": "light"
     },
     "output_type": "display_data"
    }
   ],
   "source": [
    "india_date_cov.plot(kind='line',figsize=(5,5))\n",
    "plt.legend(loc= 'center left', bbox_to_anchor=(1.0,0.5))\n",
    "plt.xlabel('Date')\n",
    "plt.ylabel('Cases')"
   ]
  },
  {
   "cell_type": "markdown",
   "metadata": {},
   "source": [
    "### Observations\n",
    "\n",
    "Based on this plot, looks like India had a much later peak than some of the other countries I've look at so far. I wonder how the happiness ratings are going to look since India historically ranks relatively low on the ladder."
   ]
  },
  {
   "cell_type": "code",
   "execution_count": 12,
   "metadata": {},
   "outputs": [],
   "source": [
    "india_hap_filter['date'] = pd.to_datetime(india_hap_filter.date)\n",
    "india_hap_filter['date'] = india_hap_filter['date'].dt.date"
   ]
  },
  {
   "cell_type": "code",
   "execution_count": 13,
   "metadata": {},
   "outputs": [],
   "source": [
    "india_hap_filter['happiness_rating'] = india_hap_filter['happiness_rating'].astype(float)"
   ]
  },
  {
   "cell_type": "markdown",
   "metadata": {},
   "source": [
    "## Group happiness ratings by date"
   ]
  },
  {
   "cell_type": "code",
   "execution_count": 14,
   "metadata": {
    "scrolled": true
   },
   "outputs": [
    {
     "data": {
      "text/html": [
       "<div>\n",
       "<style scoped>\n",
       "    .dataframe tbody tr th:only-of-type {\n",
       "        vertical-align: middle;\n",
       "    }\n",
       "\n",
       "    .dataframe tbody tr th {\n",
       "        vertical-align: top;\n",
       "    }\n",
       "\n",
       "    .dataframe thead th {\n",
       "        text-align: right;\n",
       "    }\n",
       "</style>\n",
       "<table border=\"1\" class=\"dataframe\">\n",
       "  <thead>\n",
       "    <tr style=\"text-align: right;\">\n",
       "      <th></th>\n",
       "      <th>date</th>\n",
       "      <th>happiness_rating</th>\n",
       "    </tr>\n",
       "  </thead>\n",
       "  <tbody>\n",
       "    <tr>\n",
       "      <th>0</th>\n",
       "      <td>2020-01-05</td>\n",
       "      <td>6.166667</td>\n",
       "    </tr>\n",
       "    <tr>\n",
       "      <th>1</th>\n",
       "      <td>2020-02-05</td>\n",
       "      <td>6.758065</td>\n",
       "    </tr>\n",
       "    <tr>\n",
       "      <th>2</th>\n",
       "      <td>2020-02-06</td>\n",
       "      <td>7.153846</td>\n",
       "    </tr>\n",
       "    <tr>\n",
       "      <th>3</th>\n",
       "      <td>2020-02-09</td>\n",
       "      <td>6.296199</td>\n",
       "    </tr>\n",
       "    <tr>\n",
       "      <th>4</th>\n",
       "      <td>2020-03-05</td>\n",
       "      <td>6.659091</td>\n",
       "    </tr>\n",
       "    <tr>\n",
       "      <th>...</th>\n",
       "      <td>...</td>\n",
       "      <td>...</td>\n",
       "    </tr>\n",
       "    <tr>\n",
       "      <th>60</th>\n",
       "      <td>2020-10-08</td>\n",
       "      <td>7.000000</td>\n",
       "    </tr>\n",
       "    <tr>\n",
       "      <th>61</th>\n",
       "      <td>2020-11-06</td>\n",
       "      <td>5.500000</td>\n",
       "    </tr>\n",
       "    <tr>\n",
       "      <th>62</th>\n",
       "      <td>2020-11-07</td>\n",
       "      <td>6.593750</td>\n",
       "    </tr>\n",
       "    <tr>\n",
       "      <th>63</th>\n",
       "      <td>2020-12-06</td>\n",
       "      <td>5.444444</td>\n",
       "    </tr>\n",
       "    <tr>\n",
       "      <th>64</th>\n",
       "      <td>2020-12-07</td>\n",
       "      <td>6.609375</td>\n",
       "    </tr>\n",
       "  </tbody>\n",
       "</table>\n",
       "<p>65 rows × 2 columns</p>\n",
       "</div>"
      ],
      "text/plain": [
       "          date  happiness_rating\n",
       "0   2020-01-05          6.166667\n",
       "1   2020-02-05          6.758065\n",
       "2   2020-02-06          7.153846\n",
       "3   2020-02-09          6.296199\n",
       "4   2020-03-05          6.659091\n",
       "..         ...               ...\n",
       "60  2020-10-08          7.000000\n",
       "61  2020-11-06          5.500000\n",
       "62  2020-11-07          6.593750\n",
       "63  2020-12-06          5.444444\n",
       "64  2020-12-07          6.609375\n",
       "\n",
       "[65 rows x 2 columns]"
      ]
     },
     "execution_count": 14,
     "metadata": {},
     "output_type": "execute_result"
    }
   ],
   "source": [
    "india_hap_filter.groupby('date')['happiness_rating'].mean().reset_index()"
   ]
  },
  {
   "cell_type": "markdown",
   "metadata": {},
   "source": [
    "## Calculating daily changes in COVID-19 cases count"
   ]
  },
  {
   "cell_type": "code",
   "execution_count": 15,
   "metadata": {
    "scrolled": false
   },
   "outputs": [
    {
     "data": {
      "text/html": [
       "<div>\n",
       "<style scoped>\n",
       "    .dataframe tbody tr th:only-of-type {\n",
       "        vertical-align: middle;\n",
       "    }\n",
       "\n",
       "    .dataframe tbody tr th {\n",
       "        vertical-align: top;\n",
       "    }\n",
       "\n",
       "    .dataframe thead th {\n",
       "        text-align: right;\n",
       "    }\n",
       "</style>\n",
       "<table border=\"1\" class=\"dataframe\">\n",
       "  <thead>\n",
       "    <tr style=\"text-align: right;\">\n",
       "      <th></th>\n",
       "      <th>cases</th>\n",
       "      <th>daily_change</th>\n",
       "    </tr>\n",
       "    <tr>\n",
       "      <th>date</th>\n",
       "      <th></th>\n",
       "      <th></th>\n",
       "    </tr>\n",
       "  </thead>\n",
       "  <tbody>\n",
       "    <tr>\n",
       "      <th>2020-01-22</th>\n",
       "      <td>0</td>\n",
       "      <td>NaN</td>\n",
       "    </tr>\n",
       "    <tr>\n",
       "      <th>2020-01-23</th>\n",
       "      <td>0</td>\n",
       "      <td>0.0</td>\n",
       "    </tr>\n",
       "    <tr>\n",
       "      <th>2020-01-24</th>\n",
       "      <td>0</td>\n",
       "      <td>0.0</td>\n",
       "    </tr>\n",
       "    <tr>\n",
       "      <th>2020-01-25</th>\n",
       "      <td>0</td>\n",
       "      <td>0.0</td>\n",
       "    </tr>\n",
       "    <tr>\n",
       "      <th>2020-01-26</th>\n",
       "      <td>0</td>\n",
       "      <td>0.0</td>\n",
       "    </tr>\n",
       "    <tr>\n",
       "      <th>...</th>\n",
       "      <td>...</td>\n",
       "      <td>...</td>\n",
       "    </tr>\n",
       "    <tr>\n",
       "      <th>2020-11-29</th>\n",
       "      <td>9431691</td>\n",
       "      <td>38772.0</td>\n",
       "    </tr>\n",
       "    <tr>\n",
       "      <th>2020-11-30</th>\n",
       "      <td>9462809</td>\n",
       "      <td>31118.0</td>\n",
       "    </tr>\n",
       "    <tr>\n",
       "      <th>2020-12-01</th>\n",
       "      <td>9499413</td>\n",
       "      <td>36604.0</td>\n",
       "    </tr>\n",
       "    <tr>\n",
       "      <th>2020-12-02</th>\n",
       "      <td>9534964</td>\n",
       "      <td>35551.0</td>\n",
       "    </tr>\n",
       "    <tr>\n",
       "      <th>2020-12-03</th>\n",
       "      <td>9571559</td>\n",
       "      <td>36595.0</td>\n",
       "    </tr>\n",
       "  </tbody>\n",
       "</table>\n",
       "<p>317 rows × 2 columns</p>\n",
       "</div>"
      ],
      "text/plain": [
       "              cases  daily_change\n",
       "date                             \n",
       "2020-01-22        0           NaN\n",
       "2020-01-23        0           0.0\n",
       "2020-01-24        0           0.0\n",
       "2020-01-25        0           0.0\n",
       "2020-01-26        0           0.0\n",
       "...             ...           ...\n",
       "2020-11-29  9431691       38772.0\n",
       "2020-11-30  9462809       31118.0\n",
       "2020-12-01  9499413       36604.0\n",
       "2020-12-02  9534964       35551.0\n",
       "2020-12-03  9571559       36595.0\n",
       "\n",
       "[317 rows x 2 columns]"
      ]
     },
     "execution_count": 15,
     "metadata": {},
     "output_type": "execute_result"
    }
   ],
   "source": [
    "india_date_cov['daily_change'] = india_date_cov['cases'].diff()\n",
    "india_date_cov"
   ]
  },
  {
   "cell_type": "code",
   "execution_count": 16,
   "metadata": {},
   "outputs": [],
   "source": [
    "india_date_cov.to_csv('../data/exported_subset_data/covid/covid_india.csv')"
   ]
  },
  {
   "cell_type": "code",
   "execution_count": 17,
   "metadata": {
    "scrolled": false
   },
   "outputs": [
    {
     "data": {
      "text/plain": [
       "<AxesSubplot:xlabel='date'>"
      ]
     },
     "execution_count": 17,
     "metadata": {},
     "output_type": "execute_result"
    },
    {
     "data": {
      "image/png": "[encoded data removed]",
      "text/plain": [
       "<Figure size 720x288 with 1 Axes>"
      ]
     },
     "metadata": {
      "needs_background": "light"
     },
     "output_type": "display_data"
    }
   ],
   "source": [
    "india_date_cov['daily_change'].plot(figsize=(10,4))"
   ]
  },
  {
   "cell_type": "markdown",
   "metadata": {},
   "source": [
    "### Observations\n",
    "This pattern of cases data is certiainly one not seen in Denmark, Finland, or the US. Appears to have been a much later surge in cases in India (Sept-Oct) and declining currently in December. Interested to see how happiness ratings have fluctuated."
   ]
  },
  {
   "cell_type": "code",
   "execution_count": 18,
   "metadata": {},
   "outputs": [],
   "source": [
    "india_df=india_hap_filter.groupby('date')['happiness_rating'].mean().reset_index()"
   ]
  },
  {
   "cell_type": "code",
   "execution_count": 19,
   "metadata": {
    "scrolled": true
   },
   "outputs": [],
   "source": [
    "india_df['date'] = pd.to_datetime(india_df['date'])"
   ]
  },
  {
   "cell_type": "markdown",
   "metadata": {},
   "source": [
    "## Happiness ratings vs. COVID-19 daily case changes"
   ]
  },
  {
   "cell_type": "code",
   "execution_count": 20,
   "metadata": {
    "scrolled": true
   },
   "outputs": [
    {
     "data": {
      "text/plain": [
       "<AxesSubplot:label='02c6b33a-54a5-4772-9277-574e9853aadb'>"
      ]
     },
     "execution_count": 20,
     "metadata": {},
     "output_type": "execute_result"
    },
    {
     "data": {
      "image/png": "[encoded data removed]",
      "text/plain": [
       "<Figure size 432x288 with 2 Axes>"
      ]
     },
     "metadata": {
      "needs_background": "light"
     },
     "output_type": "display_data"
    }
   ],
   "source": [
    "india_df.plot(x='date', y='happiness_rating', color='red',grid=True)\n",
    "\n",
    "cov= india_date_cov.groupby('date')['daily_change'].sum()\n",
    "cov.plot(x='date',y='daily_change', color='blue', grid=True, secondary_y=True)"
   ]
  },
  {
   "cell_type": "markdown",
   "metadata": {},
   "source": [
    "### Observations\n",
    "Spiky happiness ratings plot again-- inconsistent data available. Likely will need to do interpolated plot but first will attempt at monthly and maybe weekly plot"
   ]
  },
  {
   "cell_type": "markdown",
   "metadata": {},
   "source": [
    "## Monthly COVID-19 and monthly happiness rating means"
   ]
  },
  {
   "cell_type": "code",
   "execution_count": 21,
   "metadata": {},
   "outputs": [],
   "source": [
    "india_df['month_year'] = pd.to_datetime(india_df['date']).dt.to_period('M')"
   ]
  },
  {
   "cell_type": "code",
   "execution_count": 22,
   "metadata": {},
   "outputs": [
    {
     "data": {
      "text/html": [
       "<div>\n",
       "<style scoped>\n",
       "    .dataframe tbody tr th:only-of-type {\n",
       "        vertical-align: middle;\n",
       "    }\n",
       "\n",
       "    .dataframe tbody tr th {\n",
       "        vertical-align: top;\n",
       "    }\n",
       "\n",
       "    .dataframe thead th {\n",
       "        text-align: right;\n",
       "    }\n",
       "</style>\n",
       "<table border=\"1\" class=\"dataframe\">\n",
       "  <thead>\n",
       "    <tr style=\"text-align: right;\">\n",
       "      <th></th>\n",
       "      <th>date</th>\n",
       "      <th>happiness_rating</th>\n",
       "      <th>month_year</th>\n",
       "      <th>cases</th>\n",
       "      <th>daily_change</th>\n",
       "    </tr>\n",
       "  </thead>\n",
       "  <tbody>\n",
       "    <tr>\n",
       "      <th>0</th>\n",
       "      <td>2020-02-05</td>\n",
       "      <td>6.758065</td>\n",
       "      <td>2020-02</td>\n",
       "      <td>3</td>\n",
       "      <td>0.0</td>\n",
       "    </tr>\n",
       "    <tr>\n",
       "      <th>1</th>\n",
       "      <td>2020-02-06</td>\n",
       "      <td>7.153846</td>\n",
       "      <td>2020-02</td>\n",
       "      <td>3</td>\n",
       "      <td>0.0</td>\n",
       "    </tr>\n",
       "    <tr>\n",
       "      <th>2</th>\n",
       "      <td>2020-02-09</td>\n",
       "      <td>6.296199</td>\n",
       "      <td>2020-02</td>\n",
       "      <td>3</td>\n",
       "      <td>0.0</td>\n",
       "    </tr>\n",
       "    <tr>\n",
       "      <th>3</th>\n",
       "      <td>2020-03-05</td>\n",
       "      <td>6.659091</td>\n",
       "      <td>2020-03</td>\n",
       "      <td>30</td>\n",
       "      <td>2.0</td>\n",
       "    </tr>\n",
       "    <tr>\n",
       "      <th>4</th>\n",
       "      <td>2020-03-06</td>\n",
       "      <td>6.732116</td>\n",
       "      <td>2020-03</td>\n",
       "      <td>31</td>\n",
       "      <td>1.0</td>\n",
       "    </tr>\n",
       "    <tr>\n",
       "      <th>...</th>\n",
       "      <td>...</td>\n",
       "      <td>...</td>\n",
       "      <td>...</td>\n",
       "      <td>...</td>\n",
       "      <td>...</td>\n",
       "    </tr>\n",
       "    <tr>\n",
       "      <th>57</th>\n",
       "      <td>2020-10-06</td>\n",
       "      <td>6.375973</td>\n",
       "      <td>2020-10</td>\n",
       "      <td>6757131</td>\n",
       "      <td>72049.0</td>\n",
       "    </tr>\n",
       "    <tr>\n",
       "      <th>58</th>\n",
       "      <td>2020-10-07</td>\n",
       "      <td>6.655738</td>\n",
       "      <td>2020-10</td>\n",
       "      <td>6835655</td>\n",
       "      <td>78524.0</td>\n",
       "    </tr>\n",
       "    <tr>\n",
       "      <th>59</th>\n",
       "      <td>2020-10-08</td>\n",
       "      <td>7.000000</td>\n",
       "      <td>2020-10</td>\n",
       "      <td>6906151</td>\n",
       "      <td>70496.0</td>\n",
       "    </tr>\n",
       "    <tr>\n",
       "      <th>60</th>\n",
       "      <td>2020-11-06</td>\n",
       "      <td>5.500000</td>\n",
       "      <td>2020-11</td>\n",
       "      <td>8462080</td>\n",
       "      <td>50356.0</td>\n",
       "    </tr>\n",
       "    <tr>\n",
       "      <th>61</th>\n",
       "      <td>2020-11-07</td>\n",
       "      <td>6.593750</td>\n",
       "      <td>2020-11</td>\n",
       "      <td>8507754</td>\n",
       "      <td>45674.0</td>\n",
       "    </tr>\n",
       "  </tbody>\n",
       "</table>\n",
       "<p>62 rows × 5 columns</p>\n",
       "</div>"
      ],
      "text/plain": [
       "         date  happiness_rating month_year    cases  daily_change\n",
       "0  2020-02-05          6.758065    2020-02        3           0.0\n",
       "1  2020-02-06          7.153846    2020-02        3           0.0\n",
       "2  2020-02-09          6.296199    2020-02        3           0.0\n",
       "3  2020-03-05          6.659091    2020-03       30           2.0\n",
       "4  2020-03-06          6.732116    2020-03       31           1.0\n",
       "..        ...               ...        ...      ...           ...\n",
       "57 2020-10-06          6.375973    2020-10  6757131       72049.0\n",
       "58 2020-10-07          6.655738    2020-10  6835655       78524.0\n",
       "59 2020-10-08          7.000000    2020-10  6906151       70496.0\n",
       "60 2020-11-06          5.500000    2020-11  8462080       50356.0\n",
       "61 2020-11-07          6.593750    2020-11  8507754       45674.0\n",
       "\n",
       "[62 rows x 5 columns]"
      ]
     },
     "execution_count": 22,
     "metadata": {},
     "output_type": "execute_result"
    }
   ],
   "source": [
    "merged_df= pd.merge(left=india_df, left_on='date',\n",
    "         right=india_date_cov, right_on='date')\n",
    "merged_df"
   ]
  },
  {
   "cell_type": "code",
   "execution_count": 23,
   "metadata": {
    "scrolled": false
   },
   "outputs": [
    {
     "data": {
      "text/plain": [
       "<AxesSubplot:label='a52a0baf-0244-4a6b-8de4-6549f061f713'>"
      ]
     },
     "execution_count": 23,
     "metadata": {},
     "output_type": "execute_result"
    },
    {
     "data": {
      "image/png": "[encoded data removed]",
      "text/plain": [
       "<Figure size 432x288 with 2 Axes>"
      ]
     },
     "metadata": {
      "needs_background": "light"
     },
     "output_type": "display_data"
    }
   ],
   "source": [
    "month_hap=merged_df.groupby('month_year')['happiness_rating'].mean()\n",
    "month_hap.plot(color='red',grid=True)\n",
    "month_cov=merged_df.groupby('month_year')['daily_change'].mean()\n",
    "month_cov.plot(color='blue', grid=True, secondary_y=True)"
   ]
  },
  {
   "cell_type": "markdown",
   "metadata": {},
   "source": [
    "## Observations\n",
    "This is very interesting... it doesn't appear to have any correlations. There was a decrease in happiness rating monthly mean around June after cases began to increase, but after July, it doesn't follow the expected relationship."
   ]
  },
  {
   "cell_type": "markdown",
   "metadata": {},
   "source": [
    "## Weekly happiness ratings and weekly COVID-19"
   ]
  },
  {
   "cell_type": "code",
   "execution_count": 24,
   "metadata": {},
   "outputs": [],
   "source": [
    "test=india_hap_filter.groupby('week')['happiness_rating'].mean()"
   ]
  },
  {
   "cell_type": "code",
   "execution_count": 25,
   "metadata": {},
   "outputs": [
    {
     "data": {
      "text/html": [
       "<div>\n",
       "<style scoped>\n",
       "    .dataframe tbody tr th:only-of-type {\n",
       "        vertical-align: middle;\n",
       "    }\n",
       "\n",
       "    .dataframe tbody tr th {\n",
       "        vertical-align: top;\n",
       "    }\n",
       "\n",
       "    .dataframe thead th {\n",
       "        text-align: right;\n",
       "    }\n",
       "</style>\n",
       "<table border=\"1\" class=\"dataframe\">\n",
       "  <thead>\n",
       "    <tr style=\"text-align: right;\">\n",
       "      <th></th>\n",
       "      <th>date</th>\n",
       "      <th>cases</th>\n",
       "      <th>week_number</th>\n",
       "    </tr>\n",
       "  </thead>\n",
       "  <tbody>\n",
       "    <tr>\n",
       "      <th>0</th>\n",
       "      <td>2020-01-22</td>\n",
       "      <td>0</td>\n",
       "      <td>4</td>\n",
       "    </tr>\n",
       "    <tr>\n",
       "      <th>1</th>\n",
       "      <td>2020-01-23</td>\n",
       "      <td>0</td>\n",
       "      <td>4</td>\n",
       "    </tr>\n",
       "    <tr>\n",
       "      <th>2</th>\n",
       "      <td>2020-01-24</td>\n",
       "      <td>0</td>\n",
       "      <td>4</td>\n",
       "    </tr>\n",
       "    <tr>\n",
       "      <th>3</th>\n",
       "      <td>2020-01-25</td>\n",
       "      <td>0</td>\n",
       "      <td>4</td>\n",
       "    </tr>\n",
       "    <tr>\n",
       "      <th>4</th>\n",
       "      <td>2020-01-26</td>\n",
       "      <td>0</td>\n",
       "      <td>4</td>\n",
       "    </tr>\n",
       "    <tr>\n",
       "      <th>...</th>\n",
       "      <td>...</td>\n",
       "      <td>...</td>\n",
       "      <td>...</td>\n",
       "    </tr>\n",
       "    <tr>\n",
       "      <th>312</th>\n",
       "      <td>2020-11-29</td>\n",
       "      <td>9431691</td>\n",
       "      <td>48</td>\n",
       "    </tr>\n",
       "    <tr>\n",
       "      <th>313</th>\n",
       "      <td>2020-11-30</td>\n",
       "      <td>9462809</td>\n",
       "      <td>49</td>\n",
       "    </tr>\n",
       "    <tr>\n",
       "      <th>314</th>\n",
       "      <td>2020-12-01</td>\n",
       "      <td>9499413</td>\n",
       "      <td>49</td>\n",
       "    </tr>\n",
       "    <tr>\n",
       "      <th>315</th>\n",
       "      <td>2020-12-02</td>\n",
       "      <td>9534964</td>\n",
       "      <td>49</td>\n",
       "    </tr>\n",
       "    <tr>\n",
       "      <th>316</th>\n",
       "      <td>2020-12-03</td>\n",
       "      <td>9571559</td>\n",
       "      <td>49</td>\n",
       "    </tr>\n",
       "  </tbody>\n",
       "</table>\n",
       "<p>317 rows × 3 columns</p>\n",
       "</div>"
      ],
      "text/plain": [
       "          date    cases  week_number\n",
       "0   2020-01-22        0            4\n",
       "1   2020-01-23        0            4\n",
       "2   2020-01-24        0            4\n",
       "3   2020-01-25        0            4\n",
       "4   2020-01-26        0            4\n",
       "..         ...      ...          ...\n",
       "312 2020-11-29  9431691           48\n",
       "313 2020-11-30  9462809           49\n",
       "314 2020-12-01  9499413           49\n",
       "315 2020-12-02  9534964           49\n",
       "316 2020-12-03  9571559           49\n",
       "\n",
       "[317 rows x 3 columns]"
      ]
     },
     "execution_count": 25,
     "metadata": {},
     "output_type": "execute_result"
    }
   ],
   "source": [
    "india_cov['week_number'] = india_cov['date'].dt.week\n",
    "india_cov"
   ]
  },
  {
   "cell_type": "code",
   "execution_count": 26,
   "metadata": {},
   "outputs": [],
   "source": [
    "weekly_covid= india_date_cov.rolling(3).mean()"
   ]
  },
  {
   "cell_type": "code",
   "execution_count": 27,
   "metadata": {},
   "outputs": [
    {
     "data": {
      "text/plain": [
       "<AxesSubplot:xlabel='date'>"
      ]
     },
     "execution_count": 27,
     "metadata": {},
     "output_type": "execute_result"
    },
    {
     "data": {
      "image/png": "[encoded data removed]",
      "text/plain": [
       "<Figure size 432x288 with 1 Axes>"
      ]
     },
     "metadata": {
      "needs_background": "light"
     },
     "output_type": "display_data"
    }
   ],
   "source": [
    "weekly_covid['daily_change'].plot()"
   ]
  },
  {
   "cell_type": "code",
   "execution_count": 28,
   "metadata": {
    "scrolled": false
   },
   "outputs": [],
   "source": [
    "india_df.set_index('date')\n",
    "india_df = india_df.sort_index()"
   ]
  },
  {
   "cell_type": "code",
   "execution_count": 29,
   "metadata": {},
   "outputs": [],
   "source": [
    "india_df['date'] = pd.to_datetime(india_df['date']) - pd.to_timedelta(7, unit='d')\n",
    "india_df = india_df.groupby([pd.Grouper(key='date', freq='W-MON')])['happiness_rating'].mean().reset_index().sort_values('date')"
   ]
  },
  {
   "cell_type": "code",
   "execution_count": 30,
   "metadata": {},
   "outputs": [],
   "source": [
    "india_df = india_df.dropna()"
   ]
  },
  {
   "cell_type": "code",
   "execution_count": 31,
   "metadata": {
    "scrolled": false
   },
   "outputs": [
    {
     "data": {
      "text/plain": [
       "<AxesSubplot:label='285de9bd-793d-488c-9e2e-14710b132e17'>"
      ]
     },
     "execution_count": 31,
     "metadata": {},
     "output_type": "execute_result"
    },
    {
     "data": {
      "image/png": "[encoded data removed]",
      "text/plain": [
       "<Figure size 720x360 with 2 Axes>"
      ]
     },
     "metadata": {
      "needs_background": "light"
     },
     "output_type": "display_data"
    }
   ],
   "source": [
    "india_df.plot(x='date',y='happiness_rating',color='red',grid=True, figsize=(10,5))\n",
    "\n",
    "weekly_covid['daily_change'].plot(secondary_y=True)"
   ]
  },
  {
   "cell_type": "markdown",
   "metadata": {},
   "source": [
    "No clear correlations...at least with Denmark and Finland there were some instances of correlations for major surges/major dips in happiness, but that doesn't seem to be the case here."
   ]
  },
  {
   "cell_type": "markdown",
   "metadata": {},
   "source": [
    "## Interpolated Happiness Ratings"
   ]
  },
  {
   "cell_type": "code",
   "execution_count": 32,
   "metadata": {},
   "outputs": [],
   "source": [
    "india_df_daily=india_df.set_index(pd.to_datetime(india_df['date']))"
   ]
  },
  {
   "cell_type": "code",
   "execution_count": 33,
   "metadata": {},
   "outputs": [
    {
     "data": {
      "text/plain": [
       "<AxesSubplot:xlabel='date'>"
      ]
     },
     "execution_count": 33,
     "metadata": {},
     "output_type": "execute_result"
    },
    {
     "data": {
      "image/png": "[encoded data removed]",
      "text/plain": [
       "<Figure size 432x288 with 1 Axes>"
      ]
     },
     "metadata": {
      "needs_background": "light"
     },
     "output_type": "display_data"
    }
   ],
   "source": [
    "india_df_daily.resample('D').interpolate().rolling('7D')['happiness_rating'].mean().plot()\n"
   ]
  },
  {
   "cell_type": "code",
   "execution_count": 34,
   "metadata": {},
   "outputs": [],
   "source": [
    "india_df_daily.to_csv('../data/exported_subset_data/happiness_2020/interpolated_india.csv')"
   ]
  },
  {
   "cell_type": "code",
   "execution_count": 35,
   "metadata": {
    "scrolled": true
   },
   "outputs": [
    {
     "data": {
      "text/plain": [
       "<AxesSubplot:label='9497ecff-4d59-43f5-ad8f-0ab592565ae5'>"
      ]
     },
     "execution_count": 35,
     "metadata": {},
     "output_type": "execute_result"
    },
    {
     "data": {
      "image/png": "[encoded data removed]",
      "text/plain": [
       "<Figure size 432x288 with 2 Axes>"
      ]
     },
     "metadata": {
      "needs_background": "light"
     },
     "output_type": "display_data"
    }
   ],
   "source": [
    "## resample, interpolate, rolling mean\n",
    "## plot with weekly covid cases\n",
    "india_df_daily.resample('D').interpolate().rolling('10D')['happiness_rating'].mean().plot()\n",
    "weekly_covid['daily_change'].plot(grid=True, secondary_y=True)\n"
   ]
  },
  {
   "cell_type": "markdown",
   "metadata": {},
   "source": [
    "### Observations\n",
    "Interpolated provides more to work with (less spiky), but based on the graphs thus far, I'm inclined to say that there are no correlations between cases and happiness in India. Happiness baseline at the start of 2020 is also much higher than the typical mean (India historically ranks low on the Cantril ladder); strange anomalies this year it seems."
   ]
  },
  {
   "cell_type": "markdown",
   "metadata": {},
   "source": [
    "## Happiness rating mean for 2020 as a whole in India"
   ]
  },
  {
   "cell_type": "code",
   "execution_count": 36,
   "metadata": {
    "scrolled": true
   },
   "outputs": [
    {
     "data": {
      "text/plain": [
       "6.317354418911128"
      ]
     },
     "execution_count": 36,
     "metadata": {},
     "output_type": "execute_result"
    }
   ],
   "source": [
    "india_hap_filter['happiness_rating'].mean()"
   ]
  },
  {
   "cell_type": "markdown",
   "metadata": {},
   "source": [
    "### Observations\n",
    "India's happiness rating was 3.25 in 2019. There was an increase in happiness ratings suprisingly (potentially due to the higher starting happiness rating and fluctuations, but an increase is unexpected)."
   ]
  },
  {
   "cell_type": "code",
   "execution_count": null,
   "metadata": {},
   "outputs": [],
   "source": []
  }
 ],
 "metadata": {
  "kernelspec": {
   "display_name": "Python 3",
   "language": "python",
   "name": "python3"
  },
  "language_info": {
   "codemirror_mode": {
    "name": "ipython",
    "version": 3
   },
   "file_extension": ".py",
   "mimetype": "text/x-python",
   "name": "python",
   "nbconvert_exporter": "python",
   "pygments_lexer": "ipython3",
   "version": "3.7.3"
  }
 },
 "nbformat": 4,
 "nbformat_minor": 2
}
