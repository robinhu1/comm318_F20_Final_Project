{
 "cells": [
  {
   "cell_type": "markdown",
   "metadata": {},
   "source": [
    "# 2020 US Data Analysis"
   ]
  },
  {
   "cell_type": "code",
   "execution_count": 1,
   "metadata": {},
   "outputs": [],
   "source": [
    "import pandas as pd\n",
    "import matplotlib.pyplot as plt\n",
    "import plotly_express as px\n",
    "import seaborn as sns\n",
    "\n",
    "import warnings\n",
    "warnings.simplefilter('ignore')\n",
    "import statsmodels.formula.api as smf"
   ]
  },
  {
   "cell_type": "markdown",
   "metadata": {},
   "source": [
    "## Things Explored in this notebook\n",
    "- initial exploration of cleaned datasets for happiness and cases in US\n",
    "- different methods of visualizing happiness vs. cases data (daily, weekly, monthly, interpolated)"
   ]
  },
  {
   "cell_type": "markdown",
   "metadata": {},
   "source": [
    "## Load cleaned csv's into df"
   ]
  },
  {
   "cell_type": "code",
   "execution_count": 2,
   "metadata": {},
   "outputs": [],
   "source": [
    "us_hap_filter= pd.read_csv('../data/cleaned_data/2020/us_hap_cleaned.csv')\n",
    "us_covid = pd.read_csv('../data/cleaned_data/2020/us_covid.csv')"
   ]
  },
  {
   "cell_type": "markdown",
   "metadata": {},
   "source": [
    "## Initial investigation "
   ]
  },
  {
   "cell_type": "code",
   "execution_count": 3,
   "metadata": {
    "scrolled": true
   },
   "outputs": [
    {
     "data": {
      "text/html": [
       "<div>\n",
       "<style scoped>\n",
       "    .dataframe tbody tr th:only-of-type {\n",
       "        vertical-align: middle;\n",
       "    }\n",
       "\n",
       "    .dataframe tbody tr th {\n",
       "        vertical-align: top;\n",
       "    }\n",
       "\n",
       "    .dataframe thead th {\n",
       "        text-align: right;\n",
       "    }\n",
       "</style>\n",
       "<table border=\"1\" class=\"dataframe\">\n",
       "  <thead>\n",
       "    <tr style=\"text-align: right;\">\n",
       "      <th></th>\n",
       "      <th>Unnamed: 0</th>\n",
       "      <th>date</th>\n",
       "      <th>week</th>\n",
       "      <th>state</th>\n",
       "      <th>mental_health_condition</th>\n",
       "      <th>age</th>\n",
       "      <th>gender</th>\n",
       "      <th>happiness_rating</th>\n",
       "    </tr>\n",
       "  </thead>\n",
       "  <tbody>\n",
       "    <tr>\n",
       "      <th>0</th>\n",
       "      <td>4976</td>\n",
       "      <td>2020-04-30</td>\n",
       "      <td>week 5</td>\n",
       "      <td>Georgia</td>\n",
       "      <td>No</td>\n",
       "      <td>40</td>\n",
       "      <td>Male</td>\n",
       "      <td>2</td>\n",
       "    </tr>\n",
       "    <tr>\n",
       "      <th>1</th>\n",
       "      <td>4977</td>\n",
       "      <td>2020-04-30</td>\n",
       "      <td>week 5</td>\n",
       "      <td>New Jersey</td>\n",
       "      <td>No</td>\n",
       "      <td>62</td>\n",
       "      <td>Female</td>\n",
       "      <td>6</td>\n",
       "    </tr>\n",
       "    <tr>\n",
       "      <th>2</th>\n",
       "      <td>4978</td>\n",
       "      <td>2020-04-30</td>\n",
       "      <td>week 5</td>\n",
       "      <td>Indiana</td>\n",
       "      <td>No</td>\n",
       "      <td>61</td>\n",
       "      <td>Female</td>\n",
       "      <td>9</td>\n",
       "    </tr>\n",
       "    <tr>\n",
       "      <th>3</th>\n",
       "      <td>4979</td>\n",
       "      <td>2020-04-30</td>\n",
       "      <td>week 5</td>\n",
       "      <td>Virginia</td>\n",
       "      <td>No</td>\n",
       "      <td>60</td>\n",
       "      <td>Female</td>\n",
       "      <td>9</td>\n",
       "    </tr>\n",
       "    <tr>\n",
       "      <th>4</th>\n",
       "      <td>4980</td>\n",
       "      <td>2020-04-30</td>\n",
       "      <td>week 5</td>\n",
       "      <td>Michigan</td>\n",
       "      <td>No</td>\n",
       "      <td>37</td>\n",
       "      <td>Female</td>\n",
       "      <td>3</td>\n",
       "    </tr>\n",
       "    <tr>\n",
       "      <th>...</th>\n",
       "      <td>...</td>\n",
       "      <td>...</td>\n",
       "      <td>...</td>\n",
       "      <td>...</td>\n",
       "      <td>...</td>\n",
       "      <td>...</td>\n",
       "      <td>...</td>\n",
       "      <td>...</td>\n",
       "    </tr>\n",
       "    <tr>\n",
       "      <th>12001</th>\n",
       "      <td>16977</td>\n",
       "      <td>2020-09-29</td>\n",
       "      <td>week 16</td>\n",
       "      <td>Oklahoma</td>\n",
       "      <td>No</td>\n",
       "      <td>27</td>\n",
       "      <td>Female</td>\n",
       "      <td>4</td>\n",
       "    </tr>\n",
       "    <tr>\n",
       "      <th>12002</th>\n",
       "      <td>16978</td>\n",
       "      <td>2020-09-29</td>\n",
       "      <td>week 16</td>\n",
       "      <td>California</td>\n",
       "      <td>No</td>\n",
       "      <td>74</td>\n",
       "      <td>Female</td>\n",
       "      <td>5</td>\n",
       "    </tr>\n",
       "    <tr>\n",
       "      <th>12003</th>\n",
       "      <td>16979</td>\n",
       "      <td>2020-09-29</td>\n",
       "      <td>week 16</td>\n",
       "      <td>Rhode Island</td>\n",
       "      <td>No</td>\n",
       "      <td>26</td>\n",
       "      <td>Female</td>\n",
       "      <td>5</td>\n",
       "    </tr>\n",
       "    <tr>\n",
       "      <th>12004</th>\n",
       "      <td>16980</td>\n",
       "      <td>2020-09-30</td>\n",
       "      <td>week 16</td>\n",
       "      <td>Mississippi</td>\n",
       "      <td>No</td>\n",
       "      <td>22</td>\n",
       "      <td>Male</td>\n",
       "      <td>8</td>\n",
       "    </tr>\n",
       "    <tr>\n",
       "      <th>12005</th>\n",
       "      <td>16981</td>\n",
       "      <td>2020-09-30</td>\n",
       "      <td>week 16</td>\n",
       "      <td>Texas</td>\n",
       "      <td>No</td>\n",
       "      <td>23</td>\n",
       "      <td>Male</td>\n",
       "      <td>0</td>\n",
       "    </tr>\n",
       "  </tbody>\n",
       "</table>\n",
       "<p>12006 rows × 8 columns</p>\n",
       "</div>"
      ],
      "text/plain": [
       "       Unnamed: 0        date     week         state mental_health_condition  \\\n",
       "0            4976  2020-04-30   week 5       Georgia                      No   \n",
       "1            4977  2020-04-30   week 5    New Jersey                      No   \n",
       "2            4978  2020-04-30   week 5       Indiana                      No   \n",
       "3            4979  2020-04-30   week 5      Virginia                      No   \n",
       "4            4980  2020-04-30   week 5      Michigan                      No   \n",
       "...           ...         ...      ...           ...                     ...   \n",
       "12001       16977  2020-09-29  week 16      Oklahoma                      No   \n",
       "12002       16978  2020-09-29  week 16    California                      No   \n",
       "12003       16979  2020-09-29  week 16  Rhode Island                      No   \n",
       "12004       16980  2020-09-30  week 16   Mississippi                      No   \n",
       "12005       16981  2020-09-30  week 16         Texas                      No   \n",
       "\n",
       "       age  gender  happiness_rating  \n",
       "0       40    Male                 2  \n",
       "1       62  Female                 6  \n",
       "2       61  Female                 9  \n",
       "3       60  Female                 9  \n",
       "4       37  Female                 3  \n",
       "...    ...     ...               ...  \n",
       "12001   27  Female                 4  \n",
       "12002   74  Female                 5  \n",
       "12003   26  Female                 5  \n",
       "12004   22    Male                 8  \n",
       "12005   23    Male                 0  \n",
       "\n",
       "[12006 rows x 8 columns]"
      ]
     },
     "execution_count": 3,
     "metadata": {},
     "output_type": "execute_result"
    }
   ],
   "source": [
    "us_hap_filter"
   ]
  },
  {
   "cell_type": "code",
   "execution_count": 4,
   "metadata": {},
   "outputs": [],
   "source": [
    "us_hap_filter= us_hap_filter.drop(['Unnamed: 0'], axis=1)"
   ]
  },
  {
   "cell_type": "code",
   "execution_count": 5,
   "metadata": {},
   "outputs": [],
   "source": [
    "us_hap_filter['date'] = pd.to_datetime(us_hap_filter['date'])"
   ]
  },
  {
   "cell_type": "code",
   "execution_count": 6,
   "metadata": {
    "scrolled": true
   },
   "outputs": [
    {
     "data": {
      "text/plain": [
       "count    12006.000000\n",
       "mean         6.235632\n",
       "std          2.297499\n",
       "min          0.000000\n",
       "25%          5.000000\n",
       "50%          7.000000\n",
       "75%          8.000000\n",
       "max         10.000000\n",
       "Name: happiness_rating, dtype: float64"
      ]
     },
     "execution_count": 6,
     "metadata": {},
     "output_type": "execute_result"
    }
   ],
   "source": [
    "# Get some information on dataset and range\n",
    "us_hap_filter['happiness_rating'].describe()"
   ]
  },
  {
   "cell_type": "code",
   "execution_count": 7,
   "metadata": {},
   "outputs": [],
   "source": [
    "us_hap_filter['happiness_rating'] = us_hap_filter['happiness_rating'].astype(float)"
   ]
  },
  {
   "cell_type": "code",
   "execution_count": 8,
   "metadata": {
    "scrolled": true
   },
   "outputs": [
    {
     "data": {
      "text/plain": [
       "date        state     \n",
       "2020-01-05  Alabama        5.750000\n",
       "            Alaska         5.500000\n",
       "            Arizona        5.666667\n",
       "            Arkansas       9.000000\n",
       "            California     7.066667\n",
       "                            ...    \n",
       "2020-12-07  Tennessee      6.000000\n",
       "            Utah           6.000000\n",
       "            Virginia       7.000000\n",
       "            Washington     5.500000\n",
       "            Wisconsin     10.000000\n",
       "Name: happiness_rating, Length: 2636, dtype: float64"
      ]
     },
     "execution_count": 8,
     "metadata": {},
     "output_type": "execute_result"
    }
   ],
   "source": [
    "us_hap_filter.groupby(['date','state'])['happiness_rating'].mean()"
   ]
  },
  {
   "cell_type": "code",
   "execution_count": 9,
   "metadata": {
    "scrolled": true
   },
   "outputs": [
    {
     "data": {
      "text/plain": [
       "state\n",
       "Alabama                 6.144860\n",
       "Alaska                  5.301887\n",
       "Arizona                 6.576512\n",
       "Arkansas                6.163462\n",
       "California              6.118289\n",
       "Colorado                6.405128\n",
       "Connecticut             6.491379\n",
       "Delaware                5.702128\n",
       "District of Columbia    6.387755\n",
       "Florida                 6.437360\n",
       "Georgia                 6.352657\n",
       "Hawaii                  6.125000\n",
       "Idaho                   6.067568\n",
       "Illinois                6.125285\n",
       "Indiana                 6.459091\n",
       "Iowa                    6.268041\n",
       "Kansas                  6.054054\n",
       "Kentucky                5.807487\n",
       "Louisiana               6.184211\n",
       "Maine                   6.136364\n",
       "Maryland                5.940541\n",
       "Massachusetts           6.025105\n",
       "Michigan                6.171521\n",
       "Minnesota               6.079602\n",
       "Mississippi             6.151163\n",
       "Missouri                6.502242\n",
       "Montana                 6.500000\n",
       "Nebraska                6.533333\n",
       "Nevada                  5.981818\n",
       "New Hampshire           5.921875\n",
       "New Jersey              6.231959\n",
       "New Mexico              6.830769\n",
       "New York                6.130769\n",
       "North Carolina          6.409375\n",
       "North Dakota            7.176471\n",
       "Ohio                    6.271111\n",
       "Oklahoma                6.105263\n",
       "Oregon                  6.168539\n",
       "Pennsylvania            6.389916\n",
       "Rhode Island            7.025641\n",
       "South Carolina          6.504902\n",
       "South Dakota            7.450000\n",
       "Tennessee               6.065574\n",
       "Texas                   6.215517\n",
       "Utah                    6.333333\n",
       "Vermont                 5.228571\n",
       "Virginia                6.616959\n",
       "Washington              6.212996\n",
       "West Virginia           5.412500\n",
       "Wisconsin               6.037037\n",
       "Wyoming                 5.518519\n",
       "Name: happiness_rating, dtype: float64"
      ]
     },
     "execution_count": 9,
     "metadata": {},
     "output_type": "execute_result"
    }
   ],
   "source": [
    "us_hap_filter.groupby('state')['happiness_rating'].mean()"
   ]
  },
  {
   "cell_type": "code",
   "execution_count": 10,
   "metadata": {},
   "outputs": [
    {
     "data": {
      "text/plain": [
       "week\n",
       "week 10    6.272547\n",
       "week 11    6.303983\n",
       "week 12    6.218839\n",
       "week 13    6.305607\n",
       "week 14    5.994000\n",
       "week 15    6.155330\n",
       "week 16    6.187371\n",
       "week 5     6.301097\n",
       "week 6     6.390674\n",
       "week 7     6.289264\n",
       "week 8     6.225549\n",
       "week 9     6.183920\n",
       "Name: happiness_rating, dtype: float64"
      ]
     },
     "execution_count": 10,
     "metadata": {},
     "output_type": "execute_result"
    }
   ],
   "source": [
    "us_hap_filter.groupby('week')['happiness_rating'].mean()"
   ]
  },
  {
   "cell_type": "code",
   "execution_count": 11,
   "metadata": {
    "scrolled": true
   },
   "outputs": [
    {
     "data": {
      "text/html": [
       "<div>\n",
       "<style scoped>\n",
       "    .dataframe tbody tr th:only-of-type {\n",
       "        vertical-align: middle;\n",
       "    }\n",
       "\n",
       "    .dataframe tbody tr th {\n",
       "        vertical-align: top;\n",
       "    }\n",
       "\n",
       "    .dataframe thead th {\n",
       "        text-align: right;\n",
       "    }\n",
       "</style>\n",
       "<table border=\"1\" class=\"dataframe\">\n",
       "  <thead>\n",
       "    <tr style=\"text-align: right;\">\n",
       "      <th></th>\n",
       "      <th>Unnamed: 0</th>\n",
       "      <th>Province_State</th>\n",
       "      <th>date</th>\n",
       "      <th>cases</th>\n",
       "    </tr>\n",
       "  </thead>\n",
       "  <tbody>\n",
       "    <tr>\n",
       "      <th>0</th>\n",
       "      <td>0</td>\n",
       "      <td>Alabama</td>\n",
       "      <td>2020-01-22</td>\n",
       "      <td>0</td>\n",
       "    </tr>\n",
       "    <tr>\n",
       "      <th>1</th>\n",
       "      <td>1</td>\n",
       "      <td>Alabama</td>\n",
       "      <td>2020-01-22</td>\n",
       "      <td>0</td>\n",
       "    </tr>\n",
       "    <tr>\n",
       "      <th>2</th>\n",
       "      <td>2</td>\n",
       "      <td>Alabama</td>\n",
       "      <td>2020-01-22</td>\n",
       "      <td>0</td>\n",
       "    </tr>\n",
       "    <tr>\n",
       "      <th>3</th>\n",
       "      <td>3</td>\n",
       "      <td>Alabama</td>\n",
       "      <td>2020-01-22</td>\n",
       "      <td>0</td>\n",
       "    </tr>\n",
       "    <tr>\n",
       "      <th>4</th>\n",
       "      <td>4</td>\n",
       "      <td>Alabama</td>\n",
       "      <td>2020-01-22</td>\n",
       "      <td>0</td>\n",
       "    </tr>\n",
       "    <tr>\n",
       "      <th>...</th>\n",
       "      <td>...</td>\n",
       "      <td>...</td>\n",
       "      <td>...</td>\n",
       "      <td>...</td>\n",
       "    </tr>\n",
       "    <tr>\n",
       "      <th>1058775</th>\n",
       "      <td>1058775</td>\n",
       "      <td>Wyoming</td>\n",
       "      <td>2020-12-03</td>\n",
       "      <td>1693</td>\n",
       "    </tr>\n",
       "    <tr>\n",
       "      <th>1058776</th>\n",
       "      <td>1058776</td>\n",
       "      <td>Wyoming</td>\n",
       "      <td>2020-12-03</td>\n",
       "      <td>1149</td>\n",
       "    </tr>\n",
       "    <tr>\n",
       "      <th>1058777</th>\n",
       "      <td>1058777</td>\n",
       "      <td>Wyoming</td>\n",
       "      <td>2020-12-03</td>\n",
       "      <td>0</td>\n",
       "    </tr>\n",
       "    <tr>\n",
       "      <th>1058778</th>\n",
       "      <td>1058778</td>\n",
       "      <td>Wyoming</td>\n",
       "      <td>2020-12-03</td>\n",
       "      <td>497</td>\n",
       "    </tr>\n",
       "    <tr>\n",
       "      <th>1058779</th>\n",
       "      <td>1058779</td>\n",
       "      <td>Wyoming</td>\n",
       "      <td>2020-12-03</td>\n",
       "      <td>419</td>\n",
       "    </tr>\n",
       "  </tbody>\n",
       "</table>\n",
       "<p>1058780 rows × 4 columns</p>\n",
       "</div>"
      ],
      "text/plain": [
       "         Unnamed: 0 Province_State        date  cases\n",
       "0                 0        Alabama  2020-01-22      0\n",
       "1                 1        Alabama  2020-01-22      0\n",
       "2                 2        Alabama  2020-01-22      0\n",
       "3                 3        Alabama  2020-01-22      0\n",
       "4                 4        Alabama  2020-01-22      0\n",
       "...             ...            ...         ...    ...\n",
       "1058775     1058775        Wyoming  2020-12-03   1693\n",
       "1058776     1058776        Wyoming  2020-12-03   1149\n",
       "1058777     1058777        Wyoming  2020-12-03      0\n",
       "1058778     1058778        Wyoming  2020-12-03    497\n",
       "1058779     1058779        Wyoming  2020-12-03    419\n",
       "\n",
       "[1058780 rows x 4 columns]"
      ]
     },
     "execution_count": 11,
     "metadata": {},
     "output_type": "execute_result"
    }
   ],
   "source": [
    "us_covid"
   ]
  },
  {
   "cell_type": "code",
   "execution_count": 12,
   "metadata": {},
   "outputs": [],
   "source": [
    "us_covid= us_covid.drop(['Unnamed: 0'], axis=1)"
   ]
  },
  {
   "cell_type": "markdown",
   "metadata": {},
   "source": [
    "### Group COVID-19 cases by date"
   ]
  },
  {
   "cell_type": "markdown",
   "metadata": {},
   "source": [
    "First thing is to group by date"
   ]
  },
  {
   "cell_type": "code",
   "execution_count": 13,
   "metadata": {},
   "outputs": [],
   "source": [
    "us_covid['date'] = pd.to_datetime(us_covid['date'])"
   ]
  },
  {
   "cell_type": "code",
   "execution_count": 14,
   "metadata": {
    "scrolled": true
   },
   "outputs": [],
   "source": [
    "us_date_cov= us_covid.groupby('date').sum()"
   ]
  },
  {
   "cell_type": "code",
   "execution_count": 15,
   "metadata": {
    "scrolled": true
   },
   "outputs": [
    {
     "data": {
      "text/plain": [
       "Text(0, 0.5, 'Cases')"
      ]
     },
     "execution_count": 15,
     "metadata": {},
     "output_type": "execute_result"
    },
    {
     "data": {
      "image/png": "[encoded data removed]",
      "text/plain": [
       "<Figure size 720x360 with 1 Axes>"
      ]
     },
     "metadata": {
      "needs_background": "light"
     },
     "output_type": "display_data"
    }
   ],
   "source": [
    "us_date_cov.plot(kind='line',figsize=(10,5))\n",
    "plt.legend(loc= 'center left', bbox_to_anchor=(1.0,0.5))\n",
    "plt.xlabel('Date')\n",
    "plt.ylabel('Cases')"
   ]
  },
  {
   "cell_type": "code",
   "execution_count": 16,
   "metadata": {},
   "outputs": [],
   "source": [
    "us_date_cov['daily_change']=us_date_cov['cases'].diff()"
   ]
  },
  {
   "cell_type": "code",
   "execution_count": 17,
   "metadata": {
    "scrolled": false
   },
   "outputs": [
    {
     "data": {
      "text/plain": [
       "<AxesSubplot:xlabel='date'>"
      ]
     },
     "execution_count": 17,
     "metadata": {},
     "output_type": "execute_result"
    },
    {
     "data": {
      "image/png": "[encoded data removed]",
      "text/plain": [
       "<Figure size 720x288 with 1 Axes>"
      ]
     },
     "metadata": {
      "needs_background": "light"
     },
     "output_type": "display_data"
    }
   ],
   "source": [
    "us_date_cov['daily_change'].plot(figsize=(10,4))"
   ]
  },
  {
   "cell_type": "markdown",
   "metadata": {},
   "source": [
    "### Observations\n",
    "This trajectory does not surprise me at all... Peak in April, peak in mid-July, and another surge in December that is still ongoing. Roughly a 2 month intermission in between surges."
   ]
  },
  {
   "cell_type": "markdown",
   "metadata": {},
   "source": [
    "#### Exported clean subset"
   ]
  },
  {
   "cell_type": "code",
   "execution_count": 18,
   "metadata": {},
   "outputs": [],
   "source": [
    "us_date_cov.to_csv('../data/exported_subset_data/covid/covid_us.csv')"
   ]
  },
  {
   "cell_type": "code",
   "execution_count": 19,
   "metadata": {},
   "outputs": [],
   "source": [
    "us_hap_df=us_hap_filter.groupby('date')['happiness_rating'].mean().reset_index()\n"
   ]
  },
  {
   "cell_type": "code",
   "execution_count": 20,
   "metadata": {},
   "outputs": [],
   "source": [
    "us_hap_df['date'] = pd.to_datetime(us_hap_df['date'])"
   ]
  },
  {
   "cell_type": "code",
   "execution_count": 21,
   "metadata": {
    "scrolled": true
   },
   "outputs": [
    {
     "data": {
      "text/html": [
       "<div>\n",
       "<style scoped>\n",
       "    .dataframe tbody tr th:only-of-type {\n",
       "        vertical-align: middle;\n",
       "    }\n",
       "\n",
       "    .dataframe tbody tr th {\n",
       "        vertical-align: top;\n",
       "    }\n",
       "\n",
       "    .dataframe thead th {\n",
       "        text-align: right;\n",
       "    }\n",
       "</style>\n",
       "<table border=\"1\" class=\"dataframe\">\n",
       "  <thead>\n",
       "    <tr style=\"text-align: right;\">\n",
       "      <th></th>\n",
       "      <th>date</th>\n",
       "      <th>happiness_rating</th>\n",
       "    </tr>\n",
       "  </thead>\n",
       "  <tbody>\n",
       "    <tr>\n",
       "      <th>0</th>\n",
       "      <td>2020-01-05</td>\n",
       "      <td>6.296429</td>\n",
       "    </tr>\n",
       "    <tr>\n",
       "      <th>1</th>\n",
       "      <td>2020-01-06</td>\n",
       "      <td>6.000000</td>\n",
       "    </tr>\n",
       "    <tr>\n",
       "      <th>2</th>\n",
       "      <td>2020-01-07</td>\n",
       "      <td>6.461538</td>\n",
       "    </tr>\n",
       "    <tr>\n",
       "      <th>3</th>\n",
       "      <td>2020-02-05</td>\n",
       "      <td>6.404762</td>\n",
       "    </tr>\n",
       "    <tr>\n",
       "      <th>4</th>\n",
       "      <td>2020-02-06</td>\n",
       "      <td>5.800000</td>\n",
       "    </tr>\n",
       "    <tr>\n",
       "      <th>...</th>\n",
       "      <td>...</td>\n",
       "      <td>...</td>\n",
       "    </tr>\n",
       "    <tr>\n",
       "      <th>96</th>\n",
       "      <td>2020-11-06</td>\n",
       "      <td>6.139130</td>\n",
       "    </tr>\n",
       "    <tr>\n",
       "      <th>97</th>\n",
       "      <td>2020-11-07</td>\n",
       "      <td>6.041096</td>\n",
       "    </tr>\n",
       "    <tr>\n",
       "      <th>98</th>\n",
       "      <td>2020-12-05</td>\n",
       "      <td>6.031579</td>\n",
       "    </tr>\n",
       "    <tr>\n",
       "      <th>99</th>\n",
       "      <td>2020-12-06</td>\n",
       "      <td>6.049505</td>\n",
       "    </tr>\n",
       "    <tr>\n",
       "      <th>100</th>\n",
       "      <td>2020-12-07</td>\n",
       "      <td>5.912281</td>\n",
       "    </tr>\n",
       "  </tbody>\n",
       "</table>\n",
       "<p>101 rows × 2 columns</p>\n",
       "</div>"
      ],
      "text/plain": [
       "          date  happiness_rating\n",
       "0   2020-01-05          6.296429\n",
       "1   2020-01-06          6.000000\n",
       "2   2020-01-07          6.461538\n",
       "3   2020-02-05          6.404762\n",
       "4   2020-02-06          5.800000\n",
       "..         ...               ...\n",
       "96  2020-11-06          6.139130\n",
       "97  2020-11-07          6.041096\n",
       "98  2020-12-05          6.031579\n",
       "99  2020-12-06          6.049505\n",
       "100 2020-12-07          5.912281\n",
       "\n",
       "[101 rows x 2 columns]"
      ]
     },
     "execution_count": 21,
     "metadata": {},
     "output_type": "execute_result"
    }
   ],
   "source": [
    "us_hap_df"
   ]
  },
  {
   "cell_type": "markdown",
   "metadata": {},
   "source": [
    "### Observations\n",
    "\n",
    "Only 101 rows and I see that the happiness rating was not collected consistently for every day of the month. This poses some challenges in terms of how to match the happiness with the cases. I'll start by trying with daily plots."
   ]
  },
  {
   "cell_type": "markdown",
   "metadata": {},
   "source": [
    "## Happiness ratings vs. COVID-19 daily case changes"
   ]
  },
  {
   "cell_type": "code",
   "execution_count": 22,
   "metadata": {
    "scrolled": true
   },
   "outputs": [
    {
     "data": {
      "text/plain": [
       "<AxesSubplot:label='7ff44078-b89b-42a4-ac86-6a390e8b9336'>"
      ]
     },
     "execution_count": 22,
     "metadata": {},
     "output_type": "execute_result"
    },
    {
     "data": {
      "image/png": "[encoded data removed]",
      "text/plain": [
       "<Figure size 720x288 with 2 Axes>"
      ]
     },
     "metadata": {
      "needs_background": "light"
     },
     "output_type": "display_data"
    }
   ],
   "source": [
    "us_hap_df.plot(x='date',y='happiness_rating',color='red',grid=True)\n",
    "\n",
    "us_date_cov['daily_change'].plot(figsize=(10,4), secondary_y=True)"
   ]
  },
  {
   "cell_type": "markdown",
   "metadata": {},
   "source": [
    "### Observations\n",
    "\n",
    "I find it a little difficult to extract much out of this plot. I do see some peaks and low-points on the happiness graph, but before I can try to match up cases and happiness, I'll try different visualization methods."
   ]
  },
  {
   "cell_type": "markdown",
   "metadata": {},
   "source": [
    "## Monthly happiness rating means"
   ]
  },
  {
   "cell_type": "code",
   "execution_count": 23,
   "metadata": {
    "scrolled": false
   },
   "outputs": [
    {
     "data": {
      "text/html": [
       "<div>\n",
       "<style scoped>\n",
       "    .dataframe tbody tr th:only-of-type {\n",
       "        vertical-align: middle;\n",
       "    }\n",
       "\n",
       "    .dataframe tbody tr th {\n",
       "        vertical-align: top;\n",
       "    }\n",
       "\n",
       "    .dataframe thead th {\n",
       "        text-align: right;\n",
       "    }\n",
       "</style>\n",
       "<table border=\"1\" class=\"dataframe\">\n",
       "  <thead>\n",
       "    <tr style=\"text-align: right;\">\n",
       "      <th></th>\n",
       "      <th>date</th>\n",
       "      <th>happiness_rating</th>\n",
       "      <th>month_year</th>\n",
       "    </tr>\n",
       "  </thead>\n",
       "  <tbody>\n",
       "    <tr>\n",
       "      <th>0</th>\n",
       "      <td>2020-01-05</td>\n",
       "      <td>6.296429</td>\n",
       "      <td>2020-01</td>\n",
       "    </tr>\n",
       "    <tr>\n",
       "      <th>1</th>\n",
       "      <td>2020-01-06</td>\n",
       "      <td>6.000000</td>\n",
       "      <td>2020-01</td>\n",
       "    </tr>\n",
       "    <tr>\n",
       "      <th>2</th>\n",
       "      <td>2020-01-07</td>\n",
       "      <td>6.461538</td>\n",
       "      <td>2020-01</td>\n",
       "    </tr>\n",
       "    <tr>\n",
       "      <th>3</th>\n",
       "      <td>2020-02-05</td>\n",
       "      <td>6.404762</td>\n",
       "      <td>2020-02</td>\n",
       "    </tr>\n",
       "    <tr>\n",
       "      <th>4</th>\n",
       "      <td>2020-02-06</td>\n",
       "      <td>5.800000</td>\n",
       "      <td>2020-02</td>\n",
       "    </tr>\n",
       "    <tr>\n",
       "      <th>...</th>\n",
       "      <td>...</td>\n",
       "      <td>...</td>\n",
       "      <td>...</td>\n",
       "    </tr>\n",
       "    <tr>\n",
       "      <th>96</th>\n",
       "      <td>2020-11-06</td>\n",
       "      <td>6.139130</td>\n",
       "      <td>2020-11</td>\n",
       "    </tr>\n",
       "    <tr>\n",
       "      <th>97</th>\n",
       "      <td>2020-11-07</td>\n",
       "      <td>6.041096</td>\n",
       "      <td>2020-11</td>\n",
       "    </tr>\n",
       "    <tr>\n",
       "      <th>98</th>\n",
       "      <td>2020-12-05</td>\n",
       "      <td>6.031579</td>\n",
       "      <td>2020-12</td>\n",
       "    </tr>\n",
       "    <tr>\n",
       "      <th>99</th>\n",
       "      <td>2020-12-06</td>\n",
       "      <td>6.049505</td>\n",
       "      <td>2020-12</td>\n",
       "    </tr>\n",
       "    <tr>\n",
       "      <th>100</th>\n",
       "      <td>2020-12-07</td>\n",
       "      <td>5.912281</td>\n",
       "      <td>2020-12</td>\n",
       "    </tr>\n",
       "  </tbody>\n",
       "</table>\n",
       "<p>101 rows × 3 columns</p>\n",
       "</div>"
      ],
      "text/plain": [
       "          date  happiness_rating month_year\n",
       "0   2020-01-05          6.296429    2020-01\n",
       "1   2020-01-06          6.000000    2020-01\n",
       "2   2020-01-07          6.461538    2020-01\n",
       "3   2020-02-05          6.404762    2020-02\n",
       "4   2020-02-06          5.800000    2020-02\n",
       "..         ...               ...        ...\n",
       "96  2020-11-06          6.139130    2020-11\n",
       "97  2020-11-07          6.041096    2020-11\n",
       "98  2020-12-05          6.031579    2020-12\n",
       "99  2020-12-06          6.049505    2020-12\n",
       "100 2020-12-07          5.912281    2020-12\n",
       "\n",
       "[101 rows x 3 columns]"
      ]
     },
     "execution_count": 23,
     "metadata": {},
     "output_type": "execute_result"
    }
   ],
   "source": [
    "us_hap_df['month_year'] = pd.to_datetime(us_hap_df['date']).dt.to_period('M')\n",
    "us_hap_df"
   ]
  },
  {
   "cell_type": "code",
   "execution_count": 24,
   "metadata": {
    "scrolled": true
   },
   "outputs": [
    {
     "data": {
      "text/html": [
       "<div>\n",
       "<style scoped>\n",
       "    .dataframe tbody tr th:only-of-type {\n",
       "        vertical-align: middle;\n",
       "    }\n",
       "\n",
       "    .dataframe tbody tr th {\n",
       "        vertical-align: top;\n",
       "    }\n",
       "\n",
       "    .dataframe thead th {\n",
       "        text-align: right;\n",
       "    }\n",
       "</style>\n",
       "<table border=\"1\" class=\"dataframe\">\n",
       "  <thead>\n",
       "    <tr style=\"text-align: right;\">\n",
       "      <th></th>\n",
       "      <th>date</th>\n",
       "      <th>happiness_rating</th>\n",
       "      <th>month_year</th>\n",
       "      <th>cases</th>\n",
       "      <th>daily_change</th>\n",
       "    </tr>\n",
       "  </thead>\n",
       "  <tbody>\n",
       "    <tr>\n",
       "      <th>0</th>\n",
       "      <td>2020-02-05</td>\n",
       "      <td>6.404762</td>\n",
       "      <td>2020-02</td>\n",
       "      <td>11</td>\n",
       "      <td>0.0</td>\n",
       "    </tr>\n",
       "    <tr>\n",
       "      <th>1</th>\n",
       "      <td>2020-02-06</td>\n",
       "      <td>5.800000</td>\n",
       "      <td>2020-02</td>\n",
       "      <td>12</td>\n",
       "      <td>1.0</td>\n",
       "    </tr>\n",
       "    <tr>\n",
       "      <th>2</th>\n",
       "      <td>2020-02-07</td>\n",
       "      <td>5.500000</td>\n",
       "      <td>2020-02</td>\n",
       "      <td>12</td>\n",
       "      <td>0.0</td>\n",
       "    </tr>\n",
       "    <tr>\n",
       "      <th>3</th>\n",
       "      <td>2020-02-08</td>\n",
       "      <td>6.333333</td>\n",
       "      <td>2020-02</td>\n",
       "      <td>12</td>\n",
       "      <td>0.0</td>\n",
       "    </tr>\n",
       "    <tr>\n",
       "      <th>4</th>\n",
       "      <td>2020-02-09</td>\n",
       "      <td>6.517986</td>\n",
       "      <td>2020-02</td>\n",
       "      <td>12</td>\n",
       "      <td>0.0</td>\n",
       "    </tr>\n",
       "    <tr>\n",
       "      <th>...</th>\n",
       "      <td>...</td>\n",
       "      <td>...</td>\n",
       "      <td>...</td>\n",
       "      <td>...</td>\n",
       "      <td>...</td>\n",
       "    </tr>\n",
       "    <tr>\n",
       "      <th>90</th>\n",
       "      <td>2020-10-07</td>\n",
       "      <td>6.200855</td>\n",
       "      <td>2020-10</td>\n",
       "      <td>7536022</td>\n",
       "      <td>50641.0</td>\n",
       "    </tr>\n",
       "    <tr>\n",
       "      <th>91</th>\n",
       "      <td>2020-10-08</td>\n",
       "      <td>9.000000</td>\n",
       "      <td>2020-10</td>\n",
       "      <td>7594351</td>\n",
       "      <td>58329.0</td>\n",
       "    </tr>\n",
       "    <tr>\n",
       "      <th>92</th>\n",
       "      <td>2020-11-05</td>\n",
       "      <td>6.214286</td>\n",
       "      <td>2020-11</td>\n",
       "      <td>9645772</td>\n",
       "      <td>126190.0</td>\n",
       "    </tr>\n",
       "    <tr>\n",
       "      <th>93</th>\n",
       "      <td>2020-11-06</td>\n",
       "      <td>6.139130</td>\n",
       "      <td>2020-11</td>\n",
       "      <td>9771480</td>\n",
       "      <td>125708.0</td>\n",
       "    </tr>\n",
       "    <tr>\n",
       "      <th>94</th>\n",
       "      <td>2020-11-07</td>\n",
       "      <td>6.041096</td>\n",
       "      <td>2020-11</td>\n",
       "      <td>9899480</td>\n",
       "      <td>128000.0</td>\n",
       "    </tr>\n",
       "  </tbody>\n",
       "</table>\n",
       "<p>95 rows × 5 columns</p>\n",
       "</div>"
      ],
      "text/plain": [
       "         date  happiness_rating month_year    cases  daily_change\n",
       "0  2020-02-05          6.404762    2020-02       11           0.0\n",
       "1  2020-02-06          5.800000    2020-02       12           1.0\n",
       "2  2020-02-07          5.500000    2020-02       12           0.0\n",
       "3  2020-02-08          6.333333    2020-02       12           0.0\n",
       "4  2020-02-09          6.517986    2020-02       12           0.0\n",
       "..        ...               ...        ...      ...           ...\n",
       "90 2020-10-07          6.200855    2020-10  7536022       50641.0\n",
       "91 2020-10-08          9.000000    2020-10  7594351       58329.0\n",
       "92 2020-11-05          6.214286    2020-11  9645772      126190.0\n",
       "93 2020-11-06          6.139130    2020-11  9771480      125708.0\n",
       "94 2020-11-07          6.041096    2020-11  9899480      128000.0\n",
       "\n",
       "[95 rows x 5 columns]"
      ]
     },
     "execution_count": 24,
     "metadata": {},
     "output_type": "execute_result"
    }
   ],
   "source": [
    "merged_df= pd.merge(left=us_hap_df, left_on='date',\n",
    "         right=us_date_cov, right_on='date')\n",
    "merged_df"
   ]
  },
  {
   "cell_type": "code",
   "execution_count": 25,
   "metadata": {
    "scrolled": true
   },
   "outputs": [
    {
     "data": {
      "text/plain": [
       "<AxesSubplot:label='d307edae-9521-4303-af02-e3e123038d8e'>"
      ]
     },
     "execution_count": 25,
     "metadata": {},
     "output_type": "execute_result"
    },
    {
     "data": {
      "image/png": "[encoded data removed]",
      "text/plain": [
       "<Figure size 432x288 with 2 Axes>"
      ]
     },
     "metadata": {
      "needs_background": "light"
     },
     "output_type": "display_data"
    }
   ],
   "source": [
    "month_hap=merged_df.groupby('month_year')['happiness_rating'].mean()\n",
    "month_hap.plot(color='red',grid=True)\n",
    "month_cov=merged_df.groupby('month_year')['daily_change'].mean()\n",
    "month_cov.plot(color='blue', grid=True, secondary_y=True)"
   ]
  },
  {
   "cell_type": "markdown",
   "metadata": {},
   "source": [
    "### Observations\n",
    "\n",
    "Some connections seen again; it's interesting that the trajectory and pattern of cases in Denmark and Finland are somewhat similar to US (first surge earlier 2020 followed by huge surge right now) although the # of cases in the US is simply astonishing. We see dip in happiness in April with peak #1 that same month. Decline in happiness recently as we experience another wave of cases."
   ]
  },
  {
   "cell_type": "markdown",
   "metadata": {},
   "source": [
    "## Weekly happiness ratings and weekly COVID-19"
   ]
  },
  {
   "cell_type": "markdown",
   "metadata": {},
   "source": [
    "Daily plots were too spiky for happiness; monthly a little too generalized. Going to try weekly plots now for visualization."
   ]
  },
  {
   "cell_type": "code",
   "execution_count": 26,
   "metadata": {},
   "outputs": [],
   "source": [
    "di = {'week 5': '2020-04-30',\n",
    "      'week 6': '2020-05-08',\n",
    "      'week 7': '2020-05-15',\n",
    "      'week 8': '2020-05-27',\n",
    "      'week 9': '2020-06-09',\n",
    "      'week 10': '2020-06-24',\n",
    "      'week 11': '2020-07-08',\n",
    "      'week 12': '2020-07-22',\n",
    "      'week 13': '2020-08-06',\n",
    "      'week 14': '2020-08-20',\n",
    "      'week 15': '2020-09-02',\n",
    "      'week 16': '2020-09-16',}\n",
    "us_hap_filter['week']= us_hap_filter['week'].map(di)  "
   ]
  },
  {
   "cell_type": "code",
   "execution_count": 27,
   "metadata": {},
   "outputs": [],
   "source": [
    "us_hap_filter['week']=pd.to_datetime(us_hap_filter['week'])"
   ]
  },
  {
   "cell_type": "code",
   "execution_count": 28,
   "metadata": {},
   "outputs": [],
   "source": [
    "weekly_covid=us_date_cov.rolling(7).mean()"
   ]
  },
  {
   "cell_type": "code",
   "execution_count": 29,
   "metadata": {
    "scrolled": true
   },
   "outputs": [
    {
     "data": {
      "text/plain": [
       "<AxesSubplot:xlabel='date'>"
      ]
     },
     "execution_count": 29,
     "metadata": {},
     "output_type": "execute_result"
    },
    {
     "data": {
      "image/png": "[encoded data removed]",
      "text/plain": [
       "<Figure size 432x288 with 1 Axes>"
      ]
     },
     "metadata": {
      "needs_background": "light"
     },
     "output_type": "display_data"
    }
   ],
   "source": [
    "## weekly covid cases plot to be used later on\n",
    "weekly_covid['daily_change'].plot()"
   ]
  },
  {
   "cell_type": "code",
   "execution_count": 30,
   "metadata": {
    "scrolled": true
   },
   "outputs": [
    {
     "data": {
      "text/plain": [
       "<AxesSubplot:label='c65fa48d-a53f-4c65-9470-9bf00a19eee7'>"
      ]
     },
     "execution_count": 30,
     "metadata": {},
     "output_type": "execute_result"
    },
    {
     "data": {
      "image/png": "[encoded data removed]",
      "text/plain": [
       "<Figure size 432x288 with 2 Axes>"
      ]
     },
     "metadata": {
      "needs_background": "light"
     },
     "output_type": "display_data"
    }
   ],
   "source": [
    "weekly = us_hap_filter.groupby('week')['happiness_rating'].mean()\n",
    "weekly.plot()\n",
    "weekly_covid['daily_change'].plot(grid=True, secondary_y=True)"
   ]
  },
  {
   "cell_type": "markdown",
   "metadata": {},
   "source": [
    "This also isn't too ideal."
   ]
  },
  {
   "cell_type": "markdown",
   "metadata": {},
   "source": [
    "## Interpolated Happiness Ratings"
   ]
  },
  {
   "cell_type": "markdown",
   "metadata": {},
   "source": [
    "Going to try interpolated ratings to see if I can generate a reasonably smoother curve that may be easier to analyze alongside cases data."
   ]
  },
  {
   "cell_type": "code",
   "execution_count": 31,
   "metadata": {},
   "outputs": [],
   "source": [
    "ushap_daily=us_hap_df.set_index(pd.to_datetime(us_hap_df['date']))"
   ]
  },
  {
   "cell_type": "code",
   "execution_count": 32,
   "metadata": {},
   "outputs": [],
   "source": [
    "ushap_daily=ushap_daily[['date', 'happiness_rating']]"
   ]
  },
  {
   "cell_type": "code",
   "execution_count": 33,
   "metadata": {},
   "outputs": [],
   "source": [
    "ushap_daily.to_csv('../data/exported_subset_data/happiness_2020/interpolated_us.csv')"
   ]
  },
  {
   "cell_type": "code",
   "execution_count": 34,
   "metadata": {
    "scrolled": true
   },
   "outputs": [
    {
     "data": {
      "text/plain": [
       "<AxesSubplot:label='c01ac7eb-f452-4cd7-938f-a8a1c22adef7'>"
      ]
     },
     "execution_count": 34,
     "metadata": {},
     "output_type": "execute_result"
    },
    {
     "data": {
      "image/png": "[encoded data removed]",
      "text/plain": [
       "<Figure size 432x288 with 2 Axes>"
      ]
     },
     "metadata": {
      "needs_background": "light"
     },
     "output_type": "display_data"
    }
   ],
   "source": [
    "# resample and interpolate missing values and calculate average\n",
    "## pair with weekly covid cases plot from before\n",
    "ushap_daily.resample('3D').interpolate().rolling('10D')['happiness_rating'].mean().plot()\n",
    "weekly_covid['daily_change'].plot(secondary_y=True)"
   ]
  },
  {
   "cell_type": "markdown",
   "metadata": {},
   "source": [
    "### Observations\n",
    "\n",
    "Better graph. Some common patterns where happiness dips in April with first peak. As things stabilize a bit in May and June, happiness increases and peaks but drops back down in July and August when second peak is seen. Seems to fluctuate where the correlations are not as clear but now that cases are surging again, happiness declines once more."
   ]
  },
  {
   "cell_type": "markdown",
   "metadata": {},
   "source": [
    "## Happiness rating mean for 2020 as a whole in US"
   ]
  },
  {
   "cell_type": "code",
   "execution_count": 35,
   "metadata": {},
   "outputs": [
    {
     "data": {
      "text/plain": [
       "6.235632183908046"
      ]
     },
     "execution_count": 35,
     "metadata": {},
     "output_type": "execute_result"
    }
   ],
   "source": [
    "us_hap_filter['happiness_rating'].mean()"
   ]
  },
  {
   "cell_type": "markdown",
   "metadata": {},
   "source": [
    "### Observations\n",
    "\n",
    "US happiness rating in 2019 was 6.94. Decrease between 2020 and 2019, although not as dramatic as I expected. Seems to be similar trends as experienced by Denmark, Finland, and US."
   ]
  }
 ],
 "metadata": {
  "kernelspec": {
   "display_name": "Python 3",
   "language": "python",
   "name": "python3"
  },
  "language_info": {
   "codemirror_mode": {
    "name": "ipython",
    "version": 3
   },
   "file_extension": ".py",
   "mimetype": "text/x-python",
   "name": "python",
   "nbconvert_exporter": "python",
   "pygments_lexer": "ipython3",
   "version": "3.7.3"
  }
 },
 "nbformat": 4,
 "nbformat_minor": 2
}
