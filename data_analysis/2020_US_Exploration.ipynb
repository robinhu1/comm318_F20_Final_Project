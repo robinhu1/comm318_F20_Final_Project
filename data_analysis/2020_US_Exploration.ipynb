{
 "cells": [
  {
   "cell_type": "markdown",
   "metadata": {},
   "source": [
    "# 2020 US Data Exploration and Cleaning"
   ]
  },
  {
   "cell_type": "code",
   "execution_count": 1,
   "metadata": {},
   "outputs": [],
   "source": [
    "import pandas as pd\n",
    "import matplotlib.pyplot as plt\n",
    "import plotly_express as px\n",
    "import seaborn as sns\n",
    "\n",
    "import warnings\n",
    "warnings.simplefilter('ignore')\n",
    "import statsmodels.formula.api as smf"
   ]
  },
  {
   "cell_type": "markdown",
   "metadata": {},
   "source": [
    "## Purpose of this notebook"
   ]
  },
  {
   "cell_type": "markdown",
   "metadata": {},
   "source": [
    "- initial cleaning and look at raw data files for happiness ratings in 2020 for US and COVID-19 cases in US\n",
    "- create cleaned versions of files for analysis notebook"
   ]
  },
  {
   "cell_type": "markdown",
   "metadata": {},
   "source": [
    "## Load datasets into dataframes"
   ]
  },
  {
   "cell_type": "code",
   "execution_count": 2,
   "metadata": {},
   "outputs": [],
   "source": [
    "us_hap = pd.read_csv('../data/raw_data/2020/united_states.csv')\n",
    "us_covid = pd.read_csv('../data/raw_data/2020/covid19_cases_us.csv')"
   ]
  },
  {
   "cell_type": "markdown",
   "metadata": {},
   "source": [
    "## Start with US dataset for happiness"
   ]
  },
  {
   "cell_type": "code",
   "execution_count": 3,
   "metadata": {
    "scrolled": false
   },
   "outputs": [
    {
     "data": {
      "text/html": [
       "<div>\n",
       "<style scoped>\n",
       "    .dataframe tbody tr th:only-of-type {\n",
       "        vertical-align: middle;\n",
       "    }\n",
       "\n",
       "    .dataframe tbody tr th {\n",
       "        vertical-align: top;\n",
       "    }\n",
       "\n",
       "    .dataframe thead th {\n",
       "        text-align: right;\n",
       "    }\n",
       "</style>\n",
       "<table border=\"1\" class=\"dataframe\">\n",
       "  <thead>\n",
       "    <tr style=\"text-align: right;\">\n",
       "      <th></th>\n",
       "      <th>RecordNo</th>\n",
       "      <th>endtime</th>\n",
       "      <th>state</th>\n",
       "      <th>qweek</th>\n",
       "      <th>i1_health</th>\n",
       "      <th>i2_health</th>\n",
       "      <th>i7a_health</th>\n",
       "      <th>i3_health</th>\n",
       "      <th>i4_health</th>\n",
       "      <th>i5_health_1</th>\n",
       "      <th>...</th>\n",
       "      <th>w5_96</th>\n",
       "      <th>w5_99</th>\n",
       "      <th>w6</th>\n",
       "      <th>w7</th>\n",
       "      <th>w9_1</th>\n",
       "      <th>w9_2</th>\n",
       "      <th>w9_3</th>\n",
       "      <th>w9_4</th>\n",
       "      <th>w9_5</th>\n",
       "      <th>disability</th>\n",
       "    </tr>\n",
       "  </thead>\n",
       "  <tbody>\n",
       "    <tr>\n",
       "      <th>0</th>\n",
       "      <td>0</td>\n",
       "      <td>02/04/2020 08:11</td>\n",
       "      <td>California</td>\n",
       "      <td>week 1</td>\n",
       "      <td>5</td>\n",
       "      <td>7</td>\n",
       "      <td>0</td>\n",
       "      <td>No, I have not</td>\n",
       "      <td></td>\n",
       "      <td></td>\n",
       "      <td>...</td>\n",
       "      <td></td>\n",
       "      <td></td>\n",
       "      <td></td>\n",
       "      <td></td>\n",
       "      <td></td>\n",
       "      <td></td>\n",
       "      <td></td>\n",
       "      <td></td>\n",
       "      <td></td>\n",
       "      <td></td>\n",
       "    </tr>\n",
       "    <tr>\n",
       "      <th>1</th>\n",
       "      <td>1</td>\n",
       "      <td>02/04/2020 08:12</td>\n",
       "      <td>Pennsylvania</td>\n",
       "      <td>week 1</td>\n",
       "      <td>3</td>\n",
       "      <td>4</td>\n",
       "      <td>0</td>\n",
       "      <td>No, I have not</td>\n",
       "      <td>No, they have not</td>\n",
       "      <td>No</td>\n",
       "      <td>...</td>\n",
       "      <td></td>\n",
       "      <td></td>\n",
       "      <td></td>\n",
       "      <td></td>\n",
       "      <td></td>\n",
       "      <td></td>\n",
       "      <td></td>\n",
       "      <td></td>\n",
       "      <td></td>\n",
       "      <td></td>\n",
       "    </tr>\n",
       "    <tr>\n",
       "      <th>2</th>\n",
       "      <td>2</td>\n",
       "      <td>02/04/2020 08:15</td>\n",
       "      <td>Florida</td>\n",
       "      <td>week 1</td>\n",
       "      <td>1</td>\n",
       "      <td>12</td>\n",
       "      <td>0</td>\n",
       "      <td>No, I have not</td>\n",
       "      <td>No, they have not</td>\n",
       "      <td>Yes</td>\n",
       "      <td>...</td>\n",
       "      <td></td>\n",
       "      <td></td>\n",
       "      <td></td>\n",
       "      <td></td>\n",
       "      <td></td>\n",
       "      <td></td>\n",
       "      <td></td>\n",
       "      <td></td>\n",
       "      <td></td>\n",
       "      <td></td>\n",
       "    </tr>\n",
       "    <tr>\n",
       "      <th>3</th>\n",
       "      <td>3</td>\n",
       "      <td>02/04/2020 08:15</td>\n",
       "      <td>California</td>\n",
       "      <td>week 1</td>\n",
       "      <td>5</td>\n",
       "      <td>8</td>\n",
       "      <td>1</td>\n",
       "      <td>No, I have not</td>\n",
       "      <td>No, they have not</td>\n",
       "      <td>No</td>\n",
       "      <td>...</td>\n",
       "      <td></td>\n",
       "      <td></td>\n",
       "      <td></td>\n",
       "      <td></td>\n",
       "      <td></td>\n",
       "      <td></td>\n",
       "      <td></td>\n",
       "      <td></td>\n",
       "      <td></td>\n",
       "      <td></td>\n",
       "    </tr>\n",
       "    <tr>\n",
       "      <th>4</th>\n",
       "      <td>4</td>\n",
       "      <td>02/04/2020 08:15</td>\n",
       "      <td>Florida</td>\n",
       "      <td>week 1</td>\n",
       "      <td>1</td>\n",
       "      <td>1</td>\n",
       "      <td>0</td>\n",
       "      <td>No, I have not</td>\n",
       "      <td>No, they have not</td>\n",
       "      <td>Yes</td>\n",
       "      <td>...</td>\n",
       "      <td></td>\n",
       "      <td></td>\n",
       "      <td></td>\n",
       "      <td></td>\n",
       "      <td></td>\n",
       "      <td></td>\n",
       "      <td></td>\n",
       "      <td></td>\n",
       "      <td></td>\n",
       "      <td></td>\n",
       "    </tr>\n",
       "    <tr>\n",
       "      <th>...</th>\n",
       "      <td>...</td>\n",
       "      <td>...</td>\n",
       "      <td>...</td>\n",
       "      <td>...</td>\n",
       "      <td>...</td>\n",
       "      <td>...</td>\n",
       "      <td>...</td>\n",
       "      <td>...</td>\n",
       "      <td>...</td>\n",
       "      <td>...</td>\n",
       "      <td>...</td>\n",
       "      <td>...</td>\n",
       "      <td>...</td>\n",
       "      <td>...</td>\n",
       "      <td>...</td>\n",
       "      <td>...</td>\n",
       "      <td>...</td>\n",
       "      <td>...</td>\n",
       "      <td>...</td>\n",
       "      <td>...</td>\n",
       "      <td>...</td>\n",
       "    </tr>\n",
       "    <tr>\n",
       "      <th>16977</th>\n",
       "      <td>16977</td>\n",
       "      <td>29/09/2020 04:57</td>\n",
       "      <td>Oklahoma</td>\n",
       "      <td>week 16</td>\n",
       "      <td>2</td>\n",
       "      <td>1</td>\n",
       "      <td>1</td>\n",
       "      <td>No, I have not</td>\n",
       "      <td>No, they have not</td>\n",
       "      <td>No</td>\n",
       "      <td>...</td>\n",
       "      <td>No</td>\n",
       "      <td>No</td>\n",
       "      <td>Yes</td>\n",
       "      <td>3</td>\n",
       "      <td>Some of the time</td>\n",
       "      <td>Some of the time</td>\n",
       "      <td>At no time</td>\n",
       "      <td>At no time</td>\n",
       "      <td>Some of the time</td>\n",
       "      <td>No</td>\n",
       "    </tr>\n",
       "    <tr>\n",
       "      <th>16978</th>\n",
       "      <td>16978</td>\n",
       "      <td>29/09/2020 15:07</td>\n",
       "      <td>California</td>\n",
       "      <td>week 16</td>\n",
       "      <td>1</td>\n",
       "      <td>1</td>\n",
       "      <td>0</td>\n",
       "      <td>No, I have not</td>\n",
       "      <td>No, they have not</td>\n",
       "      <td>No</td>\n",
       "      <td>...</td>\n",
       "      <td></td>\n",
       "      <td></td>\n",
       "      <td>No</td>\n",
       "      <td>Don't know</td>\n",
       "      <td>Some of the time</td>\n",
       "      <td>Some of the time</td>\n",
       "      <td>At no time</td>\n",
       "      <td>At no time</td>\n",
       "      <td>At no time</td>\n",
       "      <td>No</td>\n",
       "    </tr>\n",
       "    <tr>\n",
       "      <th>16979</th>\n",
       "      <td>16979</td>\n",
       "      <td>29/09/2020 19:48</td>\n",
       "      <td>Rhode Island</td>\n",
       "      <td>week 16</td>\n",
       "      <td>4</td>\n",
       "      <td>0</td>\n",
       "      <td>0</td>\n",
       "      <td>No, I have not</td>\n",
       "      <td>No, they have not</td>\n",
       "      <td>No</td>\n",
       "      <td>...</td>\n",
       "      <td></td>\n",
       "      <td></td>\n",
       "      <td>No</td>\n",
       "      <td>Don't know</td>\n",
       "      <td>All the time</td>\n",
       "      <td>All the time</td>\n",
       "      <td>All the time</td>\n",
       "      <td>All the time</td>\n",
       "      <td>All the time</td>\n",
       "      <td>Yes, limited a lot</td>\n",
       "    </tr>\n",
       "    <tr>\n",
       "      <th>16980</th>\n",
       "      <td>16980</td>\n",
       "      <td>30/09/2020 04:17</td>\n",
       "      <td>Mississippi</td>\n",
       "      <td>week 16</td>\n",
       "      <td>1</td>\n",
       "      <td>0</td>\n",
       "      <td>1</td>\n",
       "      <td>Yes, and I tested negative</td>\n",
       "      <td>Yes, and they tested negative</td>\n",
       "      <td>No</td>\n",
       "      <td>...</td>\n",
       "      <td></td>\n",
       "      <td></td>\n",
       "      <td>Don't Know</td>\n",
       "      <td>4</td>\n",
       "      <td>More than half of the time</td>\n",
       "      <td>More than half of the time</td>\n",
       "      <td>More than half of the time</td>\n",
       "      <td>More than half of the time</td>\n",
       "      <td>More than half of the time</td>\n",
       "      <td>No</td>\n",
       "    </tr>\n",
       "    <tr>\n",
       "      <th>16981</th>\n",
       "      <td>16981</td>\n",
       "      <td>30/09/2020 15:26</td>\n",
       "      <td>Texas</td>\n",
       "      <td>week 16</td>\n",
       "      <td>5</td>\n",
       "      <td>0</td>\n",
       "      <td>6</td>\n",
       "      <td></td>\n",
       "      <td></td>\n",
       "      <td></td>\n",
       "      <td>...</td>\n",
       "      <td></td>\n",
       "      <td></td>\n",
       "      <td>Don't Know</td>\n",
       "      <td>Prefer not to say</td>\n",
       "      <td>At no time</td>\n",
       "      <td>At no time</td>\n",
       "      <td>At no time</td>\n",
       "      <td>At no time</td>\n",
       "      <td>At no time</td>\n",
       "      <td>Prefer not to say / skipped</td>\n",
       "    </tr>\n",
       "  </tbody>\n",
       "</table>\n",
       "<p>16982 rows × 323 columns</p>\n",
       "</div>"
      ],
      "text/plain": [
       "       RecordNo           endtime         state    qweek  i1_health  \\\n",
       "0             0  02/04/2020 08:11    California   week 1          5   \n",
       "1             1  02/04/2020 08:12  Pennsylvania   week 1          3   \n",
       "2             2  02/04/2020 08:15       Florida   week 1          1   \n",
       "3             3  02/04/2020 08:15    California   week 1          5   \n",
       "4             4  02/04/2020 08:15       Florida   week 1          1   \n",
       "...         ...               ...           ...      ...        ...   \n",
       "16977     16977  29/09/2020 04:57      Oklahoma  week 16          2   \n",
       "16978     16978  29/09/2020 15:07    California  week 16          1   \n",
       "16979     16979  29/09/2020 19:48  Rhode Island  week 16          4   \n",
       "16980     16980  30/09/2020 04:17   Mississippi  week 16          1   \n",
       "16981     16981  30/09/2020 15:26         Texas  week 16          5   \n",
       "\n",
       "       i2_health  i7a_health                   i3_health  \\\n",
       "0              7           0              No, I have not   \n",
       "1              4           0              No, I have not   \n",
       "2             12           0              No, I have not   \n",
       "3              8           1              No, I have not   \n",
       "4              1           0              No, I have not   \n",
       "...          ...         ...                         ...   \n",
       "16977          1           1              No, I have not   \n",
       "16978          1           0              No, I have not   \n",
       "16979          0           0              No, I have not   \n",
       "16980          0           1  Yes, and I tested negative   \n",
       "16981          0           6                               \n",
       "\n",
       "                           i4_health i5_health_1  ... w5_96 w5_99          w6  \\\n",
       "0                                                 ...                           \n",
       "1                  No, they have not          No  ...                           \n",
       "2                  No, they have not         Yes  ...                           \n",
       "3                  No, they have not          No  ...                           \n",
       "4                  No, they have not         Yes  ...                           \n",
       "...                              ...         ...  ...   ...   ...         ...   \n",
       "16977              No, they have not          No  ...    No    No         Yes   \n",
       "16978              No, they have not          No  ...                      No   \n",
       "16979              No, they have not          No  ...                      No   \n",
       "16980  Yes, and they tested negative          No  ...              Don't Know   \n",
       "16981                                             ...              Don't Know   \n",
       "\n",
       "                      w7                        w9_1  \\\n",
       "0                                                      \n",
       "1                                                      \n",
       "2                                                      \n",
       "3                                                      \n",
       "4                                                      \n",
       "...                  ...                         ...   \n",
       "16977                  3            Some of the time   \n",
       "16978         Don't know            Some of the time   \n",
       "16979         Don't know                All the time   \n",
       "16980                  4  More than half of the time   \n",
       "16981  Prefer not to say                  At no time   \n",
       "\n",
       "                             w9_2                        w9_3  \\\n",
       "0                                                               \n",
       "1                                                               \n",
       "2                                                               \n",
       "3                                                               \n",
       "4                                                               \n",
       "...                           ...                         ...   \n",
       "16977            Some of the time                  At no time   \n",
       "16978            Some of the time                  At no time   \n",
       "16979                All the time                All the time   \n",
       "16980  More than half of the time  More than half of the time   \n",
       "16981                  At no time                  At no time   \n",
       "\n",
       "                             w9_4                        w9_5  \\\n",
       "0                                                               \n",
       "1                                                               \n",
       "2                                                               \n",
       "3                                                               \n",
       "4                                                               \n",
       "...                           ...                         ...   \n",
       "16977                  At no time            Some of the time   \n",
       "16978                  At no time                  At no time   \n",
       "16979                All the time                All the time   \n",
       "16980  More than half of the time  More than half of the time   \n",
       "16981                  At no time                  At no time   \n",
       "\n",
       "                        disability  \n",
       "0                                   \n",
       "1                                   \n",
       "2                                   \n",
       "3                                   \n",
       "4                                   \n",
       "...                            ...  \n",
       "16977                           No  \n",
       "16978                           No  \n",
       "16979           Yes, limited a lot  \n",
       "16980                           No  \n",
       "16981  Prefer not to say / skipped  \n",
       "\n",
       "[16982 rows x 323 columns]"
      ]
     },
     "execution_count": 3,
     "metadata": {},
     "output_type": "execute_result"
    }
   ],
   "source": [
    "us_hap"
   ]
  },
  {
   "cell_type": "code",
   "execution_count": 4,
   "metadata": {},
   "outputs": [
    {
     "data": {
      "text/plain": [
       "(16982, 323)"
      ]
     },
     "execution_count": 4,
     "metadata": {},
     "output_type": "execute_result"
    }
   ],
   "source": [
    "us_hap.shape\n"
   ]
  },
  {
   "cell_type": "code",
   "execution_count": 5,
   "metadata": {
    "scrolled": true
   },
   "outputs": [
    {
     "data": {
      "text/plain": [
       "Index(['RecordNo', 'endtime', 'state', 'qweek', 'i1_health', 'i2_health',\n",
       "       'i7a_health', 'i3_health', 'i4_health', 'i5_health_1',\n",
       "       ...\n",
       "       'w5_96', 'w5_99', 'w6', 'w7', 'w9_1', 'w9_2', 'w9_3', 'w9_4', 'w9_5',\n",
       "       'disability'],\n",
       "      dtype='object', length=323)"
      ]
     },
     "execution_count": 5,
     "metadata": {},
     "output_type": "execute_result"
    }
   ],
   "source": [
    "us_hap.columns"
   ]
  },
  {
   "cell_type": "markdown",
   "metadata": {},
   "source": [
    "### Observations\n",
    "\n",
    "16982 rows and 323 columns. Definitely not going to be using all of these columns and need to rename the columns based on the codebook."
   ]
  },
  {
   "cell_type": "markdown",
   "metadata": {},
   "source": [
    "## Selecting and renaming columns"
   ]
  },
  {
   "cell_type": "code",
   "execution_count": 6,
   "metadata": {},
   "outputs": [],
   "source": [
    "us_hap_df=us_hap[['RecordNo', 'endtime','qweek','state','i3_health','d1_health_12','age','gender','WCRex2','CORE_B2_4','cantril_ladder','PHQ4_1','PHQ4_2','PHQ4_3','PHQ4_4','WCRex1','r1_1','r1_7','ox3_1','ox3_2','ox3_3','ox3_6','ox5_2','ox6','w2','w3','w4_1','w4_2','w4_7','w4_8','w4_9','w9_1','w9_2']]"
   ]
  },
  {
   "cell_type": "code",
   "execution_count": 7,
   "metadata": {},
   "outputs": [],
   "source": [
    "col_dict = {\n",
    "    'RecordNo':'record_no',\n",
    "    'endtime':'date',\n",
    "    'qweek': 'week',\n",
    "    'i3_health':'covid_test',\n",
    "    'd1_health_12':'mental_health_condition',\n",
    "    'WCRex2':'confidence_NHS',\n",
    "    'CORE_B2_4':'happiness_2wk_comparison',\n",
    "    'cantril_ladder':'happiness_rating',\n",
    "    'PHQ4_1':'little_interest',\n",
    "    'PHQ4_2':'negative_feelings',\n",
    "    'PHQ4_3':'anxiety',\n",
    "    'PHQ4_4':'worry',\n",
    "    'WCRex1':'gvt_rating',\n",
    "    'r1_1':'perceptions_covid',\n",
    "    'r1_7':'covid_effect',\n",
    "    'ox3_1':'social_norms',\n",
    "    'ox3_2':'social_expectations',\n",
    "    'ox3_3':'appropriate_behaviors',\n",
    "    'ox3_6':'follow_norms',\n",
    "    'ox5_2':'trust_gvt',\n",
    "    'ox6':'public_sector',\n",
    "    'w2':'community_belonging',\n",
    "    'w3':'belonging_change',\n",
    "    'w4_1':'spoken_mental',\n",
    "    'w4_2':'medication_mental',\n",
    "    'w4_7':'seek_mental',\n",
    "    'w4_8':'professional_mental',\n",
    "    'w4_9':'readings_mental',\n",
    "    'w9_1':'cheerful',\n",
    "    'w9_2':'relaxed',}\n",
    "us_hap_df = us_hap_df.rename(columns = col_dict)"
   ]
  },
  {
   "cell_type": "code",
   "execution_count": 8,
   "metadata": {},
   "outputs": [
    {
     "data": {
      "text/plain": [
       "(16982, 33)"
      ]
     },
     "execution_count": 8,
     "metadata": {},
     "output_type": "execute_result"
    }
   ],
   "source": [
    "us_hap_df.shape"
   ]
  },
  {
   "cell_type": "code",
   "execution_count": 9,
   "metadata": {},
   "outputs": [
    {
     "data": {
      "text/plain": [
       "<bound method Index.unique of Index(['record_no', 'date', 'week', 'state', 'covid_test',\n",
       "       'mental_health_condition', 'age', 'gender', 'confidence_NHS',\n",
       "       'happiness_2wk_comparison', 'happiness_rating', 'little_interest',\n",
       "       'negative_feelings', 'anxiety', 'worry', 'gvt_rating',\n",
       "       'perceptions_covid', 'covid_effect', 'social_norms',\n",
       "       'social_expectations', 'appropriate_behaviors', 'follow_norms',\n",
       "       'trust_gvt', 'public_sector', 'community_belonging', 'belonging_change',\n",
       "       'spoken_mental', 'medication_mental', 'seek_mental',\n",
       "       'professional_mental', 'readings_mental', 'cheerful', 'relaxed'],\n",
       "      dtype='object')>"
      ]
     },
     "execution_count": 9,
     "metadata": {},
     "output_type": "execute_result"
    }
   ],
   "source": [
    "us_hap_df.columns.unique"
   ]
  },
  {
   "cell_type": "markdown",
   "metadata": {},
   "source": [
    "### Observations\n",
    "\n",
    "Initial filtering of the dataset to select certain columns. I have 16982 rows and 33 columns to work with"
   ]
  },
  {
   "cell_type": "markdown",
   "metadata": {},
   "source": [
    "## Filtering columns further"
   ]
  },
  {
   "cell_type": "code",
   "execution_count": 10,
   "metadata": {},
   "outputs": [],
   "source": [
    "cols_filter = ['date','week','state','mental_health_condition','age','gender','happiness_rating']"
   ]
  },
  {
   "cell_type": "code",
   "execution_count": 11,
   "metadata": {
    "scrolled": false
   },
   "outputs": [],
   "source": [
    "us_hap_filter=us_hap_df[cols_filter]"
   ]
  },
  {
   "cell_type": "code",
   "execution_count": 12,
   "metadata": {
    "scrolled": false
   },
   "outputs": [],
   "source": [
    "## happiness rating data unavailable for these weeks; drop rows\n",
    "us_hap_filter = us_hap_filter.drop(us_hap_filter[us_hap_filter.week.isin(['week 1', 'week 2','week 3','week 4'])].index)"
   ]
  },
  {
   "cell_type": "code",
   "execution_count": 13,
   "metadata": {},
   "outputs": [
    {
     "data": {
      "text/plain": [
       "4976     30/04/2020 16:33\n",
       "4977     30/04/2020 16:31\n",
       "4978     30/04/2020 16:32\n",
       "4979     30/04/2020 16:34\n",
       "4980     30/04/2020 16:34\n",
       "               ...       \n",
       "16977    29/09/2020 04:57\n",
       "16978    29/09/2020 15:07\n",
       "16979    29/09/2020 19:48\n",
       "16980    30/09/2020 04:17\n",
       "16981    30/09/2020 15:26\n",
       "Name: date, Length: 12006, dtype: object"
      ]
     },
     "execution_count": 13,
     "metadata": {},
     "output_type": "execute_result"
    }
   ],
   "source": [
    "us_hap_filter['date']"
   ]
  },
  {
   "cell_type": "code",
   "execution_count": 14,
   "metadata": {},
   "outputs": [],
   "source": [
    "us_hap_filter['date'] = pd.to_datetime(us_hap_filter.date)\n",
    "us_hap_filter['date'] = us_hap_filter['date'].dt.date\n"
   ]
  },
  {
   "cell_type": "code",
   "execution_count": 15,
   "metadata": {
    "scrolled": false
   },
   "outputs": [
    {
     "data": {
      "text/html": [
       "<div>\n",
       "<style scoped>\n",
       "    .dataframe tbody tr th:only-of-type {\n",
       "        vertical-align: middle;\n",
       "    }\n",
       "\n",
       "    .dataframe tbody tr th {\n",
       "        vertical-align: top;\n",
       "    }\n",
       "\n",
       "    .dataframe thead th {\n",
       "        text-align: right;\n",
       "    }\n",
       "</style>\n",
       "<table border=\"1\" class=\"dataframe\">\n",
       "  <thead>\n",
       "    <tr style=\"text-align: right;\">\n",
       "      <th></th>\n",
       "      <th>date</th>\n",
       "      <th>week</th>\n",
       "      <th>state</th>\n",
       "      <th>mental_health_condition</th>\n",
       "      <th>age</th>\n",
       "      <th>gender</th>\n",
       "      <th>happiness_rating</th>\n",
       "    </tr>\n",
       "  </thead>\n",
       "  <tbody>\n",
       "    <tr>\n",
       "      <th>4976</th>\n",
       "      <td>2020-04-30</td>\n",
       "      <td>week 5</td>\n",
       "      <td>Georgia</td>\n",
       "      <td>No</td>\n",
       "      <td>40</td>\n",
       "      <td>Male</td>\n",
       "      <td>2</td>\n",
       "    </tr>\n",
       "    <tr>\n",
       "      <th>4977</th>\n",
       "      <td>2020-04-30</td>\n",
       "      <td>week 5</td>\n",
       "      <td>New Jersey</td>\n",
       "      <td>No</td>\n",
       "      <td>62</td>\n",
       "      <td>Female</td>\n",
       "      <td>6</td>\n",
       "    </tr>\n",
       "    <tr>\n",
       "      <th>4978</th>\n",
       "      <td>2020-04-30</td>\n",
       "      <td>week 5</td>\n",
       "      <td>Indiana</td>\n",
       "      <td>No</td>\n",
       "      <td>61</td>\n",
       "      <td>Female</td>\n",
       "      <td>9</td>\n",
       "    </tr>\n",
       "    <tr>\n",
       "      <th>4979</th>\n",
       "      <td>2020-04-30</td>\n",
       "      <td>week 5</td>\n",
       "      <td>Virginia</td>\n",
       "      <td>No</td>\n",
       "      <td>60</td>\n",
       "      <td>Female</td>\n",
       "      <td>9</td>\n",
       "    </tr>\n",
       "    <tr>\n",
       "      <th>4980</th>\n",
       "      <td>2020-04-30</td>\n",
       "      <td>week 5</td>\n",
       "      <td>Michigan</td>\n",
       "      <td>No</td>\n",
       "      <td>37</td>\n",
       "      <td>Female</td>\n",
       "      <td>3</td>\n",
       "    </tr>\n",
       "    <tr>\n",
       "      <th>...</th>\n",
       "      <td>...</td>\n",
       "      <td>...</td>\n",
       "      <td>...</td>\n",
       "      <td>...</td>\n",
       "      <td>...</td>\n",
       "      <td>...</td>\n",
       "      <td>...</td>\n",
       "    </tr>\n",
       "    <tr>\n",
       "      <th>16977</th>\n",
       "      <td>2020-09-29</td>\n",
       "      <td>week 16</td>\n",
       "      <td>Oklahoma</td>\n",
       "      <td>No</td>\n",
       "      <td>27</td>\n",
       "      <td>Female</td>\n",
       "      <td>4</td>\n",
       "    </tr>\n",
       "    <tr>\n",
       "      <th>16978</th>\n",
       "      <td>2020-09-29</td>\n",
       "      <td>week 16</td>\n",
       "      <td>California</td>\n",
       "      <td>No</td>\n",
       "      <td>74</td>\n",
       "      <td>Female</td>\n",
       "      <td>5</td>\n",
       "    </tr>\n",
       "    <tr>\n",
       "      <th>16979</th>\n",
       "      <td>2020-09-29</td>\n",
       "      <td>week 16</td>\n",
       "      <td>Rhode Island</td>\n",
       "      <td>No</td>\n",
       "      <td>26</td>\n",
       "      <td>Female</td>\n",
       "      <td>5</td>\n",
       "    </tr>\n",
       "    <tr>\n",
       "      <th>16980</th>\n",
       "      <td>2020-09-30</td>\n",
       "      <td>week 16</td>\n",
       "      <td>Mississippi</td>\n",
       "      <td>No</td>\n",
       "      <td>22</td>\n",
       "      <td>Male</td>\n",
       "      <td>8</td>\n",
       "    </tr>\n",
       "    <tr>\n",
       "      <th>16981</th>\n",
       "      <td>2020-09-30</td>\n",
       "      <td>week 16</td>\n",
       "      <td>Texas</td>\n",
       "      <td>No</td>\n",
       "      <td>23</td>\n",
       "      <td>Male</td>\n",
       "      <td>0</td>\n",
       "    </tr>\n",
       "  </tbody>\n",
       "</table>\n",
       "<p>12006 rows × 7 columns</p>\n",
       "</div>"
      ],
      "text/plain": [
       "             date     week         state mental_health_condition  age  gender  \\\n",
       "4976   2020-04-30   week 5       Georgia                      No   40    Male   \n",
       "4977   2020-04-30   week 5    New Jersey                      No   62  Female   \n",
       "4978   2020-04-30   week 5       Indiana                      No   61  Female   \n",
       "4979   2020-04-30   week 5      Virginia                      No   60  Female   \n",
       "4980   2020-04-30   week 5      Michigan                      No   37  Female   \n",
       "...           ...      ...           ...                     ...  ...     ...   \n",
       "16977  2020-09-29  week 16      Oklahoma                      No   27  Female   \n",
       "16978  2020-09-29  week 16    California                      No   74  Female   \n",
       "16979  2020-09-29  week 16  Rhode Island                      No   26  Female   \n",
       "16980  2020-09-30  week 16   Mississippi                      No   22    Male   \n",
       "16981  2020-09-30  week 16         Texas                      No   23    Male   \n",
       "\n",
       "      happiness_rating  \n",
       "4976                 2  \n",
       "4977                 6  \n",
       "4978                 9  \n",
       "4979                 9  \n",
       "4980                 3  \n",
       "...                ...  \n",
       "16977                4  \n",
       "16978                5  \n",
       "16979                5  \n",
       "16980                8  \n",
       "16981                0  \n",
       "\n",
       "[12006 rows x 7 columns]"
      ]
     },
     "execution_count": 15,
     "metadata": {},
     "output_type": "execute_result"
    }
   ],
   "source": [
    "us_hap_filter"
   ]
  },
  {
   "cell_type": "code",
   "execution_count": 16,
   "metadata": {},
   "outputs": [
    {
     "data": {
      "text/plain": [
       "(12006, 7)"
      ]
     },
     "execution_count": 16,
     "metadata": {},
     "output_type": "execute_result"
    }
   ],
   "source": [
    "us_hap_filter.shape"
   ]
  },
  {
   "cell_type": "markdown",
   "metadata": {},
   "source": [
    "### Observations\n",
    "\n",
    "Final data to export contains 12006 rows and 7 columns that are relevant for analysis. Columns include date, week, state, happiness ratings, and some potentially related details about the person being surveyed."
   ]
  },
  {
   "cell_type": "markdown",
   "metadata": {},
   "source": [
    "## Exported to clean csv titled us_hap_cleaned.csv"
   ]
  },
  {
   "cell_type": "code",
   "execution_count": 17,
   "metadata": {},
   "outputs": [],
   "source": [
    "# Making clean csv with these changes\n",
    "us_hap_filter.to_csv('../data/cleaned_data/2020/us_hap_cleaned.csv')"
   ]
  },
  {
   "cell_type": "markdown",
   "metadata": {},
   "source": [
    "## Now looking at COVID-19 cases data in US"
   ]
  },
  {
   "cell_type": "code",
   "execution_count": 18,
   "metadata": {},
   "outputs": [
    {
     "data": {
      "text/plain": [
       "(3340, 328)"
      ]
     },
     "execution_count": 18,
     "metadata": {},
     "output_type": "execute_result"
    }
   ],
   "source": [
    "us_covid.shape"
   ]
  },
  {
   "cell_type": "code",
   "execution_count": 19,
   "metadata": {
    "scrolled": true
   },
   "outputs": [
    {
     "data": {
      "text/plain": [
       "<bound method Index.unique of Index(['UID', 'iso2', 'iso3', 'code3', 'FIPS', 'Admin2', 'Province_State',\n",
       "       'Country_Region', 'Lat', 'Long_',\n",
       "       ...\n",
       "       '11/24/20', '11/25/20', '11/26/20', '11/27/20', '11/28/20', '11/29/20',\n",
       "       '11/30/20', '12/1/20', '12/2/20', '12/3/20'],\n",
       "      dtype='object', length=328)>"
      ]
     },
     "execution_count": 19,
     "metadata": {},
     "output_type": "execute_result"
    }
   ],
   "source": [
    "us_covid.columns.unique"
   ]
  },
  {
   "cell_type": "markdown",
   "metadata": {},
   "source": [
    "### Observations\n",
    "\n",
    "Need to select which columns are actually relevant to analysis based on codebook. Dates are provided in the columns (328 columns total) and 3340 rows. "
   ]
  },
  {
   "cell_type": "code",
   "execution_count": 20,
   "metadata": {},
   "outputs": [],
   "source": [
    "date_cols = us_covid.columns[11:]"
   ]
  },
  {
   "cell_type": "code",
   "execution_count": 21,
   "metadata": {},
   "outputs": [],
   "source": [
    "### make dates into one column\n",
    "us_covid= us_covid.melt(id_vars = us_covid.columns[6],\n",
    "             value_vars = date_cols,\n",
    "             var_name = 'date',\n",
    "             value_name = 'cases')"
   ]
  },
  {
   "cell_type": "code",
   "execution_count": 22,
   "metadata": {},
   "outputs": [],
   "source": [
    "us_covid['date']=pd.to_datetime(us_covid['date'])"
   ]
  },
  {
   "cell_type": "code",
   "execution_count": 23,
   "metadata": {
    "scrolled": false
   },
   "outputs": [
    {
     "data": {
      "text/html": [
       "<div>\n",
       "<style scoped>\n",
       "    .dataframe tbody tr th:only-of-type {\n",
       "        vertical-align: middle;\n",
       "    }\n",
       "\n",
       "    .dataframe tbody tr th {\n",
       "        vertical-align: top;\n",
       "    }\n",
       "\n",
       "    .dataframe thead th {\n",
       "        text-align: right;\n",
       "    }\n",
       "</style>\n",
       "<table border=\"1\" class=\"dataframe\">\n",
       "  <thead>\n",
       "    <tr style=\"text-align: right;\">\n",
       "      <th></th>\n",
       "      <th>Province_State</th>\n",
       "      <th>date</th>\n",
       "      <th>cases</th>\n",
       "    </tr>\n",
       "  </thead>\n",
       "  <tbody>\n",
       "    <tr>\n",
       "      <th>0</th>\n",
       "      <td>Alabama</td>\n",
       "      <td>2020-01-22</td>\n",
       "      <td>0</td>\n",
       "    </tr>\n",
       "    <tr>\n",
       "      <th>1</th>\n",
       "      <td>Alabama</td>\n",
       "      <td>2020-01-22</td>\n",
       "      <td>0</td>\n",
       "    </tr>\n",
       "    <tr>\n",
       "      <th>2</th>\n",
       "      <td>Alabama</td>\n",
       "      <td>2020-01-22</td>\n",
       "      <td>0</td>\n",
       "    </tr>\n",
       "    <tr>\n",
       "      <th>3</th>\n",
       "      <td>Alabama</td>\n",
       "      <td>2020-01-22</td>\n",
       "      <td>0</td>\n",
       "    </tr>\n",
       "    <tr>\n",
       "      <th>4</th>\n",
       "      <td>Alabama</td>\n",
       "      <td>2020-01-22</td>\n",
       "      <td>0</td>\n",
       "    </tr>\n",
       "    <tr>\n",
       "      <th>...</th>\n",
       "      <td>...</td>\n",
       "      <td>...</td>\n",
       "      <td>...</td>\n",
       "    </tr>\n",
       "    <tr>\n",
       "      <th>1058775</th>\n",
       "      <td>Wyoming</td>\n",
       "      <td>2020-12-03</td>\n",
       "      <td>1693</td>\n",
       "    </tr>\n",
       "    <tr>\n",
       "      <th>1058776</th>\n",
       "      <td>Wyoming</td>\n",
       "      <td>2020-12-03</td>\n",
       "      <td>1149</td>\n",
       "    </tr>\n",
       "    <tr>\n",
       "      <th>1058777</th>\n",
       "      <td>Wyoming</td>\n",
       "      <td>2020-12-03</td>\n",
       "      <td>0</td>\n",
       "    </tr>\n",
       "    <tr>\n",
       "      <th>1058778</th>\n",
       "      <td>Wyoming</td>\n",
       "      <td>2020-12-03</td>\n",
       "      <td>497</td>\n",
       "    </tr>\n",
       "    <tr>\n",
       "      <th>1058779</th>\n",
       "      <td>Wyoming</td>\n",
       "      <td>2020-12-03</td>\n",
       "      <td>419</td>\n",
       "    </tr>\n",
       "  </tbody>\n",
       "</table>\n",
       "<p>1058780 rows × 3 columns</p>\n",
       "</div>"
      ],
      "text/plain": [
       "        Province_State       date  cases\n",
       "0              Alabama 2020-01-22      0\n",
       "1              Alabama 2020-01-22      0\n",
       "2              Alabama 2020-01-22      0\n",
       "3              Alabama 2020-01-22      0\n",
       "4              Alabama 2020-01-22      0\n",
       "...                ...        ...    ...\n",
       "1058775        Wyoming 2020-12-03   1693\n",
       "1058776        Wyoming 2020-12-03   1149\n",
       "1058777        Wyoming 2020-12-03      0\n",
       "1058778        Wyoming 2020-12-03    497\n",
       "1058779        Wyoming 2020-12-03    419\n",
       "\n",
       "[1058780 rows x 3 columns]"
      ]
     },
     "execution_count": 23,
     "metadata": {},
     "output_type": "execute_result"
    }
   ],
   "source": [
    "us_covid"
   ]
  },
  {
   "cell_type": "markdown",
   "metadata": {},
   "source": [
    "### Observations\n",
    "\n",
    "Final dataset contains the 3 columns of interest (location, date, and cases)"
   ]
  },
  {
   "cell_type": "markdown",
   "metadata": {},
   "source": [
    "## Exported to clean csv titled us_covid.csv"
   ]
  },
  {
   "cell_type": "code",
   "execution_count": 24,
   "metadata": {},
   "outputs": [],
   "source": [
    "# Making clean csv with these changes\n",
    "us_covid.to_csv('../data/cleaned_data/2020/us_covid.csv')"
   ]
  },
  {
   "cell_type": "code",
   "execution_count": null,
   "metadata": {},
   "outputs": [],
   "source": []
  }
 ],
 "metadata": {
  "kernelspec": {
   "display_name": "Python 3",
   "language": "python",
   "name": "python3"
  },
  "language_info": {
   "codemirror_mode": {
    "name": "ipython",
    "version": 3
   },
   "file_extension": ".py",
   "mimetype": "text/x-python",
   "name": "python",
   "nbconvert_exporter": "python",
   "pygments_lexer": "ipython3",
   "version": "3.7.3"
  }
 },
 "nbformat": 4,
 "nbformat_minor": 2
}
