{
 "cells": [
  {
   "cell_type": "markdown",
   "metadata": {},
   "source": [
    "# Visualization for Happiness vs. Cases 2020 "
   ]
  },
  {
   "cell_type": "markdown",
   "metadata": {},
   "source": [
    "## Purpose of this notebook"
   ]
  },
  {
   "cell_type": "markdown",
   "metadata": {},
   "source": [
    "- This is a large chunk of code used to generate small multiples plot for the 8 countries between happiness ratings and cases. To minimize the length of the code box in the final data story, part of the background code is found here, which is run as a notebook in the final data story notebook."
   ]
  },
  {
   "cell_type": "code",
   "execution_count": 1,
   "metadata": {},
   "outputs": [],
   "source": [
    "import pandas as pd\n",
    "import matplotlib.pyplot as plt\n",
    "from matplotlib.lines import Line2D\n",
    "import plotly_express as px\n",
    "import seaborn as sns\n",
    "import math\n",
    "\n",
    "import warnings\n",
    "warnings.simplefilter('ignore')\n",
    "import statsmodels.formula.api as smf"
   ]
  },
  {
   "cell_type": "code",
   "execution_count": 2,
   "metadata": {},
   "outputs": [],
   "source": [
    "denmark_df_daily= pd.read_csv('../data/exported_subset_data/happiness_2020/interpolated_denmark.csv')\n",
    "finland_df_daily= pd.read_csv('../data/exported_subset_data/happiness_2020/interpolated_finland.csv')\n",
    "india_df_daily= pd.read_csv('../data/exported_subset_data/happiness_2020/interpolated_india.csv')\n",
    "ushap_daily= pd.read_csv('../data/exported_subset_data/happiness_2020/interpolated_us.csv')\n",
    "mexico_df_daily= pd.read_csv('../data/exported_subset_data/happiness_2020/interpolated_mexico.csv')\n",
    "china_df_daily= pd.read_csv('../data/exported_subset_data/happiness_2020/interpolated_china.csv')\n",
    "sa_df_daily=pd.read_csv('../data/exported_subset_data/happiness_2020/interpolated_saudi_arabia.csv')\n",
    "malaysia_df_daily=pd.read_csv('../data/exported_subset_data/happiness_2020/interpolated_malaysia.csv')\n",
    "\n",
    "denmark_cov= pd.read_csv('../data/exported_subset_data/covid/covid_denmark.csv')\n",
    "finland_cov= pd.read_csv('../data/exported_subset_data/covid/covid_finland.csv')\n",
    "india_cov= pd.read_csv('../data/exported_subset_data/covid/covid_india.csv')\n",
    "us_cov=pd.read_csv('../data/exported_subset_data/covid/covid_us.csv')\n",
    "mexico_cov=pd.read_csv('../data/exported_subset_data/covid/covid_mexico.csv')\n",
    "china_cov=pd.read_csv('../data/exported_subset_data/covid/covid_china.csv')\n",
    "sa_cov=pd.read_csv('../data/exported_subset_data/covid/covid_saudi_arabia.csv')\n",
    "malaysia_cov=pd.read_csv('../data/exported_subset_data/covid/covid_malaysia.csv')"
   ]
  },
  {
   "cell_type": "code",
   "execution_count": 3,
   "metadata": {},
   "outputs": [],
   "source": [
    "denmark_df_daily.drop(columns='date.1')\n",
    "denmark_df_daily=denmark_df_daily.set_index(pd.to_datetime(denmark_df_daily['date']))\n",
    "denmark_cov=denmark_cov.set_index(pd.to_datetime(denmark_cov['date']))\n",
    "\n",
    "finland_df_daily.drop(columns='date.1')\n",
    "finland_df_daily=finland_df_daily.set_index(pd.to_datetime(finland_df_daily['date']))\n",
    "finland_cov=finland_cov.set_index(pd.to_datetime(finland_cov['date']))\n",
    "\n",
    "india_df_daily.drop(columns='date.1')\n",
    "india_df_daily=india_df_daily.set_index(pd.to_datetime(india_df_daily['date']))\n",
    "india_cov=india_cov.set_index(pd.to_datetime(india_cov['date']))\n",
    "\n",
    "ushap_daily.drop(columns='date.1')\n",
    "ushap_daily=ushap_daily.set_index(pd.to_datetime(ushap_daily['date']))\n",
    "us_cov=us_cov.set_index(pd.to_datetime(us_cov['date']))\n",
    "\n",
    "mexico_df_daily.drop(columns='date.1')\n",
    "mexico_df_daily=mexico_df_daily.set_index(pd.to_datetime(mexico_df_daily['date']))\n",
    "mexico_cov=mexico_cov.set_index(pd.to_datetime(mexico_cov['date']))\n",
    "\n",
    "china_df_daily.drop(columns='date.1')\n",
    "china_df_daily=china_df_daily.set_index(pd.to_datetime(china_df_daily['date']))\n",
    "china_cov=china_cov.set_index(pd.to_datetime(china_cov['date']))\n",
    "\n",
    "sa_df_daily.drop(columns='date.1')\n",
    "sa_df_daily=sa_df_daily.set_index(pd.to_datetime(sa_df_daily['date']))\n",
    "sa_cov=sa_cov.set_index(pd.to_datetime(sa_cov['date']))\n",
    "\n",
    "malaysia_df_daily.drop(columns='date.1')\n",
    "malaysia_df_daily=malaysia_df_daily.set_index(pd.to_datetime(malaysia_df_daily['date']))\n",
    "malaysia_cov=malaysia_cov.set_index(pd.to_datetime(malaysia_cov['date']))\n",
    "\n"
   ]
  },
  {
   "cell_type": "code",
   "execution_count": 4,
   "metadata": {},
   "outputs": [],
   "source": [
    "ax1a=denmark_df_daily.resample('3D').interpolate().rolling('10D')['happiness_rating'].mean()\n",
    "ax1b=denmark_cov.rolling(7).mean()['daily_change']\n",
    "\n",
    "ax2a=finland_df_daily.resample('5D').interpolate().rolling('10D')['happiness_rating'].mean()\n",
    "ax2b=finland_cov.rolling(7).mean()['daily_change']\n",
    "\n",
    "ax3a=ushap_daily.resample('3D').interpolate().rolling('10D')['happiness_rating'].mean()\n",
    "ax3b=us_cov.rolling(7).mean()['daily_change']\n",
    "\n",
    "ax4a=sa_df_daily.resample('D').interpolate().rolling('10D')['happiness_rating'].mean()\n",
    "ax4b=sa_cov.rolling(7).mean()['daily_change']\n",
    "\n",
    "ax5a=mexico_df_daily.resample('D').interpolate().rolling('10D')['happiness_rating'].mean()\n",
    "ax5b=mexico_cov.rolling(7).mean()['daily_change']\n",
    "\n",
    "ax6a=malaysia_df_daily.resample('3D').interpolate().rolling('10D')['happiness_rating'].mean()\n",
    "ax6b=malaysia_cov.rolling(7).mean()['daily_change']\n",
    "\n",
    "ax7a=china_df_daily.resample('5D').interpolate().rolling('10D')['happiness_rating'].mean()\n",
    "ax7b=china_cov.rolling(7).mean()['daily_change']\n",
    "\n",
    "ax8a=india_df_daily.resample('D').interpolate().rolling('10D')['happiness_rating'].mean()\n",
    "ax8b=india_cov.rolling(7).mean()['daily_change']\n"
   ]
  },
  {
   "cell_type": "code",
   "execution_count": null,
   "metadata": {},
   "outputs": [],
   "source": []
  }
 ],
 "metadata": {
  "kernelspec": {
   "display_name": "Python 3",
   "language": "python",
   "name": "python3"
  },
  "language_info": {
   "codemirror_mode": {
    "name": "ipython",
    "version": 3
   },
   "file_extension": ".py",
   "mimetype": "text/x-python",
   "name": "python",
   "nbconvert_exporter": "python",
   "pygments_lexer": "ipython3",
   "version": "3.7.3"
  }
 },
 "nbformat": 4,
 "nbformat_minor": 2
}
